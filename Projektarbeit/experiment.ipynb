{
 "cells": [
  {
   "cell_type": "code",
   "execution_count": null,
   "metadata": {},
   "outputs": [],
   "source": [
    "# Importe\n",
    "import pandas as pd\n",
    "import numpy as np\n",
    "import plotly.express as px\n",
    "import matplotlib.pyplot as plt\n",
    "from sklearn import datasets\n",
    "from sklearn.model_selection import train_test_split\n",
    "from sklearn.metrics import confusion_matrix, ConfusionMatrixDisplay\n",
    "import seaborn as sns\n",
    "\n",
    "from sklearn.tree import DecisionTreeClassifier\n",
    "from sklearn.ensemble import RandomForestClassifier\n",
    "from sklearn.linear_model import LinearRegression\n",
    "from sklearn.svm import LinearSVC\n",
    "from sklearn.naive_bayes import GaussianNB\n",
    "from sklearn.discriminant_analysis import LinearDiscriminantAnalysis\n",
    "\n",
    "#import graphviz\n",
    "from sklearn import tree\n",
    "from matplotlib.dates import DateFormatter\n",
    "import datetime as dt\n",
    "from pandas import DataFrame\n",
    "from sklearn.preprocessing import MinMaxScaler\n",
    "from sklearn.preprocessing import StandardScaler\n",
    "from sklearn.decomposition import PCA"
   ]
  },
  {
   "cell_type": "code",
   "execution_count": null,
   "metadata": {},
   "outputs": [],
   "source": [
    "df = pd.read_csv('dataset_train.csv')\n",
    "\n",
    "df['timestamp'] = pd.to_datetime(df['timestamp'])\n",
    "#Aus Tabelle\n",
    "err_1_start = dt.datetime(2022,2,28,21,53)\n",
    "err_1_end = dt.datetime(2022,3,1,2,00)\n",
    "err_2_start = dt.datetime(2022,3,23,14,54)\n",
    "err_2_end = dt.datetime(2022,3,23,15,24)\n",
    "err_3_start = dt.datetime(2022,5,30,12,00)\n",
    "err_3_end = dt.datetime(2022,6,2,6,18)\n",
    "\n",
    "df['Label'] = np.where(\n",
    "    ((df['timestamp'] >= err_1_start) & (df['timestamp'] <= err_1_end)) |\n",
    "    ((df['timestamp'] >= err_2_start) & (df['timestamp'] <= err_2_end)) | \n",
    "    ((df['timestamp'] >= err_3_start) & (df['timestamp'] <= err_3_end)), 1, 0)"
   ]
  },
  {
   "cell_type": "code",
   "execution_count": null,
   "metadata": {},
   "outputs": [],
   "source": [
    "oil = df[['Oil_temperature', 'Label', 'timestamp']]"
   ]
  },
  {
   "cell_type": "code",
   "execution_count": null,
   "metadata": {},
   "outputs": [],
   "source": [
    "t = np.linspace(0, 10, 1000)\n",
    "\n",
    "def sin(t, A, F):\n",
    "    return A * np.sin(2 * np.pi * F * t)\n",
    "\n",
    "y = sin(t, 1, 1) + sin(t, 0.5, 2) + sin(t, 0.25, 4) + sin(t, 0.125, 8)\n",
    "\n",
    "#plot with plotly\n",
    "fig = px.line(x=t, y=y)\n",
    "fig.show()"
   ]
  },
  {
   "cell_type": "code",
   "execution_count": null,
   "metadata": {},
   "outputs": [],
   "source": [
    "def yfft(y):\n",
    "    hanning = np.hanning(len(y))\n",
    "    yf = 4*np.abs(np.fft.rfft(y*hanning))/len(y)\n",
    "    return yf\n",
    "\n",
    "def xfft(blocksize, duration):\n",
    "    return np.fft.rfftfreq(blocksize, duration)"
   ]
  },
  {
   "cell_type": "code",
   "execution_count": null,
   "metadata": {},
   "outputs": [],
   "source": [
    "y_fft = yfft(y)\n",
    "x_fft = xfft(len(t), t[1]-t[0])\n",
    "\n",
    "px.bar(x=x_fft, y=y_fft)"
   ]
  },
  {
   "cell_type": "code",
   "execution_count": null,
   "metadata": {},
   "outputs": [],
   "source": [
    "#blocksize\n",
    "BLOCKSIZE = 1024\n",
    "HIGHEST_FREQU = 1000\n",
    "\n",
    "#number of blocks\n",
    "nblocks = int(len(oil)/BLOCKSIZE)\n",
    "\n",
    "data = []\n",
    "\n",
    "#TODO:\n",
    "#Notiz an mich:\n",
    "#Prüfen in der Loop ob der zug ausgeschaltet wird, wenn ja block droppen!\n",
    "\n",
    "X_f = xfft(BLOCKSIZE, 1)\n",
    "X_f = X_f[X_f<HIGHEST_FREQU]\n",
    "for i in range(nblocks):\n",
    "    df_block = oil.iloc[i*BLOCKSIZE:(i+1)*BLOCKSIZE]\n",
    "\n",
    "\n",
    "    iserr    = df_block['Label'].sum() > BLOCKSIZE/2\n",
    "    fft_amp  = yfft(df_block['Oil_temperature'])[:len(X_f)]\n",
    "    block_data = {'iserr': iserr}\n",
    "    block_data.update({f'':amp for i,amp in enumerate(fft_amp)})\n",
    "    data.append(block_data)"
   ]
  },
  {
   "cell_type": "code",
   "execution_count": null,
   "metadata": {},
   "outputs": [],
   "source": [
    "def fourier(blocksize, max_freq, series, name):\n",
    "\n",
    "    #number of blocks\n",
    "    nblocks = int(len(series)/blocksize)\n",
    "\n",
    "    data = []\n",
    "\n",
    "    X_f = xfft(blocksize, 1)\n",
    "    X_f = X_f[X_f<max_freq]\n",
    "    for i in range(nblocks):\n",
    "        sr_block = series[i*blocksize:(i+1)*blocksize]\n",
    "        # iserr    = df_block['Label'].sum() > BLOCKSIZE/2\n",
    "        fft_amp  = yfft(sr_block)[:len(X_f)]\n",
    "        # block_data = {'iserr': iserr}\n",
    "        data.append({f'{name}_{j}':amp for j,amp in enumerate(fft_amp)})\n",
    "\n",
    "    return pd.DataFrame(data)\n",
    "\n",
    "def getError(blocksize, series, name):\n",
    "    #number of blocks\n",
    "    nblocks = int(len(series)/blocksize)\n",
    "\n",
    "    data = []\n",
    "\n",
    "    for i in range(nblocks):\n",
    "        sr_block = series[i*blocksize:(i+1)*blocksize]\n",
    "\n",
    "        iserr    = sr_block.sum() > blocksize/2\n",
    "        # block_data = {'iserr': iserr}\n",
    "        data.append({f'{name}':iserr})\n",
    "\n",
    "    return pd.DataFrame(data)"
   ]
  },
  {
   "cell_type": "code",
   "execution_count": null,
   "metadata": {},
   "outputs": [],
   "source": [
    "df_features = pd.DataFrame()\n",
    "\n",
    "blocks = 750\n",
    "\n",
    "tp3 = fourier(blocks,1000, df['TP3'], 'TP3')\n",
    "oil = fourier(blocks, 1000, df['Oil_temperature'], 'Oil')\n",
    "res = fourier(blocks, 1000, df['Reservoirs'], 'Res')\n",
    "errors = getError(blocks, df['Label'], 'Error')\n",
    "motCurr = fourier(blocks, 1000, df['Motor_current'], 'MotCurr')\n",
    "\n",
    "df_features = pd.concat([df_features, tp3, oil,errors, res, motCurr], axis=1)\n",
    "df_features"
   ]
  },
  {
   "cell_type": "code",
   "execution_count": null,
   "metadata": {},
   "outputs": [],
   "source": [
    "#decision tree\n",
    "X = df_features.drop('Error', axis=1)\n",
    "y = df_features['Error']\n",
    "\n",
    "X_train, X_test, y_train, y_test = train_test_split(X, y, test_size=0.2, random_state=42, stratify=y)\n",
    "\n",
    "clf = DecisionTreeClassifier()\n",
    "clf.fit(X_train, y_train)\n",
    "\n",
    "y_pred = clf.predict(X_test)\n",
    "\n",
    "cm = confusion_matrix(y_test, y_pred)\n",
    "disp = ConfusionMatrixDisplay(confusion_matrix=cm, display_labels=clf.classes_)\n",
    "disp.plot()"
   ]
  },
  {
   "cell_type": "code",
   "execution_count": null,
   "metadata": {},
   "outputs": [],
   "source": [
    "#random forest\n",
    "clf = RandomForestClassifier()\n",
    "clf.fit(X_train, y_train)\n",
    "cm = confusion_matrix(y_test, y_pred)\n",
    "disp = ConfusionMatrixDisplay(confusion_matrix=cm, display_labels=clf.classes_)\n",
    "disp.plot()"
   ]
  },
  {
   "cell_type": "code",
   "execution_count": null,
   "metadata": {},
   "outputs": [],
   "source": [
    "x= list(df_features.columns.values)\n",
    "x.remove('Error')\n",
    "\n",
    "\n",
    "np.nan == np.nan"
   ]
  },
  {
   "cell_type": "code",
   "execution_count": null,
   "metadata": {},
   "outputs": [],
   "source": [
    "featureColls = list(df_features.columns.values)\n",
    "featureColls.remove('Error')\n",
    "\n",
    "importances = clf.feature_importances_\n",
    "forest = clf\n",
    "forest_importances = pd.Series(importances, index=featureColls)\n",
    "std = np.std([tree.feature_importances_ for tree in forest.estimators_], axis=0)\n",
    "fig, ax = plt.subplots()\n",
    "forest_importances.plot.bar(yerr=std, ax=ax)\n",
    "ax.set_title(\"Feature importances using MDI\")\n",
    "ax.set_ylabel(\"Mean decrease in impurity\")\n",
    "fig.set_figheight(15)\n",
    "fig.set_figwidth(30)\n",
    "fig.tight_layout()\n",
    "fig.show()"
   ]
  },
  {
   "cell_type": "code",
   "execution_count": null,
   "metadata": {},
   "outputs": [],
   "source": [
    "1/xfft(1024, 1)[73]"
   ]
  },
  {
   "cell_type": "code",
   "execution_count": null,
   "metadata": {},
   "outputs": [],
   "source": [
    "px.bar(x=featureColls, y=forest_importances)"
   ]
  },
  {
   "cell_type": "code",
   "execution_count": null,
   "metadata": {},
   "outputs": [],
   "source": [
    "oil['hasCut'] = oil['timestamp'].diff(1).dt.total_seconds() != 1"
   ]
  },
  {
   "cell_type": "code",
   "execution_count": null,
   "metadata": {},
   "outputs": [],
   "source": [
    "oil"
   ]
  },
  {
   "cell_type": "code",
   "execution_count": null,
   "metadata": {},
   "outputs": [],
   "source": [
    "oil_df = pd.DataFrame(data)\n",
    "\n",
    "f_cols = [c for c in oil_df.columns if c != \"iserr\"]\n",
    "scaler = MinMaxScaler()\n",
    "# oil_df[f_cols] = scaler.fit_transform(oil_df[f_cols])\n",
    "oil_df"
   ]
  },
  {
   "cell_type": "markdown",
   "metadata": {},
   "source": []
  },
  {
   "cell_type": "code",
   "execution_count": null,
   "metadata": {},
   "outputs": [],
   "source": [
    "fig = px.imshow(oil_df[[c for c in oil_df.columns if not c in ([\"iserr\"])]].T, height=700)\n",
    "fig.add_scatter(y=oil_df[\"iserr\"])\n",
    "fig\n",
    "#px.bar (x=xfft(BLOCKSIZE, 1), y=data[0])"
   ]
  },
  {
   "cell_type": "code",
   "execution_count": null,
   "metadata": {},
   "outputs": [],
   "source": [
    "# #train test\n",
    "# #df_train, df_test = train_test_split(oil_df, test_size=0.2,shuffle=False, stratify=oil_df['iserr'])\n",
    "# df_train = oil_df.iloc[2800:10400] \n",
    "# df_train.loc[df_train.index < 6500, \"iserr\"] = False\n",
    "\n",
    "# df_test = pd.concat([oil_df.iloc[:2800], oil_df.iloc[10400:]])\n",
    "\n",
    "# y_train = df_train['iserr']\n",
    "# y_test = df_test['iserr']\n",
    "\n",
    "\n",
    "# X_train = df_train.drop(columns=['iserr'])\n",
    "# X_test = df_test.drop(columns=['iserr'])\n",
    "\n",
    "# #model\n",
    "# model = DecisionTreeClassifier()\n",
    "# model.fit(X_train, y_train)\n",
    "\n",
    "# y_pred = model.predict(X_test)\n",
    "# y_true = y_test\n",
    "\n",
    "# #confusion matrix\n",
    "# cm = confusion_matrix(y_true, y_pred)\n",
    "# disp = ConfusionMatrixDisplay(confusion_matrix=cm, display_labels=model.classes_)\n",
    "# disp.plot()"
   ]
  },
  {
   "cell_type": "code",
   "execution_count": null,
   "metadata": {},
   "outputs": [],
   "source": [
    "#train test\n",
    "df_train, df_test = train_test_split(oil_df, test_size=0.2,shuffle=True, stratify=oil_df['iserr'])\n",
    "y_train = df_train['iserr']\n",
    "y_test = df_test['iserr']\n",
    "#y_train = oil_df['iserr']\n",
    "\n",
    "\n",
    "X_train = df_train.drop(columns=['iserr'])\n",
    "#X_train = oil_df.drop(columns=['iserr'])\n",
    "X_test = df_test.drop(columns=['iserr'])\n",
    "\n",
    "#model\n",
    "model = DecisionTreeClassifier()\n",
    "model.fit(X_train, y_train)"
   ]
  },
  {
   "cell_type": "code",
   "execution_count": null,
   "metadata": {},
   "outputs": [],
   "source": [
    "y_pred = model.predict(X_test)\n",
    "y_true = y_test\n",
    "\n",
    "#confusion matrix\n",
    "cm = confusion_matrix(y_true, y_pred)\n",
    "disp = ConfusionMatrixDisplay(confusion_matrix=cm, display_labels=model.classes_)\n",
    "disp.plot()"
   ]
  },
  {
   "cell_type": "code",
   "execution_count": null,
   "metadata": {},
   "outputs": [],
   "source": [
    "#transform false to 0 and true to 1\n",
    "oil_df['iserr'] = oil_df['iserr'].astype(int)\n",
    "y = y_test.astype(int)\n",
    "\n",
    "y.plot()"
   ]
  },
  {
   "cell_type": "code",
   "execution_count": null,
   "metadata": {},
   "outputs": [],
   "source": []
  }
 ],
 "metadata": {
  "kernelspec": {
   "display_name": "Python 3.9.16 ('MachineLearning')",
   "language": "python",
   "name": "python3"
  },
  "language_info": {
   "codemirror_mode": {
    "name": "ipython",
    "version": 3
   },
   "file_extension": ".py",
   "mimetype": "text/x-python",
   "name": "python",
   "nbconvert_exporter": "python",
   "pygments_lexer": "ipython3",
   "version": "3.9.16"
  },
  "orig_nbformat": 4,
  "vscode": {
   "interpreter": {
    "hash": "dc9b5ad24f7c64b5a327ba84ead6ad3fbc2ebc7246c1e6195a5d7b169b73b46a"
   }
  }
 },
 "nbformat": 4,
 "nbformat_minor": 2
}
