{
 "cells": [
  {
   "cell_type": "markdown",
   "id": "c87dd0cd",
   "metadata": {},
   "source": [
    "# Studienarbeit: Machine Learning\n",
    "#### Saniye Ogul und Johannes Horst"
   ]
  },
  {
   "cell_type": "code",
   "execution_count": null,
   "id": "7a5273be",
   "metadata": {},
   "outputs": [],
   "source": []
  }
 ],
 "metadata": {
  "kernelspec": {
   "display_name": "Python 3.9.16 ('MachineLearning')",
   "language": "python",
   "name": "python3"
  },
  "language_info": {
   "codemirror_mode": {
    "name": "ipython",
    "version": 3
   },
   "file_extension": ".py",
   "mimetype": "text/x-python",
   "name": "python",
   "nbconvert_exporter": "python",
   "pygments_lexer": "ipython3",
   "version": "3.9.16"
  },
  "vscode": {
   "interpreter": {
    "hash": "dc9b5ad24f7c64b5a327ba84ead6ad3fbc2ebc7246c1e6195a5d7b169b73b46a"
   }
  }
 },
 "nbformat": 4,
 "nbformat_minor": 5
}
