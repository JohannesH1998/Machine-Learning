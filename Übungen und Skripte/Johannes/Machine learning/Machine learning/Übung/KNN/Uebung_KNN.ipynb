{
 "cells": [
  {
   "cell_type": "markdown",
   "metadata": {},
   "source": [
    "# Übung 1"
   ]
  },
  {
   "cell_type": "markdown",
   "metadata": {},
   "source": [
    "In dieser Übung beschäftigen Sie sich mit dem kNN Verfahren und mit der Machine-Learning Bibliothek <a href=\"https://scikit-learn.org/stable/\">sklearn</a>. \n",
    "\n",
    "Die Datensätze werden im weiteren Verlauf der Vorlesung häufig als <a href=\"https://numpy.org/\">Numpy</a>-Arrays oder als <a href=\"https://pandas.pydata.org/\">pandas</a>-Dataframes eingelesen und verarbeitet. Eine gute Einführung in diese beiden Bibliotheken bietet das Buch <a href=\"https://ebookcentral.proquest.com/lib/othaw/detail.action?docID=5572584\">Datenanalyse mit Python</a>, das inzwischen aus dem Hochschulnetz kostenlos als E-Book verfügbar ist."
   ]
  },
  {
   "cell_type": "markdown",
   "metadata": {},
   "source": [
    "Zuerst werden ein paar Module importiert:"
   ]
  },
  {
   "cell_type": "code",
   "execution_count": 3,
   "metadata": {},
   "outputs": [],
   "source": [
    "import pandas as pd\n",
    "import numpy as np"
   ]
  },
  {
   "cell_type": "code",
   "execution_count": 4,
   "metadata": {},
   "outputs": [],
   "source": [
    "from sklearn import datasets\n",
    "from sklearn.model_selection import train_test_split"
   ]
  },
  {
   "cell_type": "markdown",
   "metadata": {},
   "source": [
    "In den folgenden Aufgaben soll mit dem Iris-Datensatz gearbeitet werden. Dazu wird er geladen:"
   ]
  },
  {
   "cell_type": "code",
   "execution_count": 5,
   "metadata": {},
   "outputs": [],
   "source": [
    "iris = datasets.load_iris()\n",
    "X = iris.data\n",
    "y = iris.target"
   ]
  },
  {
   "cell_type": "markdown",
   "metadata": {},
   "source": [
    "#### Visualisierung"
   ]
  },
  {
   "cell_type": "markdown",
   "metadata": {},
   "source": [
    "Die Bibliothek Matplotlib stellt Funktionalität zur Visualisierung bereit. Eine umfangreiche Sammlung an Beispielen finden Sie <a href=\"https://matplotlib.org/gallery.html#\">hier</a>. Wir wollen den Iris-Datensatz visualisieren und zeichnen dazu zwei Streudiagramme."
   ]
  },
  {
   "cell_type": "code",
   "execution_count": 6,
   "metadata": {},
   "outputs": [
    {
     "data": {
      "text/plain": [
       "<matplotlib.legend.Legend at 0x1c838e7b550>"
      ]
     },
     "execution_count": 6,
     "metadata": {},
     "output_type": "execute_result"
    },
    {
     "data": {
      "image/png": "[encoded data removed]",
      "text/plain": [
       "<Figure size 1080x360 with 2 Axes>"
      ]
     },
     "metadata": {
      "needs_background": "light"
     },
     "output_type": "display_data"
    }
   ],
   "source": [
    "import matplotlib.pyplot as plt\n",
    "%matplotlib inline\n",
    "\n",
    "f, (ax1, ax2) = plt.subplots(1, 2, figsize=(15,5))\n",
    "\n",
    "ax1.scatter(X[y==0,0], X[y==0,1], c='blue')\n",
    "ax1.scatter(X[y==1,0], X[y==1,1], c='orange')\n",
    "ax1.scatter(X[y==2,0], X[y==2,1], c='green')\n",
    "ax1.set_xlabel('sepal length')\n",
    "ax1.set_ylabel('sepal width')\n",
    "ax1.legend(['iris setosa','iris versicolor','iris virginica'])\n",
    "\n",
    "ax2.scatter(X[y==0,2], X[y==0,3], c='blue')\n",
    "ax2.scatter(X[y==1,2], X[y==1,3], c='orange')\n",
    "ax2.scatter(X[y==2,2], X[y==2,3], c='green')\n",
    "ax2.set_xlabel('petal length')\n",
    "ax2.set_ylabel('petal width')\n",
    "ax2.legend(['iris setosa','iris versicolor','iris virginica'])"
   ]
  },
  {
   "cell_type": "markdown",
   "metadata": {},
   "source": [
    "#### Train-Test-Split"
   ]
  },
  {
   "cell_type": "markdown",
   "metadata": {},
   "source": [
    "Die Hälfte der Daten wird zum Modelltraining verwendet, die andere Hälfte zum Testen:"
   ]
  },
  {
   "cell_type": "code",
   "execution_count": 7,
   "metadata": {},
   "outputs": [],
   "source": [
    "X_train, X_test, y_train, y_test = train_test_split(X,y, test_size=0.5)"
   ]
  },
  {
   "cell_type": "markdown",
   "metadata": {},
   "source": [
    "### Aufgabe 1: KNN-Implementierung"
   ]
  },
  {
   "cell_type": "markdown",
   "metadata": {},
   "source": [
    "In dieser Aufgabe soll das KNN-Verfahren \"from scratch\" implementiert werden."
   ]
  },
  {
   "cell_type": "markdown",
   "metadata": {},
   "source": [
    "#### a) Euklidische Distanz"
   ]
  },
  {
   "cell_type": "markdown",
   "metadata": {},
   "source": [
    "Schreiben Sie eine Funktion namens **dist**, die die Euklidische Distanz zwischen zwei Punkten P1 und P2 berechnet. Verwenden Sie dazu eine *list comprehension*. Wie lautet die euklidische Distanz zwischen den beiden ersten in X_train enthaltenen Objekten?"
   ]
  },
  {
   "cell_type": "code",
   "execution_count": 33,
   "metadata": {},
   "outputs": [],
   "source": [
    "import math\n",
    "def dist(P1, P2):\n",
    "    \"\"\"\n",
    "    Parameters:\n",
    "        P1,P2 (array like): points to calculate distance\n",
    "\n",
    "    Returns:\n",
    "        Euclidean distance of P1, P2\n",
    "\n",
    "    \"\"\" \n",
    "    X1 = P1[0:2]\n",
    "    X2 = P2[2:4]\n",
    "    res = math.sqrt((X1[0]**2 - X2[0])**2 + ((X1[1] - X2[1])**2))\n",
    "    return res\n",
    "        \n",
    "    #TODO\n"
   ]
  },
  {
   "cell_type": "markdown",
   "metadata": {},
   "source": [
    "#### Test"
   ]
  },
  {
   "cell_type": "code",
   "execution_count": 35,
   "metadata": {},
   "outputs": [
    {
     "data": {
      "text/plain": [
       "54.526691628962794"
      ]
     },
     "execution_count": 35,
     "metadata": {},
     "output_type": "execute_result"
    }
   ],
   "source": [
    "dist(X_train[0], X_train[1])"
   ]
  },
  {
   "cell_type": "markdown",
   "metadata": {},
   "source": [
    "#### b) Bestimmung der nächsten Nachbarn"
   ]
  },
  {
   "cell_type": "markdown",
   "metadata": {},
   "source": [
    "Schreiben Sie eine Funktion namens **get_neighbors**, welche die Indizes der  **n_neighbors** nächsten Nachbarn eines gegebenen Punktes Q in einem Datensatz X zurückgibt.<br>\n",
    "Hinweis: die Funktion **numpy.argsort** kann hilfreich sein."
   ]
  },
  {
   "cell_type": "code",
   "execution_count": 41,
   "metadata": {},
   "outputs": [],
   "source": [
    "def get_neighbors(Q, X, n_neighbors):\n",
    "    \"\"\"\n",
    "    Computes the n_neighbors nearest neighbors of Q in X\n",
    "    \n",
    "    Parameters:\n",
    "        Q (array-like): query point\n",
    "        n_neighbors (int): number of neighbors so search\n",
    "\n",
    "    Returns:\n",
    "        array of shape = [n_neighbors, 1] containing the row indices of the \n",
    "        n_neighbors nearest neighbors of Q in X\n",
    "\n",
    "    \"\"\"\n",
    "    ret = []\n",
    "    \n",
    "    for i in X:\n",
    "        ret.append(dist(Q,i))\n",
    "        \n",
    "    ret = np.argsort(ret)\n",
    "    \n",
    "    return ret[0:n_neighbors]\n",
    "        \n",
    "    \n",
    "    #TODO"
   ]
  },
  {
   "cell_type": "code",
   "execution_count": 42,
   "metadata": {},
   "outputs": [
    {
     "data": {
      "text/plain": [
       "array([ 0, 49, 54, 17, 41], dtype=int64)"
      ]
     },
     "execution_count": 42,
     "metadata": {},
     "output_type": "execute_result"
    }
   ],
   "source": [
    "get_neighbors([4.3,5.3], X_train, 5)"
   ]
  },
  {
   "cell_type": "markdown",
   "metadata": {},
   "source": [
    "#### c) Klassifikation des Testdatensatzes"
   ]
  },
  {
   "cell_type": "markdown",
   "metadata": {},
   "source": [
    "Ermitteln Sie die Klassenzuordnung für alle Objekte des Testdatensatzes.\n",
    "Vervollständigen Sie dazu die funktion **predict**."
   ]
  },
  {
   "cell_type": "code",
   "execution_count": 72,
   "metadata": {},
   "outputs": [],
   "source": [
    "def predict(X_train, y_train, X_test, n_neighbors):\n",
    "    \"\"\"\n",
    "    Predicts the class of all objects in X_test using k-NN \n",
    "    \n",
    "    Parameters:\n",
    "        X_train (array-like): training samples of shape [n_samples,n_features]\n",
    "        y_train (array-like): training labels of shape = [n_samples]\n",
    "        X_test (array-like): test samples of shape [n_query, n_features]\n",
    "        n_neighbors (int): number of neighbors so search for\n",
    "\n",
    "    Returns:\n",
    "        array of shape = [n_query, 1] containing the predicted labels\n",
    "\n",
    "    \"\"\"\n",
    "    \n",
    "    for i in X_test:\n",
    "        tmp = np.argsort([dist(i,x) for x in X_train])[0:1]\n",
    "        print(tmp)  \n",
    "        \n",
    "            \n",
    "    \n",
    "    #TODO"
   ]
  },
  {
   "cell_type": "code",
   "execution_count": 73,
   "metadata": {},
   "outputs": [
    {
     "name": "stdout",
     "output_type": "stream",
     "text": [
      "[0]\n",
      "[0]\n",
      "[0]\n",
      "[0]\n",
      "[0]\n",
      "[0]\n",
      "[0]\n",
      "[0]\n",
      "[0]\n",
      "[0]\n",
      "[0]\n",
      "[0]\n",
      "[0]\n",
      "[0]\n",
      "[0]\n",
      "[0]\n",
      "[0]\n",
      "[0]\n",
      "[0]\n",
      "[0]\n",
      "[0]\n",
      "[0]\n",
      "[0]\n",
      "[0]\n",
      "[0]\n",
      "[0]\n",
      "[0]\n",
      "[0]\n",
      "[0]\n",
      "[0]\n",
      "[0]\n",
      "[0]\n",
      "[0]\n",
      "[0]\n",
      "[0]\n",
      "[0]\n",
      "[0]\n",
      "[0]\n",
      "[0]\n",
      "[0]\n",
      "[0]\n",
      "[0]\n",
      "[0]\n",
      "[0]\n",
      "[0]\n",
      "[0]\n",
      "[0]\n",
      "[0]\n",
      "[0]\n",
      "[0]\n",
      "[0]\n",
      "[0]\n",
      "[0]\n",
      "[0]\n",
      "[0]\n",
      "[0]\n",
      "[0]\n",
      "[0]\n",
      "[0]\n",
      "[0]\n",
      "[0]\n",
      "[0]\n",
      "[0]\n",
      "[0]\n",
      "[0]\n",
      "[0]\n",
      "[0]\n",
      "[0]\n",
      "[0]\n",
      "[0]\n",
      "[0]\n",
      "[0]\n",
      "[0]\n",
      "[0]\n",
      "[0]\n"
     ]
    }
   ],
   "source": [
    "y_hat = predict(X_train,y_train,X_test,5)\n",
    "y_hat"
   ]
  },
  {
   "cell_type": "code",
   "execution_count": 56,
   "metadata": {},
   "outputs": [
    {
     "data": {
      "text/plain": [
       "array([[6.2, 2.2, 4.5, 1.5],\n",
       "       [6.7, 3.1, 4.4, 1.4],\n",
       "       [4.6, 3.6, 1. , 0.2],\n",
       "       [5.1, 3.3, 1.7, 0.5],\n",
       "       [5.7, 2.9, 4.2, 1.3],\n",
       "       [7.2, 3. , 5.8, 1.6],\n",
       "       [4.8, 3. , 1.4, 0.3],\n",
       "       [6.3, 2.5, 4.9, 1.5],\n",
       "       [7.1, 3. , 5.9, 2.1],\n",
       "       [6.1, 2.8, 4.7, 1.2],\n",
       "       [7.3, 2.9, 6.3, 1.8],\n",
       "       [6. , 2.2, 4. , 1. ],\n",
       "       [6.9, 3.1, 5.4, 2.1],\n",
       "       [5.6, 2.7, 4.2, 1.3],\n",
       "       [6.5, 3.2, 5.1, 2. ],\n",
       "       [5.2, 4.1, 1.5, 0.1],\n",
       "       [5.7, 2.6, 3.5, 1. ],\n",
       "       [6. , 2.7, 5.1, 1.6],\n",
       "       [5. , 3.5, 1.3, 0.3],\n",
       "       [4.8, 3.1, 1.6, 0.2],\n",
       "       [5.4, 3.4, 1.5, 0.4],\n",
       "       [6.3, 2.8, 5.1, 1.5],\n",
       "       [4.8, 3.4, 1.9, 0.2],\n",
       "       [5.7, 4.4, 1.5, 0.4],\n",
       "       [7.7, 2.6, 6.9, 2.3],\n",
       "       [6.8, 2.8, 4.8, 1.4],\n",
       "       [6.7, 3.1, 5.6, 2.4],\n",
       "       [6.9, 3.2, 5.7, 2.3],\n",
       "       [4.9, 3.1, 1.5, 0.1],\n",
       "       [6.3, 2.5, 5. , 1.9],\n",
       "       [6.1, 3. , 4.9, 1.8],\n",
       "       [6.7, 3. , 5. , 1.7],\n",
       "       [4.3, 3. , 1.1, 0.1],\n",
       "       [6.3, 3.3, 6. , 2.5],\n",
       "       [6. , 3. , 4.8, 1.8],\n",
       "       [4.8, 3. , 1.4, 0.1],\n",
       "       [6.7, 3. , 5.2, 2.3],\n",
       "       [5.4, 3.7, 1.5, 0.2],\n",
       "       [6.4, 2.8, 5.6, 2.2],\n",
       "       [6.3, 3.3, 4.7, 1.6],\n",
       "       [5.6, 3. , 4.1, 1.3],\n",
       "       [5.4, 3.9, 1.7, 0.4],\n",
       "       [5. , 3.6, 1.4, 0.2],\n",
       "       [5.5, 4.2, 1.4, 0.2],\n",
       "       [4.4, 3.2, 1.3, 0.2],\n",
       "       [5. , 3.4, 1.6, 0.4],\n",
       "       [6.4, 2.7, 5.3, 1.9],\n",
       "       [5.9, 3. , 4.2, 1.5],\n",
       "       [6.7, 3.1, 4.7, 1.5],\n",
       "       [4.6, 3.1, 1.5, 0.2],\n",
       "       [6.4, 2.9, 4.3, 1.3],\n",
       "       [7.2, 3.2, 6. , 1.8],\n",
       "       [5.6, 2.9, 3.6, 1.3],\n",
       "       [6.9, 3.1, 4.9, 1.5],\n",
       "       [6.3, 3.4, 5.6, 2.4],\n",
       "       [5.9, 3.2, 4.8, 1.8],\n",
       "       [6.3, 2.7, 4.9, 1.8],\n",
       "       [5.1, 3.7, 1.5, 0.4],\n",
       "       [5.2, 3.5, 1.5, 0.2],\n",
       "       [5. , 2.3, 3.3, 1. ],\n",
       "       [5.7, 3.8, 1.7, 0.3],\n",
       "       [5.1, 3.8, 1.5, 0.3],\n",
       "       [6.5, 2.8, 4.6, 1.5],\n",
       "       [5. , 3.4, 1.5, 0.2],\n",
       "       [5.5, 2.4, 3.8, 1.1],\n",
       "       [5. , 3.3, 1.4, 0.2],\n",
       "       [5.5, 2.3, 4. , 1.3],\n",
       "       [7. , 3.2, 4.7, 1.4],\n",
       "       [5. , 3.2, 1.2, 0.2],\n",
       "       [6.3, 2.3, 4.4, 1.3],\n",
       "       [6.7, 3.3, 5.7, 2.1],\n",
       "       [6.8, 3. , 5.5, 2.1],\n",
       "       [6. , 2.9, 4.5, 1.5],\n",
       "       [5.6, 2.5, 3.9, 1.1],\n",
       "       [5.1, 2.5, 3. , 1.1]])"
      ]
     },
     "execution_count": 56,
     "metadata": {},
     "output_type": "execute_result"
    }
   ],
   "source": [
    "X_test"
   ]
  },
  {
   "cell_type": "markdown",
   "metadata": {},
   "source": [
    "#### d) Modellbewertung"
   ]
  },
  {
   "cell_type": "markdown",
   "metadata": {},
   "source": [
    "Bewerten Sie die Güte des Modells, indem Sie den Anteil der falsch klassifizierten Objekte des Trainingsdatensatzes berechnen. "
   ]
  },
  {
   "cell_type": "code",
   "execution_count": null,
   "metadata": {},
   "outputs": [],
   "source": [
    "#TODO"
   ]
  },
  {
   "cell_type": "markdown",
   "metadata": {},
   "source": [
    "### Aufgabe 2: KNN mit Scikit Learn"
   ]
  },
  {
   "cell_type": "markdown",
   "metadata": {},
   "source": [
    "Wiederholen Sie Aufgabe 1 unter Verwendung der Klasse <a href=\"https://scikit-learn.org/stable/modules/generated/sklearn.neighbors.KNeighborsClassifier.html\">KNeighborsClassifier</a> der Bibliothek sklearn. Machen Sie sich zunächst anhand der Dokumentation mit der Funktionsweise der Klasse vertraut."
   ]
  },
  {
   "cell_type": "code",
   "execution_count": null,
   "metadata": {},
   "outputs": [],
   "source": [
    "#TODO"
   ]
  },
  {
   "cell_type": "markdown",
   "metadata": {},
   "source": [
    "### Aufgabe 3: kNN mit k-d-Tree"
   ]
  },
  {
   "cell_type": "markdown",
   "metadata": {},
   "source": [
    "In dieser Aufgabe soll das kNN-Verfahren mit Hilfe eines k-d-Baums realisiert und getestet werden. <br>\n"
   ]
  },
  {
   "cell_type": "markdown",
   "metadata": {},
   "source": [
    "#### a) Implementierung eines k-d-Baums"
   ]
  },
  {
   "cell_type": "markdown",
   "metadata": {},
   "source": [
    "Vervollständigen Sie die unten stehende Klasse **KDNode** zum Aufbau eines k-d-Baums. "
   ]
  },
  {
   "cell_type": "code",
   "execution_count": null,
   "metadata": {},
   "outputs": [],
   "source": [
    "class KDTree:\n",
    "    def __init__(self):\n",
    "        self.root = KDNode()\n",
    "    \n",
    "    def construct(self, X, min_samples_leaf):    \n",
    "        \"\"\"\n",
    "        Constructs a KDTree from the data set X having at least min_samples_leaf data points in each leaf.\n",
    "        This method calls the recursive method construct from the class KDNode\n",
    "        \"\"\"    \n",
    "        self.root.construct(X, min_samples_leaf)\n",
    "        \n",
    "    def find_nearest_neighbor(self, Q):\n",
    "        \"\"\"\n",
    "        Find nearest neighbor of Q in the KDTree\n",
    "        \"\"\"  \n",
    "        return self.root.find_nearest_neighbor(Q)\n",
    "    \n",
    "    \n",
    "    \n",
    "class KDNode:\n",
    "    \"\"\"\n",
    "    The class KDNode provides the node data structure and methods to recursively construct a KDTree\n",
    "    from a given data set.\n",
    "    \"\"\" \n",
    "    \n",
    "    def __init__(self, parent=None, split_var=0):\n",
    "        self.X = None\n",
    "        self.left = None #left child of current node\n",
    "        self.right = None #right child of current node\n",
    "        self.parent = parent \n",
    "        self.thresh = np.inf\n",
    "        self.split_var = split_var\n",
    "       \n",
    "    def construct(self, X, min_samples_leaf):\n",
    "        \"\"\"\n",
    "        Recursively constructs a KDTree below the current node using the data X, cycling through the variables of X. The first split is \n",
    "        done using the variable self.split_var. A node is not split if the resulting children contained less than min_samples_leaf data points\n",
    "        \"\"\"\n",
    "        #TODO\n",
    "    \n",
    "    def find_leaf(self, Q):\n",
    "        \"\"\"\n",
    "        Finds a leaf to be searched for nearest neighbors by stepping down from the current node along the \"good path\"\n",
    "        where the entries of Q satisfy all subsequent node conditions.\n",
    "        \"\"\"\n",
    "        if self.split_var is None: #the current node is a leaf\n",
    "            return self\n",
    "        else: #step down\n",
    "            if Q[self.split_var] < self.thresh:\n",
    "                return self.left.find_leaf(Q)\n",
    "            else:\n",
    "                return self.right.find_leaf(Q)\n",
    "    \n",
    "    def get_sibling(self):\n",
    "        \"\"\"\n",
    "        Returns the sibling node of the current node.\n",
    "        \"\"\"\n",
    "        parent = self.parent\n",
    "        if parent is not None:\n",
    "            if parent.left is not self:\n",
    "                return parent.left\n",
    "            else:\n",
    "                return parent.right\n",
    "        else:\n",
    "            return None\n",
    "    \n",
    "    def find_nearest_neighbor(self, Q, dist=np.inf, nn=[]):\n",
    "        \"\"\"\n",
    "        Recursively computes the nearest neighbor of Q in the current subtree\n",
    "        \"\"\"\n",
    "        #get leaf stepping down the \"good sides\" of the current subtree\n",
    "        #TODO\n",
    "        \n",
    "        #calculate distance of Q to all points in the leaf\n",
    "        #TODO\n",
    "        \n",
    "        #if new nearest neighbor was found in leaf: exchange current nearest neighbor by closest point in leaf\n",
    "        #TODO\n",
    "        \n",
    "        #recursively step back up and treat the sibling nodes\n",
    "        #TODO\n",
    "        \n",
    "        "
   ]
  },
  {
   "cell_type": "markdown",
   "metadata": {},
   "source": [
    "#### b) Test des k-d-Baums"
   ]
  },
  {
   "cell_type": "markdown",
   "metadata": {},
   "source": [
    "Erzeugen Sie einen zufälligen Datensatz der Dimension (10000,2) und messen Sie, wieviele Vergleiche benötigt werden, um den nächsten Nachbarn des Punkts (0.5,0.5) zu finden. Wiederholen Sie das Experiment mit Datensätzen der Längen 50000, 100000, 200000 und 400000. Vergrößern Sie anschließend die Anzahl der Features und wiederholen Sie das Experiment. Wie lassen sich Ihre Beobachtungen erklären?"
   ]
  },
  {
   "cell_type": "code",
   "execution_count": null,
   "metadata": {},
   "outputs": [],
   "source": [
    "#TODO"
   ]
  },
  {
   "cell_type": "markdown",
   "metadata": {},
   "source": [
    "#### c) Implementierung der Nearest Neighbor-Klassifikation mit KDTree "
   ]
  },
  {
   "cell_type": "markdown",
   "metadata": {},
   "source": [
    "Implementieren Sie einen Nearest Neighbor-Klassifikator unter Verwendung der Klasse KDTree"
   ]
  },
  {
   "cell_type": "code",
   "execution_count": null,
   "metadata": {},
   "outputs": [],
   "source": [
    "#TODO"
   ]
  }
 ],
 "metadata": {
  "kernelspec": {
   "display_name": "Python 3",
   "language": "python",
   "name": "python3"
  },
  "language_info": {
   "codemirror_mode": {
    "name": "ipython",
    "version": 3
   },
   "file_extension": ".py",
   "mimetype": "text/x-python",
   "name": "python",
   "nbconvert_exporter": "python",
   "pygments_lexer": "ipython3",
   "version": "3.8.5"
  }
 },
 "nbformat": 4,
 "nbformat_minor": 2
}
