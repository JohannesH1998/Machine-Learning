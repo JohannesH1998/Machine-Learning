{
 "cells": [
  {
   "cell_type": "code",
   "execution_count": 1,
   "metadata": {},
   "outputs": [],
   "source": [
    "import pandas as pd \n",
    "import numpy as np"
   ]
  },
  {
   "cell_type": "markdown",
   "metadata": {},
   "source": [
    "#### Datensatz einlesen"
   ]
  },
  {
   "cell_type": "markdown",
   "metadata": {},
   "source": [
    "Der folgende Datensatz enthält verschiedene Features zur Vorhersage, ob ein Patient an einer Herzerkrankung erkrankt ist  (target=0) oder gesunde ist (target=1)."
   ]
  },
  {
   "cell_type": "code",
   "execution_count": 2,
   "metadata": {},
   "outputs": [],
   "source": [
    "df = pd.read_csv('heart.csv')"
   ]
  },
  {
   "cell_type": "code",
   "execution_count": 3,
   "metadata": {},
   "outputs": [
    {
     "data": {
      "text/html": [
       "<div>\n",
       "<style scoped>\n",
       "    .dataframe tbody tr th:only-of-type {\n",
       "        vertical-align: middle;\n",
       "    }\n",
       "\n",
       "    .dataframe tbody tr th {\n",
       "        vertical-align: top;\n",
       "    }\n",
       "\n",
       "    .dataframe thead th {\n",
       "        text-align: right;\n",
       "    }\n",
       "</style>\n",
       "<table border=\"1\" class=\"dataframe\">\n",
       "  <thead>\n",
       "    <tr style=\"text-align: right;\">\n",
       "      <th></th>\n",
       "      <th>age</th>\n",
       "      <th>sex</th>\n",
       "      <th>cp</th>\n",
       "      <th>trestbps</th>\n",
       "      <th>chol</th>\n",
       "      <th>fbs</th>\n",
       "      <th>restecg</th>\n",
       "      <th>thalach</th>\n",
       "      <th>exang</th>\n",
       "      <th>oldpeak</th>\n",
       "      <th>slope</th>\n",
       "      <th>ca</th>\n",
       "      <th>thal</th>\n",
       "      <th>target</th>\n",
       "    </tr>\n",
       "  </thead>\n",
       "  <tbody>\n",
       "    <tr>\n",
       "      <th>0</th>\n",
       "      <td>63</td>\n",
       "      <td>1</td>\n",
       "      <td>3</td>\n",
       "      <td>145</td>\n",
       "      <td>233</td>\n",
       "      <td>1</td>\n",
       "      <td>0</td>\n",
       "      <td>150</td>\n",
       "      <td>0</td>\n",
       "      <td>2.3</td>\n",
       "      <td>0</td>\n",
       "      <td>0</td>\n",
       "      <td>1</td>\n",
       "      <td>1</td>\n",
       "    </tr>\n",
       "    <tr>\n",
       "      <th>1</th>\n",
       "      <td>37</td>\n",
       "      <td>1</td>\n",
       "      <td>2</td>\n",
       "      <td>130</td>\n",
       "      <td>250</td>\n",
       "      <td>0</td>\n",
       "      <td>1</td>\n",
       "      <td>187</td>\n",
       "      <td>0</td>\n",
       "      <td>3.5</td>\n",
       "      <td>0</td>\n",
       "      <td>0</td>\n",
       "      <td>2</td>\n",
       "      <td>1</td>\n",
       "    </tr>\n",
       "    <tr>\n",
       "      <th>2</th>\n",
       "      <td>41</td>\n",
       "      <td>0</td>\n",
       "      <td>1</td>\n",
       "      <td>130</td>\n",
       "      <td>204</td>\n",
       "      <td>0</td>\n",
       "      <td>0</td>\n",
       "      <td>172</td>\n",
       "      <td>0</td>\n",
       "      <td>1.4</td>\n",
       "      <td>2</td>\n",
       "      <td>0</td>\n",
       "      <td>2</td>\n",
       "      <td>1</td>\n",
       "    </tr>\n",
       "    <tr>\n",
       "      <th>3</th>\n",
       "      <td>56</td>\n",
       "      <td>1</td>\n",
       "      <td>1</td>\n",
       "      <td>120</td>\n",
       "      <td>236</td>\n",
       "      <td>0</td>\n",
       "      <td>1</td>\n",
       "      <td>178</td>\n",
       "      <td>0</td>\n",
       "      <td>0.8</td>\n",
       "      <td>2</td>\n",
       "      <td>0</td>\n",
       "      <td>2</td>\n",
       "      <td>1</td>\n",
       "    </tr>\n",
       "    <tr>\n",
       "      <th>4</th>\n",
       "      <td>57</td>\n",
       "      <td>0</td>\n",
       "      <td>0</td>\n",
       "      <td>120</td>\n",
       "      <td>354</td>\n",
       "      <td>0</td>\n",
       "      <td>1</td>\n",
       "      <td>163</td>\n",
       "      <td>1</td>\n",
       "      <td>0.6</td>\n",
       "      <td>2</td>\n",
       "      <td>0</td>\n",
       "      <td>2</td>\n",
       "      <td>1</td>\n",
       "    </tr>\n",
       "  </tbody>\n",
       "</table>\n",
       "</div>"
      ],
      "text/plain": [
       "   age  sex  cp  trestbps  chol  fbs  restecg  thalach  exang  oldpeak  slope  \\\n",
       "0   63    1   3       145   233    1        0      150      0      2.3      0   \n",
       "1   37    1   2       130   250    0        1      187      0      3.5      0   \n",
       "2   41    0   1       130   204    0        0      172      0      1.4      2   \n",
       "3   56    1   1       120   236    0        1      178      0      0.8      2   \n",
       "4   57    0   0       120   354    0        1      163      1      0.6      2   \n",
       "\n",
       "   ca  thal  target  \n",
       "0   0     1       1  \n",
       "1   0     2       1  \n",
       "2   0     2       1  \n",
       "3   0     2       1  \n",
       "4   0     2       1  "
      ]
     },
     "execution_count": 3,
     "metadata": {},
     "output_type": "execute_result"
    }
   ],
   "source": [
    "df.head()"
   ]
  },
  {
   "cell_type": "markdown",
   "metadata": {},
   "source": [
    "## Aufgabe 1"
   ]
  },
  {
   "cell_type": "markdown",
   "metadata": {},
   "source": [
    "#### a) Analyse der Zielvariable"
   ]
  },
  {
   "cell_type": "markdown",
   "metadata": {},
   "source": [
    "Untersuchen Sie die Verteilung der Zielvariablen 'target'."
   ]
  },
  {
   "cell_type": "code",
   "execution_count": 4,
   "metadata": {},
   "outputs": [
    {
     "data": {
      "text/plain": [
       "0    138\n",
       "1    165\n",
       "Name: target, dtype: int64"
      ]
     },
     "execution_count": 4,
     "metadata": {},
     "output_type": "execute_result"
    }
   ],
   "source": [
    "y = df['target']\n",
    "y.value_counts(sort=False)"
   ]
  },
  {
   "cell_type": "markdown",
   "metadata": {},
   "source": [
    "#### b)  Visualisierung der Altersverteilung"
   ]
  },
  {
   "cell_type": "markdown",
   "metadata": {},
   "source": [
    "Zeichnen Sie ein Histogramm der Altersverteilung. Zeichnen Sie anschließend Histogramme der Altersverteilung derjenigen Patienten mit 'target=0' (herzkrank) und 'target=1' (gesund). Verwenden Sie dazu die Funktion <a href=\"https://matplotlib.org/3.1.1/api/_as_gen/matplotlib.pyplot.hist.html\">matplotlib.pyplot.hist<a/>."
   ]
  },
  {
   "cell_type": "code",
   "execution_count": 5,
   "metadata": {},
   "outputs": [],
   "source": [
    "import matplotlib.pyplot as plt"
   ]
  },
  {
   "cell_type": "code",
   "execution_count": 6,
   "metadata": {},
   "outputs": [],
   "source": [
    "df_target1 = df[df['target'] == 1]\n",
    "df_target0 = df[df['target'] == 0]"
   ]
  },
  {
   "cell_type": "code",
   "execution_count": 7,
   "metadata": {},
   "outputs": [
    {
     "data": {
      "image/png": "[encoded data removed]",
      "text/plain": [
       "<Figure size 432x288 with 1 Axes>"
      ]
     },
     "metadata": {
      "needs_background": "light"
     },
     "output_type": "display_data"
    }
   ],
   "source": [
    "%matplotlib inline\n",
    "\n",
    "plt.hist(df_target1['age'], density=True, bins=20)  # density=False would make counts\n",
    "plt.ylabel('Probability')\n",
    "plt.xlabel('Age');"
   ]
  },
  {
   "cell_type": "code",
   "execution_count": 8,
   "metadata": {},
   "outputs": [
    {
     "data": {
      "image/png": "[encoded data removed]",
      "text/plain": [
       "<Figure size 432x288 with 1 Axes>"
      ]
     },
     "metadata": {
      "needs_background": "light"
     },
     "output_type": "display_data"
    }
   ],
   "source": [
    "%matplotlib inline\n",
    "\n",
    "plt.hist(df_target0['age'], density=True, bins=20)  # density=False would make counts\n",
    "plt.ylabel('Probability')\n",
    "plt.xlabel('Age');"
   ]
  },
  {
   "cell_type": "markdown",
   "metadata": {},
   "source": [
    "#### c) Datenvorbereitung"
   ]
  },
  {
   "cell_type": "markdown",
   "metadata": {},
   "source": [
    "Spalten Sie die Zielvariable **target** ab und splitten Sie die Daten anschließend in einen Trainings- und einen Testdatensatz auf (20% Test, 80% Train)."
   ]
  },
  {
   "cell_type": "code",
   "execution_count": 9,
   "metadata": {},
   "outputs": [],
   "source": [
    "from sklearn.model_selection import train_test_split\n",
    "\n",
    "#X_train, X_test = train_test_split(df, test_size=0.2, random_state=0)\n",
    "#X_train = X_train.copy()\n",
    "#X_test = X_test.copy()\n",
    "#y_train = X_train['target']\n",
    "#y_test = X_test['target']\n",
    "#X_train = X_train.drop('target', axis=1)\n",
    "#X_test = X_test.drop('target', axis=1)\n",
    "\n",
    "y = df['target']\n",
    "X =  df.drop('target', axis=1)\n",
    "\n",
    "X_train, X_test, y_train, y_test = train_test_split(X, y, test_size=0.2, random_state=0)\n"
   ]
  },
  {
   "cell_type": "markdown",
   "metadata": {},
   "source": [
    "#### d) Training eines RandomForest"
   ]
  },
  {
   "cell_type": "markdown",
   "metadata": {},
   "source": [
    "Trainieren Sie einen <a href=\"https://scikit-learn.org/stable/modules/generated/sklearn.ensemble.RandomForestClassifier.html\">RandomForestClassifier</a> in Scikit-learn mit den Parametern **n_estimators=20**, **max_depth=1** und **min_samples_leaf = 2**. \n",
    "\n",
    "Hinweis: es wird in dieser Übung darauf verzichtet, die Hyperparameter zu optimieren. Grundsätzlich wäre dies jedoch sinnvoll."
   ]
  },
  {
   "cell_type": "code",
   "execution_count": 10,
   "metadata": {},
   "outputs": [
    {
     "data": {
      "text/plain": [
       "RandomForestClassifier(max_depth=1, min_samples_leaf=2, n_estimators=20,\n",
       "                       random_state=0)"
      ]
     },
     "execution_count": 10,
     "metadata": {},
     "output_type": "execute_result"
    }
   ],
   "source": [
    "from sklearn.ensemble import RandomForestClassifier\n",
    "\n",
    "clf=RandomForestClassifier(n_estimators=20, max_depth=1, min_samples_leaf = 2, random_state = 0)\n",
    "clf.fit(X_train,y_train)"
   ]
  },
  {
   "cell_type": "markdown",
   "metadata": {},
   "source": [
    "#### e) Modellvalidierung"
   ]
  },
  {
   "cell_type": "markdown",
   "metadata": {},
   "source": [
    "Bestimmen Sie jeweils den ROC-AUC-Score und die Accuracy auf dem Trainings- und auf dem Testdatensatz. Wie bewerten Sie die Güte des Modells?"
   ]
  },
  {
   "cell_type": "code",
   "execution_count": 11,
   "metadata": {},
   "outputs": [],
   "source": [
    "from sklearn.metrics import confusion_matrix\n",
    "\n",
    "def stats(true, pred):\n",
    "    c = confusion_matrix(true, pred)\n",
    "    #print(\"Confusion Matrix: \\n\", c)\n",
    "\n",
    "    TP = c[0][0]\n",
    "    FP = c[0][1]\n",
    "    FN = c[1][0]\n",
    "    TN = c[1][1]\n",
    "\n",
    "    #print(\"TN:\", TN, \"TP:\",TP,\"FN:\",FN,\"FP:\",FP)\n",
    "\n",
    "    acc = (TP+TN)/(TP+TN+FP+FN)\n",
    "\n",
    "    #print(\"Accuracy: \\n\", acc)\n",
    "\n",
    "    recall = TP/(TP+FN)\n",
    "\n",
    "    #print(\"Recall: \\n\",recall)\n",
    "\n",
    "    precision = TP/(TP+FP)\n",
    "\n",
    "    #print(\"Precision: \\n\",precision)\n",
    "    \n",
    "    return acc, recall, precision, c"
   ]
  },
  {
   "cell_type": "code",
   "execution_count": 12,
   "metadata": {},
   "outputs": [
    {
     "name": "stdout",
     "output_type": "stream",
     "text": [
      "ROC_AUC_scores: \n",
      "Train|  0.79966989890654 \n",
      "Test |  0.8262527233115468\n",
      "Accuracy: \n",
      "Train|  0.8099173553719008 \n",
      "Test |  0.8360655737704918\n"
     ]
    }
   ],
   "source": [
    "from sklearn import metrics\n",
    "\n",
    "ROC_AUC_score_train = metrics.roc_auc_score(y_train, clf.predict(X_train))\n",
    "ROC_AUC_score_test = metrics.roc_auc_score(y_test, clf.predict(X_test))\n",
    "\n",
    "\n",
    "print(\"ROC_AUC_scores: \\nTrain| \", ROC_AUC_score_train, \"\\nTest | \", ROC_AUC_score_test)\n",
    "\n",
    "acc_train, r_tr, pre_tr, c_tr= stats(y_train, clf.predict(X_train))\n",
    "acc_test, r_te, pre_te, c_te = stats(y_test, clf.predict(X_test))\n",
    "print(\"Accuracy: \\nTrain| \", acc_train, \"\\nTest | \", acc_test)"
   ]
  },
  {
   "cell_type": "markdown",
   "metadata": {},
   "source": [
    "#### f) Feature-Importances"
   ]
  },
  {
   "cell_type": "markdown",
   "metadata": {},
   "source": [
    "Bestimmen Sie die Feature-Importances für alle Features. Welche fünf Features haben die höchste Feature-Importance?"
   ]
  },
  {
   "cell_type": "code",
   "execution_count": 13,
   "metadata": {},
   "outputs": [],
   "source": [
    "# iterating the columns\n",
    "feature_names = []\n",
    "for col in X_train.columns:\n",
    "    feature_names.append(col)"
   ]
  },
  {
   "cell_type": "code",
   "execution_count": 14,
   "metadata": {},
   "outputs": [
    {
     "data": {
      "image/png": "[encoded data removed]",
      "text/plain": [
       "<Figure size 432x288 with 1 Axes>"
      ]
     },
     "metadata": {
      "needs_background": "light"
     },
     "output_type": "display_data"
    }
   ],
   "source": [
    "importances = clf.feature_importances_\n",
    "std = np.std([tree.feature_importances_ for tree in clf.estimators_], axis=0)\n",
    "\n",
    "forest_importances = pd.Series(importances, index=feature_names)\n",
    "\n",
    "fig, ax = plt.subplots()\n",
    "forest_importances.plot.bar(yerr=std, ax=ax)\n",
    "ax.set_title(\"Feature importances using MDI\")\n",
    "ax.set_ylabel(\"Mean decrease in impurity\")\n",
    "fig.tight_layout()"
   ]
  },
  {
   "cell_type": "code",
   "execution_count": 15,
   "metadata": {},
   "outputs": [
    {
     "name": "stdout",
     "output_type": "stream",
     "text": [
      "Elapsed time to compute the importances: 1.545 seconds\n"
     ]
    },
    {
     "data": {
      "image/png": "[encoded data removed]",
      "text/plain": [
       "<Figure size 432x288 with 1 Axes>"
      ]
     },
     "metadata": {
      "needs_background": "light"
     },
     "output_type": "display_data"
    }
   ],
   "source": [
    "import time\n",
    "from sklearn.inspection import permutation_importance\n",
    "\n",
    "start_time = time.time()\n",
    "result = permutation_importance(\n",
    "    clf, X_test, y_test, n_repeats=10, random_state=42, n_jobs=2\n",
    ")\n",
    "elapsed_time = time.time() - start_time\n",
    "print(f\"Elapsed time to compute the importances: {elapsed_time:.3f} seconds\")\n",
    "\n",
    "forest_importances = pd.Series(result.importances_mean, index=feature_names)\n",
    "\n",
    "fig, ax = plt.subplots()\n",
    "forest_importances.plot.bar(yerr=result.importances_std, ax=ax)\n",
    "ax.set_title(\"Feature importances using permutation on full model\")\n",
    "ax.set_ylabel(\"Mean accuracy decrease\")\n",
    "fig.tight_layout()\n",
    "plt.show()"
   ]
  },
  {
   "cell_type": "markdown",
   "metadata": {},
   "source": [
    "#### g) Training eines Decision Trees"
   ]
  },
  {
   "cell_type": "markdown",
   "metadata": {},
   "source": [
    "Trainieren Sie nun einen Decision Tree mit den Parametern **max_depth=1** und **min_samples_leaf = 2**. Berechnen Sie erneut die Accuracy und den ROC_AUC_SCORE jeweils für Train und Test. Vergleichen Sie die Ergebnisse mit den Ergebnissen des RandomForest."
   ]
  },
  {
   "cell_type": "code",
   "execution_count": 16,
   "metadata": {},
   "outputs": [],
   "source": [
    "from sklearn.model_selection import cross_val_score\n",
    "from sklearn.tree import DecisionTreeClassifier\n",
    "\n",
    "cl = DecisionTreeClassifier(max_depth=1, min_samples_leaf=2)\n",
    "\n",
    "cl = cl.fit(X_train, y_train)"
   ]
  },
  {
   "cell_type": "code",
   "execution_count": 17,
   "metadata": {},
   "outputs": [
    {
     "name": "stdout",
     "output_type": "stream",
     "text": [
      "----- ROC_AUC_scores -----\n",
      "RandomForest: \n",
      "Train|  0.79966989890654 \n",
      "Test |  0.8262527233115468 \n",
      "DecisionTree:\n",
      "Train|  0.752424179905096 \n",
      "Test |  0.7821350762527233\n",
      "----- Accuracy -----\n",
      "RandomForest: \n",
      "Train|  0.8099173553719008 \n",
      "Test |  0.8360655737704918 \n",
      "DecisionTree:\n",
      "Train|  0.7520661157024794 \n",
      "Test |  0.8360655737704918\n"
     ]
    }
   ],
   "source": [
    "ROC_AUC_score_train_decTree = metrics.roc_auc_score(y_train, cl.predict(X_train))\n",
    "ROC_AUC_score_test_decTree = metrics.roc_auc_score(y_test, cl.predict(X_test))\n",
    "\n",
    "print(\"----- ROC_AUC_scores -----\\nRandomForest: \\nTrain| \", ROC_AUC_score_train, \"\\nTest | \", ROC_AUC_score_test,\"\\nDecisionTree:\\nTrain| \", ROC_AUC_score_train_decTree, \"\\nTest | \", ROC_AUC_score_test_decTree)\n",
    "\n",
    "dec_acc_train, r_tr, pre_tr, c_tr= stats(y_train, cl.predict(X_train))\n",
    "dec_acc_test, r_te, pre_te, c_te = stats(y_test, clf.predict(X_test))\n",
    "print(\"----- Accuracy -----\\nRandomForest: \\nTrain| \", acc_train, \"\\nTest | \", acc_test,\"\\nDecisionTree:\\nTrain| \", dec_acc_train, \"\\nTest | \", dec_acc_test)\n"
   ]
  },
  {
   "cell_type": "markdown",
   "metadata": {},
   "source": [
    "## Aufgabe 2"
   ]
  },
  {
   "cell_type": "markdown",
   "metadata": {},
   "source": [
    "In dieser Aufgabe soll für den obigen Datensatz ein Klassifikationsmodell basierend auf einem Support Vetor Classifier entwickelt werden."
   ]
  },
  {
   "cell_type": "markdown",
   "metadata": {},
   "source": [
    "#### a) Training eines Support Vector Classifiers"
   ]
  },
  {
   "cell_type": "markdown",
   "metadata": {},
   "source": [
    "Trainieren Sie nun einen Support Vector Classifier in Scikit-learn unter Verwendung des Gauß-Kernels (kernel='rbf'). Bestimmen Sie anschließend die Accuracy auf dem Trainings- und auf dem Testdatensatz und vergleichen Sie diese mit den Ergebnissen des RandomForest. Wie erklären Sie Ihre Beobachtung?"
   ]
  },
  {
   "cell_type": "code",
   "execution_count": 29,
   "metadata": {},
   "outputs": [
    {
     "name": "stdout",
     "output_type": "stream",
     "text": [
      "----- Accuracy -----\n",
      "RandomForest: \n",
      "Train|  0.8099173553719008 \n",
      "Test |  0.8360655737704918 \n",
      "SVC:\n",
      "Train|  0.6652892561983471 \n",
      "Test |  0.6885245901639344\n"
     ]
    }
   ],
   "source": [
    "from sklearn.svm import SVC\n",
    "svc_model = SVC(kernel=\"rbf\")\n",
    "svc_model.fit(X_train,y_train)\n",
    "\n",
    "acc_svc_train, _, _, _ = stats(y_train, svc_model.predict(X_train))\n",
    "acc_svc_test, _, _, _ = stats(y_test, svc_model.predict(X_test))\n",
    "\n",
    "print(\"----- Accuracy -----\\nRandomForest: \\nTrain| \", acc_train, \"\\nTest | \", acc_test,\"\\nSVC:\\nTrain| \", acc_svc_train, \"\\nTest | \", acc_svc_test)"
   ]
  },
  {
   "cell_type": "markdown",
   "metadata": {},
   "source": [
    "#### b) SVC mit Standardisierung"
   ]
  },
  {
   "cell_type": "markdown",
   "metadata": {},
   "source": [
    "Wiederholen Sie Teilaufgabe a), aber wenden Sie vorher einen StandardScaler an. Wie erklären Sie Ihre Beobachtung?"
   ]
  },
  {
   "cell_type": "code",
   "execution_count": 32,
   "metadata": {},
   "outputs": [
    {
     "name": "stdout",
     "output_type": "stream",
     "text": [
      "----- Accuracy -----\n",
      "RandomForest: \n",
      "Train|  0.8099173553719008 \n",
      "Test |  0.8360655737704918 \n",
      "SVC:\n",
      "Train|  0.6652892561983471 \n",
      "Test |  0.6885245901639344 \n",
      "SVC_Pipe:\n",
      "Train|  0.8925619834710744 \n",
      "Test |  0.8688524590163934\n"
     ]
    }
   ],
   "source": [
    "from sklearn.pipeline import Pipeline\n",
    "from sklearn.preprocessing import StandardScaler\n",
    "\n",
    "pipe = Pipeline(steps = [\n",
    "    (\"Scaler\", StandardScaler()),\n",
    "    (\"SVM\", SVC(kernel='rbf'))])\n",
    "\n",
    "pipe.fit(X_train, y_train)\n",
    "\n",
    "acc_pipe_train, _, _, _ = stats(y_train, pipe.predict(X_train))\n",
    "acc_pipe_test, _, _, _ = stats(y_test, pipe.predict(X_test))\n",
    "\n",
    "print(\"----- Accuracy -----\\nRandomForest: \\nTrain| \", acc_train, \"\\nTest | \", acc_test,\"\\nSVC:\\nTrain| \", acc_svc_train, \"\\nTest | \", acc_svc_test,\"\\nSVC_Pipe:\\nTrain| \", acc_pipe_train, \"\\nTest | \", acc_pipe_test)"
   ]
  },
  {
   "cell_type": "markdown",
   "metadata": {},
   "source": [
    "#### c) Hyperparameteroptimierung"
   ]
  },
  {
   "cell_type": "markdown",
   "metadata": {},
   "source": [
    "Optimieren Sie nun die Hyperparameter C und gamma des Support Vector Classifiers. Legen Sie dazu eine Pipeline bestehend aus einem StandardScaler und einem Support Vector Classifier an und verwenden Sie diese innerhalb einer GridSearch mit fünffacher Cross Validation. Testen Sie für den Parameter C die Werte 0.01, 0.1, 1 und 10 und für den Parameter gamma die Werte 0.001, 0.01, 0.1, 1 und 10."
   ]
  },
  {
   "cell_type": "code",
   "execution_count": 38,
   "metadata": {},
   "outputs": [
    {
     "data": {
      "text/plain": [
       "{'SVM__C': 10, 'SVM__gamma': 0.001}"
      ]
     },
     "execution_count": 38,
     "metadata": {},
     "output_type": "execute_result"
    }
   ],
   "source": [
    "from joblib import parallel_backend\n",
    "from sklearn.model_selection import GridSearchCV\n",
    "\n",
    "with parallel_backend('threading', n_jobs=16):\n",
    "    param_grid = [\n",
    "      {'SVM__C': [0.01, 0.1, 1, 10], 'SVM__gamma': [0.001, 0.01, 0.1, 1, 10]}\n",
    "     ]\n",
    "    svc = SVC(kernel='rbf')\n",
    "\n",
    "    gs = GridSearchCV(pipe, param_grid=param_grid)\n",
    "    gs.fit(X_train, y_train)\n",
    "    \n",
    "gs.best_params_"
   ]
  },
  {
   "cell_type": "markdown",
   "metadata": {},
   "source": [
    "#### d) Modellbewertung"
   ]
  },
  {
   "cell_type": "markdown",
   "metadata": {},
   "source": [
    "Vergleichen Sie das Modell, das sich aus den optimalen Parametern ergibt mit dem RandomForest, indem Sie wieder die Accuracy auf den Trainingsdaten und auf den Testdaten berechnen. Wie lautet Ihr Fazit?"
   ]
  },
  {
   "cell_type": "code",
   "execution_count": 39,
   "metadata": {},
   "outputs": [
    {
     "data": {
      "text/plain": [
       "Pipeline(steps=[('Scaler', StandardScaler()), ('SVM', SVC(C=10, gamma=0.001))])"
      ]
     },
     "execution_count": 39,
     "metadata": {},
     "output_type": "execute_result"
    }
   ],
   "source": [
    "pipe.set_params(**gs.best_params_)\n",
    "pipe.fit(X_train, y_train)"
   ]
  },
  {
   "cell_type": "code",
   "execution_count": 41,
   "metadata": {},
   "outputs": [
    {
     "name": "stdout",
     "output_type": "stream",
     "text": [
      "----- Accuracy -----\n",
      "RandomForest: \n",
      "Train|  0.8099173553719008 \n",
      "Test |  0.8360655737704918 \n",
      "SVC:\n",
      "Train|  0.6652892561983471 \n",
      "Test |  0.6885245901639344 \n",
      "SVC_Pipe:\n",
      "Train|  0.8925619834710744 \n",
      "Test |  0.8688524590163934 \n",
      "SVC_Pipe_Optimiert:\n",
      "Train|  0.8347107438016529 \n",
      "Test |  0.8360655737704918\n"
     ]
    }
   ],
   "source": [
    "acc_opt_train, _, _, _ = stats(y_train, pipe.predict(X_train))\n",
    "acc_opt_test, _, _, _ = stats(y_test, pipe.predict(X_test))\n",
    "\n",
    "print(\"----- Accuracy -----\\nRandomForest: \\nTrain| \", acc_train, \"\\nTest | \", acc_test,\"\\nSVC:\\nTrain| \", acc_svc_train, \"\\nTest | \", acc_svc_test,\"\\nSVC_Pipe:\\nTrain| \", acc_pipe_train, \"\\nTest | \", acc_pipe_test,\"\\nSVC_Pipe_Optimiert:\\nTrain| \", acc_opt_train, \"\\nTest | \", acc_opt_test)"
   ]
  },
  {
   "cell_type": "code",
   "execution_count": null,
   "metadata": {},
   "outputs": [],
   "source": []
  }
 ],
 "metadata": {
  "kernelspec": {
   "display_name": "Python 3",
   "language": "python",
   "name": "python3"
  },
  "language_info": {
   "codemirror_mode": {
    "name": "ipython",
    "version": 3
   },
   "file_extension": ".py",
   "mimetype": "text/x-python",
   "name": "python",
   "nbconvert_exporter": "python",
   "pygments_lexer": "ipython3",
   "version": "3.8.5"
  }
 },
 "nbformat": 4,
 "nbformat_minor": 2
}
