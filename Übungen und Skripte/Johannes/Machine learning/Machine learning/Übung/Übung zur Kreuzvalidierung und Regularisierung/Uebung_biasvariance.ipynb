{
 "cells": [
  {
   "cell_type": "code",
   "execution_count": 1,
   "metadata": {},
   "outputs": [],
   "source": [
    "import pandas as pd\n",
    "import numpy as np"
   ]
  },
  {
   "cell_type": "markdown",
   "metadata": {},
   "source": [
    "#### Einlesen des Datensatzes"
   ]
  },
  {
   "cell_type": "code",
   "execution_count": 2,
   "metadata": {},
   "outputs": [
    {
     "data": {
      "text/html": [
       "<div>\n",
       "<style scoped>\n",
       "    .dataframe tbody tr th:only-of-type {\n",
       "        vertical-align: middle;\n",
       "    }\n",
       "\n",
       "    .dataframe tbody tr th {\n",
       "        vertical-align: top;\n",
       "    }\n",
       "\n",
       "    .dataframe thead th {\n",
       "        text-align: right;\n",
       "    }\n",
       "</style>\n",
       "<table border=\"1\" class=\"dataframe\">\n",
       "  <thead>\n",
       "    <tr style=\"text-align: right;\">\n",
       "      <th></th>\n",
       "      <th>Pregnancies</th>\n",
       "      <th>Glucose</th>\n",
       "      <th>BloodPressure</th>\n",
       "      <th>SkinThickness</th>\n",
       "      <th>Insulin</th>\n",
       "      <th>BMI</th>\n",
       "      <th>DiabetesPedigreeFunction</th>\n",
       "      <th>Age</th>\n",
       "      <th>Outcome</th>\n",
       "    </tr>\n",
       "  </thead>\n",
       "  <tbody>\n",
       "    <tr>\n",
       "      <th>0</th>\n",
       "      <td>6</td>\n",
       "      <td>148</td>\n",
       "      <td>72</td>\n",
       "      <td>35</td>\n",
       "      <td>0</td>\n",
       "      <td>33.6</td>\n",
       "      <td>0.627</td>\n",
       "      <td>50</td>\n",
       "      <td>1</td>\n",
       "    </tr>\n",
       "    <tr>\n",
       "      <th>1</th>\n",
       "      <td>1</td>\n",
       "      <td>85</td>\n",
       "      <td>66</td>\n",
       "      <td>29</td>\n",
       "      <td>0</td>\n",
       "      <td>26.6</td>\n",
       "      <td>0.351</td>\n",
       "      <td>31</td>\n",
       "      <td>0</td>\n",
       "    </tr>\n",
       "    <tr>\n",
       "      <th>2</th>\n",
       "      <td>8</td>\n",
       "      <td>183</td>\n",
       "      <td>64</td>\n",
       "      <td>0</td>\n",
       "      <td>0</td>\n",
       "      <td>23.3</td>\n",
       "      <td>0.672</td>\n",
       "      <td>32</td>\n",
       "      <td>1</td>\n",
       "    </tr>\n",
       "    <tr>\n",
       "      <th>3</th>\n",
       "      <td>1</td>\n",
       "      <td>89</td>\n",
       "      <td>66</td>\n",
       "      <td>23</td>\n",
       "      <td>94</td>\n",
       "      <td>28.1</td>\n",
       "      <td>0.167</td>\n",
       "      <td>21</td>\n",
       "      <td>0</td>\n",
       "    </tr>\n",
       "    <tr>\n",
       "      <th>4</th>\n",
       "      <td>0</td>\n",
       "      <td>137</td>\n",
       "      <td>40</td>\n",
       "      <td>35</td>\n",
       "      <td>168</td>\n",
       "      <td>43.1</td>\n",
       "      <td>2.288</td>\n",
       "      <td>33</td>\n",
       "      <td>1</td>\n",
       "    </tr>\n",
       "  </tbody>\n",
       "</table>\n",
       "</div>"
      ],
      "text/plain": [
       "   Pregnancies  Glucose  BloodPressure  SkinThickness  Insulin   BMI  \\\n",
       "0            6      148             72             35        0  33.6   \n",
       "1            1       85             66             29        0  26.6   \n",
       "2            8      183             64              0        0  23.3   \n",
       "3            1       89             66             23       94  28.1   \n",
       "4            0      137             40             35      168  43.1   \n",
       "\n",
       "   DiabetesPedigreeFunction  Age  Outcome  \n",
       "0                     0.627   50        1  \n",
       "1                     0.351   31        0  \n",
       "2                     0.672   32        1  \n",
       "3                     0.167   21        0  \n",
       "4                     2.288   33        1  "
      ]
     },
     "execution_count": 2,
     "metadata": {},
     "output_type": "execute_result"
    }
   ],
   "source": [
    "X = pd.read_csv('diabetes.csv')\n",
    "X.head()"
   ]
  },
  {
   "cell_type": "markdown",
   "metadata": {},
   "source": [
    "#### Abspalten der Labels"
   ]
  },
  {
   "cell_type": "code",
   "execution_count": 3,
   "metadata": {},
   "outputs": [],
   "source": [
    "y = X.iloc[:,-1]\n",
    "X = X.drop(X.columns[-1], axis=1)"
   ]
  },
  {
   "cell_type": "markdown",
   "metadata": {},
   "source": [
    "#### Verteilung der Labels"
   ]
  },
  {
   "cell_type": "code",
   "execution_count": 4,
   "metadata": {},
   "outputs": [
    {
     "data": {
      "text/plain": [
       "0    0.651042\n",
       "1    0.348958\n",
       "Name: Outcome, dtype: float64"
      ]
     },
     "execution_count": 4,
     "metadata": {},
     "output_type": "execute_result"
    }
   ],
   "source": [
    "y.value_counts(normalize=True)"
   ]
  },
  {
   "cell_type": "markdown",
   "metadata": {},
   "source": [
    "# Aufgabe 1: Modellbewertung mittels Kreuzvalidierung"
   ]
  },
  {
   "cell_type": "markdown",
   "metadata": {},
   "source": [
    "#### a) Einfache Holdout-Methode"
   ]
  },
  {
   "cell_type": "markdown",
   "metadata": {},
   "source": [
    "Wenden Sie die einfache Holdout-Methode an, um die Performance eines DecisionTrees-Classifiers mit den Parametern *max_depth*=6 und *min_samples_leaf*=3 zu bewerten. Trainieren Sie diesen mit sklearn auf einem Trainingsdatensatz, der 90% der Daten enthält, und werten Sie anschließend die Accuracy (=Anteil aller Instanzen, die korrekt klassifiziert wurden) auf dem Trainings- und auf dem Testdatensatz aus. Welche Beobachtung machen Sie? \n",
    "<br><br>\n",
    "Hinweis: Zur Berechnung der Accuracy können Sie die Methode **score** der Klasse DecisionTreeClassifier verwenden."
   ]
  },
  {
   "cell_type": "code",
   "execution_count": 5,
   "metadata": {},
   "outputs": [],
   "source": [
    "from sklearn.model_selection import train_test_split\n",
    "\n",
    "X1 = pd.read_csv('diabetes.csv')\n",
    "\n",
    "train, test = train_test_split(X1, test_size = 0.10)\n",
    "\n",
    "y_train = train.iloc[:,-1]\n",
    "X_train = train.drop(X1.columns[-1], axis=1)\n",
    "\n",
    "y_test = test.iloc[:,-1]\n",
    "X_test = test.drop(X1.columns[-1], axis=1)"
   ]
  },
  {
   "cell_type": "code",
   "execution_count": 6,
   "metadata": {},
   "outputs": [
    {
     "data": {
      "text/plain": [
       "0.7792207792207793"
      ]
     },
     "execution_count": 6,
     "metadata": {},
     "output_type": "execute_result"
    }
   ],
   "source": [
    "from sklearn.model_selection import train_test_split\n",
    "from sklearn.datasets import load_iris\n",
    "from sklearn.model_selection import cross_val_score\n",
    "from sklearn.tree import DecisionTreeClassifier\n",
    "\n",
    "cl = DecisionTreeClassifier(max_depth=6, min_samples_leaf=3)\n",
    "\n",
    "cl = cl.fit(X_train, y_train)\n",
    "\n",
    "cl.score(X_test, y_test)"
   ]
  },
  {
   "cell_type": "markdown",
   "metadata": {},
   "source": [
    "#### b) $k$-fache Kreuzvalidierung anwenden"
   ]
  },
  {
   "cell_type": "markdown",
   "metadata": {},
   "source": [
    "Wiederholen Sie nun Teilaufgabe a), indem Sie $10$-fache Kreuzvalidierung durchführen. Verwenden Sie dazu die Klasse <a href=\"https://scikit-learn.org/stable/modules/generated/sklearn.model_selection.StratifiedKFold.html\">*StratifiedKFold*</a>. Geben Sie die mittlere gemessene Accuracy (gemittelt über die 10 Testdatensätze) aus. Geben Sie außerdem für jeden einzelnen der 10 Durchläufe die Accuracy auf dem jeweiligen Trainings- und Testdatensatz an. Vergleichen Sie mit dem Ergebnis aus Teilaufgabe a). Bewerten Sie die Varianz des Modells."
   ]
  },
  {
   "cell_type": "code",
   "execution_count": 7,
   "metadata": {},
   "outputs": [
    {
     "name": "stdout",
     "output_type": "stream",
     "text": [
      "Score:  0.6753246753246753\n",
      "Var:  -2.220446049250313e-16\n",
      "\n",
      "\n",
      "Score:  0.7272727272727273\n",
      "Var:  0.4770370370370368\n",
      "\n",
      "\n",
      "Score:  0.6753246753246753\n",
      "Var:  0.3733333333333335\n",
      "\n",
      "\n",
      "Score:  0.6103896103896104\n",
      "Var:  0.048888888888889426\n",
      "\n",
      "\n",
      "Score:  0.7142857142857143\n",
      "Var:  0.6074074074074074\n",
      "\n",
      "\n",
      "Score:  0.7272727272727273\n",
      "Var:  0.44148148148148136\n",
      "\n",
      "\n",
      "Score:  0.7922077922077922\n",
      "Var:  0.44148148148148125\n",
      "\n",
      "\n",
      "Score:  0.8571428571428571\n",
      "Var:  0.3733333333333335\n",
      "\n",
      "\n",
      "Score:  0.6842105263157895\n",
      "Var:  0.25923076923076904\n",
      "\n",
      "\n",
      "Score:  0.6842105263157895\n",
      "Var:  0.301538461538462\n",
      "\n",
      "\n",
      "Final average:  0.7147641831852358\n"
     ]
    }
   ],
   "source": [
    "from sklearn.model_selection import StratifiedKFold\n",
    "from sklearn.metrics import explained_variance_score\n",
    "\n",
    "skf = StratifiedKFold(n_splits=10)\n",
    "skf.get_n_splits(X, y)\n",
    "\n",
    "\n",
    "r_score = 0\n",
    "for train_index, test_index in skf.split(X, y):\n",
    "    #print(\"TRAIN:\", train_index, \"TEST:\", test_index)\n",
    "    X_train, X_test = X.loc[train_index], X.loc[test_index]\n",
    "    y_train, y_test = y[train_index], y[test_index]\n",
    "    \n",
    "    y_true = y_test\n",
    "    y_pred = cl.predict(X_test)\n",
    "    \n",
    "    var = explained_variance_score(y_true, y_pred)\n",
    "    \n",
    "    \n",
    "    cl = DecisionTreeClassifier(max_depth=6, min_samples_leaf=3)\n",
    "    cl = cl.fit(X_train, y_train)\n",
    "    score = cl.score(X_test, y_test)\n",
    "    print(\"Score: \", score)\n",
    "    print(\"Var: \", var)\n",
    "    print(\"\\n\")\n",
    "    r_score+=score\n",
    "\n",
    "print(\"Final average: \", r_score/10)"
   ]
  },
  {
   "cell_type": "markdown",
   "metadata": {},
   "source": [
    "# Aufgabe 2: Hyperparameteroptimierung durch GridSearch"
   ]
  },
  {
   "cell_type": "markdown",
   "metadata": {},
   "source": [
    "#### a) $k$-fache Kreuzvalidierung"
   ]
  },
  {
   "cell_type": "markdown",
   "metadata": {},
   "source": [
    "Erläutern Sie das Prinzip der $k$-fachen Kreuzvalidierung zur Hyperparameter-Optimierung. Geben Sie genau an, auf welchem Datensatz die einzelnen Trainings- und Auswertungsschritte jeweils vorgenommen werden."
   ]
  },
  {
   "cell_type": "markdown",
   "metadata": {},
   "source": [
    "##### Biasvariance Script seite 19"
   ]
  },
  {
   "cell_type": "markdown",
   "metadata": {},
   "source": [
    "#### b) Train-Test-Split"
   ]
  },
  {
   "cell_type": "markdown",
   "metadata": {},
   "source": [
    "Splitten Sie den Datensatz in einen Trainings- und einen Testdatensatz auf, wobei der Testdatensatz 20% der Samples enhalten soll. "
   ]
  },
  {
   "cell_type": "code",
   "execution_count": 8,
   "metadata": {},
   "outputs": [],
   "source": [
    "X1 = pd.read_csv('diabetes.csv')\n",
    "\n",
    "train, test = train_test_split(X1, test_size = 0.20, random_state=42)\n",
    "\n",
    "y_train = train.iloc[:,-1]\n",
    "X_train = train.drop(X1.columns[-1], axis=1)\n",
    "\n",
    "y_test = test.iloc[:,-1]\n",
    "X_test = test.drop(X1.columns[-1], axis=1)"
   ]
  },
  {
   "cell_type": "markdown",
   "metadata": {},
   "source": [
    "#### c) GridSearchCV"
   ]
  },
  {
   "cell_type": "markdown",
   "metadata": {},
   "source": [
    "Wenden Sie $10$-fache Kreuzvalidierung auf dem Trainingsdatensatz an, um die besten Werte für die Hyperparameter *max_depth* und *min_samples_leaf* durch Rastersuche (engl. \"grid search\") zu ermitteln. Testen Sie für *max_depth* die Werte $\\{1,2,3,4,5,6,7,8,9,10,15,20\\}$ und für \n",
    "*min_samples_leaf* die Werte $\\{1,5,10,20\\}$. Geben Sie für jede mögliche Kombination die durch $k$-fache Kreuzvalidierung erhaltene mittlere Accuracy aus. Für welche Werte-Kombination ist diese am größten?"
   ]
  },
  {
   "cell_type": "markdown",
   "metadata": {},
   "source": [
    "Hinweise: <br>\n",
    "- Klasse <a href=\"https://scikit-learn.org/stable/modules/generated/sklearn.model_selection.GridSearchCV.html\">GridSearchCV</a> aus dem Paket sklearn.model_selection\n",
    "- Die Attribute *best_params_* und  *best_score_* enthalten die optimalen Parameter und die zugehörige Accuracy\n",
    "- Das Attribut *cv_results_* enthält die Infos zu allen Parameter-Kombinationen"
   ]
  },
  {
   "cell_type": "code",
   "execution_count": 9,
   "metadata": {},
   "outputs": [
    {
     "name": "stdout",
     "output_type": "stream",
     "text": [
      "{'max_depth': 4, 'min_samples_leaf': 10}\n",
      "0.7687458349993336\n",
      "{'mean_fit_time': array([0.00449147, 0.00301819, 0.00370812, 0.00019941, 0.        ,\n",
      "       0.00019927, 0.00648088, 0.00313625, 0.00312424, 0.00312433,\n",
      "       0.00019598, 0.00670853, 0.0033545 , 0.00336018, 0.00313272,\n",
      "       0.00695186, 0.00335526, 0.00340238, 0.00313606, 0.0033371 ,\n",
      "       0.00313392, 0.00313711, 0.00335431, 0.00335541, 0.00335021,\n",
      "       0.00059819, 0.00313597, 0.00334282, 0.00684094, 0.00313473,\n",
      "       0.00312428, 0.00313592, 0.00334673, 0.00335941, 0.00313363,\n",
      "       0.        , 0.00312443, 0.00312409, 0.00624857, 0.        ,\n",
      "       0.00628452, 0.00313463, 0.        , 0.00312424, 0.00312428,\n",
      "       0.00371571, 0.00366178, 0.0027895 ]), 'std_fit_time': array([0.00260708, 0.00603638, 0.00644426, 0.00039883, 0.        ,\n",
      "       0.00039854, 0.0079443 , 0.00627251, 0.00624847, 0.00624866,\n",
      "       0.00039196, 0.00821624, 0.006709  , 0.00672035, 0.00626545,\n",
      "       0.00852221, 0.00671053, 0.00680475, 0.00627213, 0.00667419,\n",
      "       0.00626783, 0.00627422, 0.00670862, 0.00671082, 0.00670042,\n",
      "       0.00079751, 0.00627193, 0.00668564, 0.00774504, 0.00626945,\n",
      "       0.00624857, 0.00627184, 0.00669346, 0.00671883, 0.00626726,\n",
      "       0.        , 0.00624886, 0.00624819, 0.0076529 , 0.        ,\n",
      "       0.00769715, 0.00626926, 0.        , 0.00624847, 0.00624857,\n",
      "       0.00743141, 0.00384002, 0.00349407]), 'mean_score_time': array([0.00221639, 0.00195413, 0.00019946, 0.        , 0.00336323,\n",
      "       0.        , 0.        , 0.        , 0.        , 0.00042601,\n",
      "       0.00317698, 0.        , 0.        , 0.        , 0.        ,\n",
      "       0.        , 0.        , 0.        , 0.00316739, 0.        ,\n",
      "       0.        , 0.0032341 , 0.00019937, 0.        , 0.00318408,\n",
      "       0.00315309, 0.        , 0.        , 0.00026217, 0.        ,\n",
      "       0.00333862, 0.        , 0.        , 0.00335302, 0.        ,\n",
      "       0.00312428, 0.00312443, 0.        , 0.        , 0.00312419,\n",
      "       0.00019932, 0.        , 0.00312424, 0.        , 0.        ,\n",
      "       0.0035316 , 0.00223904, 0.00186839]), 'std_score_time': array([0.0019526 , 0.00314894, 0.00039892, 0.        , 0.00672646,\n",
      "       0.        , 0.        , 0.        , 0.        , 0.00085201,\n",
      "       0.00635395, 0.        , 0.        , 0.        , 0.        ,\n",
      "       0.        , 0.        , 0.        , 0.00633478, 0.        ,\n",
      "       0.        , 0.0064682 , 0.00039873, 0.        , 0.00636816,\n",
      "       0.00630617, 0.        , 0.        , 0.00052433, 0.        ,\n",
      "       0.00667725, 0.        , 0.        , 0.00670605, 0.        ,\n",
      "       0.00624857, 0.00624886, 0.        , 0.        , 0.00624838,\n",
      "       0.00039864, 0.        , 0.00624847, 0.        , 0.        ,\n",
      "       0.00609626, 0.00303947, 0.00325025]), 'param_max_depth': masked_array(data=[1, 1, 1, 1, 2, 2, 2, 2, 3, 3, 3, 3, 4, 4, 4, 4, 5, 5,\n",
      "                   5, 5, 6, 6, 6, 6, 7, 7, 7, 7, 8, 8, 8, 8, 9, 9, 9, 9,\n",
      "                   10, 10, 10, 10, 15, 15, 15, 15, 20, 20, 20, 20],\n",
      "             mask=[False, False, False, False, False, False, False, False,\n",
      "                   False, False, False, False, False, False, False, False,\n",
      "                   False, False, False, False, False, False, False, False,\n",
      "                   False, False, False, False, False, False, False, False,\n",
      "                   False, False, False, False, False, False, False, False,\n",
      "                   False, False, False, False, False, False, False, False],\n",
      "       fill_value='?',\n",
      "            dtype=object), 'param_min_samples_leaf': masked_array(data=[1, 5, 10, 20, 1, 5, 10, 20, 1, 5, 10, 20, 1, 5, 10, 20,\n",
      "                   1, 5, 10, 20, 1, 5, 10, 20, 1, 5, 10, 20, 1, 5, 10, 20,\n",
      "                   1, 5, 10, 20, 1, 5, 10, 20, 1, 5, 10, 20, 1, 5, 10, 20],\n",
      "             mask=[False, False, False, False, False, False, False, False,\n",
      "                   False, False, False, False, False, False, False, False,\n",
      "                   False, False, False, False, False, False, False, False,\n",
      "                   False, False, False, False, False, False, False, False,\n",
      "                   False, False, False, False, False, False, False, False,\n",
      "                   False, False, False, False, False, False, False, False],\n",
      "       fill_value='?',\n",
      "            dtype=object), 'params': [{'max_depth': 1, 'min_samples_leaf': 1}, {'max_depth': 1, 'min_samples_leaf': 5}, {'max_depth': 1, 'min_samples_leaf': 10}, {'max_depth': 1, 'min_samples_leaf': 20}, {'max_depth': 2, 'min_samples_leaf': 1}, {'max_depth': 2, 'min_samples_leaf': 5}, {'max_depth': 2, 'min_samples_leaf': 10}, {'max_depth': 2, 'min_samples_leaf': 20}, {'max_depth': 3, 'min_samples_leaf': 1}, {'max_depth': 3, 'min_samples_leaf': 5}, {'max_depth': 3, 'min_samples_leaf': 10}, {'max_depth': 3, 'min_samples_leaf': 20}, {'max_depth': 4, 'min_samples_leaf': 1}, {'max_depth': 4, 'min_samples_leaf': 5}, {'max_depth': 4, 'min_samples_leaf': 10}, {'max_depth': 4, 'min_samples_leaf': 20}, {'max_depth': 5, 'min_samples_leaf': 1}, {'max_depth': 5, 'min_samples_leaf': 5}, {'max_depth': 5, 'min_samples_leaf': 10}, {'max_depth': 5, 'min_samples_leaf': 20}, {'max_depth': 6, 'min_samples_leaf': 1}, {'max_depth': 6, 'min_samples_leaf': 5}, {'max_depth': 6, 'min_samples_leaf': 10}, {'max_depth': 6, 'min_samples_leaf': 20}, {'max_depth': 7, 'min_samples_leaf': 1}, {'max_depth': 7, 'min_samples_leaf': 5}, {'max_depth': 7, 'min_samples_leaf': 10}, {'max_depth': 7, 'min_samples_leaf': 20}, {'max_depth': 8, 'min_samples_leaf': 1}, {'max_depth': 8, 'min_samples_leaf': 5}, {'max_depth': 8, 'min_samples_leaf': 10}, {'max_depth': 8, 'min_samples_leaf': 20}, {'max_depth': 9, 'min_samples_leaf': 1}, {'max_depth': 9, 'min_samples_leaf': 5}, {'max_depth': 9, 'min_samples_leaf': 10}, {'max_depth': 9, 'min_samples_leaf': 20}, {'max_depth': 10, 'min_samples_leaf': 1}, {'max_depth': 10, 'min_samples_leaf': 5}, {'max_depth': 10, 'min_samples_leaf': 10}, {'max_depth': 10, 'min_samples_leaf': 20}, {'max_depth': 15, 'min_samples_leaf': 1}, {'max_depth': 15, 'min_samples_leaf': 5}, {'max_depth': 15, 'min_samples_leaf': 10}, {'max_depth': 15, 'min_samples_leaf': 20}, {'max_depth': 20, 'min_samples_leaf': 1}, {'max_depth': 20, 'min_samples_leaf': 5}, {'max_depth': 20, 'min_samples_leaf': 10}, {'max_depth': 20, 'min_samples_leaf': 20}], 'split0_test_score': array([0.69918699, 0.69918699, 0.69918699, 0.69918699, 0.69918699,\n",
      "       0.69918699, 0.69918699, 0.69918699, 0.69918699, 0.69918699,\n",
      "       0.69918699, 0.69918699, 0.7398374 , 0.74796748, 0.74796748,\n",
      "       0.74796748, 0.7398374 , 0.75609756, 0.74796748, 0.74796748,\n",
      "       0.74796748, 0.73170732, 0.75609756, 0.75609756, 0.76422764,\n",
      "       0.72357724, 0.7398374 , 0.76422764, 0.7398374 , 0.72357724,\n",
      "       0.72357724, 0.76422764, 0.73170732, 0.70731707, 0.72357724,\n",
      "       0.76422764, 0.69918699, 0.72357724, 0.72357724, 0.76422764,\n",
      "       0.73170732, 0.71544715, 0.72357724, 0.76422764, 0.72357724,\n",
      "       0.71544715, 0.72357724, 0.76422764]), 'split1_test_score': array([0.75609756, 0.75609756, 0.75609756, 0.75609756, 0.81300813,\n",
      "       0.81300813, 0.81300813, 0.81300813, 0.80487805, 0.80487805,\n",
      "       0.80487805, 0.80487805, 0.78861789, 0.78861789, 0.78861789,\n",
      "       0.79674797, 0.7804878 , 0.7804878 , 0.7804878 , 0.77235772,\n",
      "       0.75609756, 0.76422764, 0.79674797, 0.78861789, 0.81300813,\n",
      "       0.82113821, 0.78861789, 0.78861789, 0.75609756, 0.80487805,\n",
      "       0.7804878 , 0.78861789, 0.7804878 , 0.80487805, 0.7804878 ,\n",
      "       0.78861789, 0.7398374 , 0.77235772, 0.7804878 , 0.78861789,\n",
      "       0.74796748, 0.77235772, 0.7804878 , 0.78861789, 0.77235772,\n",
      "       0.81300813, 0.7804878 , 0.78861789]), 'split2_test_score': array([0.71544715, 0.71544715, 0.71544715, 0.71544715, 0.76422764,\n",
      "       0.76422764, 0.76422764, 0.76422764, 0.76422764, 0.76422764,\n",
      "       0.76422764, 0.76422764, 0.75609756, 0.75609756, 0.78861789,\n",
      "       0.78861789, 0.73170732, 0.7398374 , 0.7804878 , 0.7804878 ,\n",
      "       0.69105691, 0.68292683, 0.71544715, 0.75609756, 0.65853659,\n",
      "       0.69105691, 0.71544715, 0.75609756, 0.69105691, 0.69105691,\n",
      "       0.71544715, 0.75609756, 0.69105691, 0.68292683, 0.71544715,\n",
      "       0.75609756, 0.66666667, 0.69105691, 0.71544715, 0.75609756,\n",
      "       0.67479675, 0.69105691, 0.71544715, 0.75609756, 0.69918699,\n",
      "       0.69918699, 0.71544715, 0.75609756]), 'split3_test_score': array([0.73170732, 0.73170732, 0.73170732, 0.73170732, 0.72357724,\n",
      "       0.72357724, 0.73170732, 0.73170732, 0.72357724, 0.72357724,\n",
      "       0.73170732, 0.73170732, 0.7398374 , 0.73170732, 0.7398374 ,\n",
      "       0.7398374 , 0.74796748, 0.72357724, 0.74796748, 0.74796748,\n",
      "       0.7398374 , 0.73170732, 0.73170732, 0.73170732, 0.7398374 ,\n",
      "       0.71544715, 0.72357724, 0.7398374 , 0.76422764, 0.7398374 ,\n",
      "       0.71544715, 0.74796748, 0.73170732, 0.74796748, 0.72357724,\n",
      "       0.7398374 , 0.73170732, 0.7398374 , 0.72357724, 0.7398374 ,\n",
      "       0.7398374 , 0.72357724, 0.72357724, 0.74796748, 0.76422764,\n",
      "       0.71544715, 0.72357724, 0.74796748]), 'split4_test_score': array([0.73770492, 0.73770492, 0.73770492, 0.73770492, 0.77868852,\n",
      "       0.77868852, 0.77868852, 0.77868852, 0.79508197, 0.79508197,\n",
      "       0.79508197, 0.77868852, 0.75409836, 0.7704918 , 0.77868852,\n",
      "       0.76229508, 0.7295082 , 0.73770492, 0.77868852, 0.75409836,\n",
      "       0.68032787, 0.7295082 , 0.7704918 , 0.75409836, 0.68032787,\n",
      "       0.7295082 , 0.78688525, 0.75409836, 0.69672131, 0.7295082 ,\n",
      "       0.78688525, 0.75409836, 0.71311475, 0.7295082 , 0.78688525,\n",
      "       0.75409836, 0.69672131, 0.74590164, 0.78688525, 0.75409836,\n",
      "       0.69672131, 0.7295082 , 0.78688525, 0.75409836, 0.71311475,\n",
      "       0.74590164, 0.78688525, 0.75409836]), 'mean_test_score': array([0.72802879, 0.72802879, 0.72802879, 0.72802879, 0.7557377 ,\n",
      "       0.7557377 , 0.75736372, 0.75736372, 0.75739038, 0.75739038,\n",
      "       0.75901639, 0.7557377 , 0.75569772, 0.75897641, 0.76874583,\n",
      "       0.76709316, 0.74590164, 0.74754098, 0.76711982, 0.76057577,\n",
      "       0.72305744, 0.72801546, 0.75409836, 0.75732374, 0.73118752,\n",
      "       0.73614554, 0.75087298, 0.76057577, 0.72958816, 0.73777156,\n",
      "       0.74436892, 0.76220179, 0.72961482, 0.73451953, 0.74599494,\n",
      "       0.76057577, 0.70682394, 0.73454618, 0.74599494, 0.76057577,\n",
      "       0.71820605, 0.72638944, 0.74599494, 0.76220179, 0.73449287,\n",
      "       0.73779821, 0.74599494, 0.76220179]), 'std_test_score': array([0.01941732, 0.01941732, 0.01941732, 0.01941732, 0.04027654,\n",
      "       0.04027654, 0.03909205, 0.03909205, 0.04062867, 0.04062867,\n",
      "       0.03938659, 0.03684843, 0.01783006, 0.01941293, 0.0207658 ,\n",
      "       0.02224595, 0.01847955, 0.0194374 , 0.01565161, 0.01338057,\n",
      "       0.03112419, 0.02597612, 0.02859023, 0.01816004, 0.05608198,\n",
      "       0.04446837, 0.0311236 , 0.0160735 , 0.03024095, 0.03730836,\n",
      "       0.03230307, 0.01419477, 0.02951536, 0.04137164, 0.03098402,\n",
      "       0.0160735 , 0.02638963, 0.02682644, 0.03098402, 0.0160735 ,\n",
      "       0.02786361, 0.02645313, 0.03098402, 0.01419477, 0.02877702,\n",
      "       0.04052694, 0.03098402, 0.01419477]), 'rank_test_score': array([40, 40, 40, 40, 18, 18, 15, 15, 13, 13, 11, 18, 21, 12,  1,  3, 29,\n",
      "       24,  2,  7, 46, 44, 22, 17, 37, 33, 23,  8, 39, 32, 30,  4, 38, 35,\n",
      "       25,  8, 48, 34, 25,  8, 47, 45, 25,  4, 36, 31, 25,  4])}\n"
     ]
    }
   ],
   "source": [
    "from sklearn import svm, datasets\n",
    "from sklearn.model_selection import GridSearchCV\n",
    "\n",
    "parameters = {\"max_depth\":[1,2,3,4,5,6,7,8,9,10,15,20], 'min_samples_leaf':[1,5,10,20]}\n",
    "cl = DecisionTreeClassifier()\n",
    "clf = GridSearchCV(cl, parameters)\n",
    "clf.fit(X_train, y_train)\n",
    "\n",
    "print(clf.best_params_)\n",
    "print(clf.best_score_)\n",
    "print(clf.cv_results_)\n"
   ]
  },
  {
   "cell_type": "markdown",
   "metadata": {},
   "source": [
    "#### d) Modelltraining mit den optimalen Parametern"
   ]
  },
  {
   "cell_type": "markdown",
   "metadata": {},
   "source": [
    "Trainieren Sie nun einen DecisionTreeClassifier mit den optimalen Parametern auf dem Trainingsdatensatz und werten Sie die Accuracy auf dem Trainings- und auf dem Testdatensatz aus. Was beobachten Sie? Vergleichen Sie mit den Ergebnissen aus Teilaufgabe c)"
   ]
  },
  {
   "cell_type": "code",
   "execution_count": 53,
   "metadata": {},
   "outputs": [
    {
     "name": "stdout",
     "output_type": "stream",
     "text": [
      "0.7012987012987013\n",
      "0.7915309446254072\n"
     ]
    }
   ],
   "source": [
    "cl = DecisionTreeClassifier(max_depth=4, min_samples_leaf=10)\n",
    "cl.fit(X_train, y_train)\n",
    "\n",
    "print(cl.score(X_test, y_test))\n",
    "print(cl.score(X_train, y_train))"
   ]
  },
  {
   "cell_type": "markdown",
   "metadata": {},
   "source": [
    "#### e) Modellbewertung: Verzerrung und Varianz"
   ]
  },
  {
   "cell_type": "markdown",
   "metadata": {},
   "source": [
    "Untersuchen/Bewerten Sie die Verzerrung und die Varianz des resultierenden Modells."
   ]
  },
  {
   "cell_type": "code",
   "execution_count": 54,
   "metadata": {},
   "outputs": [],
   "source": [
    "#TODO (hier muss ggf. kein neuer Code geschrieben werden)"
   ]
  },
  {
   "cell_type": "markdown",
   "metadata": {},
   "source": [
    "# Aufgabe 3: Regularisierung bei der polynomialen Regression"
   ]
  },
  {
   "cell_type": "markdown",
   "metadata": {},
   "source": [
    "#### Erzeugung von Zufallsdaten"
   ]
  },
  {
   "cell_type": "code",
   "execution_count": 55,
   "metadata": {},
   "outputs": [],
   "source": [
    "X = np.array([0, 1, 2, 2.5, 3, 3.6, 4, 4.7, 5])\n",
    "y = 0.5*X + 1 + 0.3*np.random.randn(len(X))\n",
    "\n",
    "X = X/np.max(X)\n",
    "y = y/np.max(y)"
   ]
  },
  {
   "cell_type": "markdown",
   "metadata": {},
   "source": [
    "#### Visualisierung der Datenpunkte"
   ]
  },
  {
   "cell_type": "code",
   "execution_count": 56,
   "metadata": {},
   "outputs": [
    {
     "data": {
      "text/plain": [
       "[<matplotlib.lines.Line2D at 0x1da143e2040>]"
      ]
     },
     "execution_count": 56,
     "metadata": {},
     "output_type": "execute_result"
    },
    {
     "data": {
      "image/png": "[encoded data removed]",
      "text/plain": [
       "<Figure size 432x288 with 1 Axes>"
      ]
     },
     "metadata": {
      "needs_background": "light"
     },
     "output_type": "display_data"
    }
   ],
   "source": [
    "import matplotlib.pyplot as plt\n",
    "plt.plot(X,y,'.')"
   ]
  },
  {
   "cell_type": "markdown",
   "metadata": {},
   "source": [
    "#### a) Polynomiale Regression: Parameterbestimmung durch Aufstellen und Lösen der Normalgleichungen"
   ]
  },
  {
   "cell_type": "markdown",
   "metadata": {},
   "source": [
    "Implementieren Sie eine Funktion namens **polyreg**, die die Parameter $\\vec{\\theta}=(\\theta_0,\\theta_1,\\ldots,\\theta_d)$ einer polynomialen Regression mit Hilfe eines Least-Squares-Ansatzes berechnet. Es soll also in Abhängigkeit vom Polynomgrad $d$ eine Modellfunktion der Form $f_{\\vec{\\theta}}(x)=\\theta_0+\\theta_1x+\\theta_2x^2+\\ldots+\\theta_dx^d$ bestimmt werden. Stellen Sie dazu die Normalgleichungen auf (s. Vorlesung über Lineare Regression) und lösen Sie diese."
   ]
  },
  {
   "cell_type": "code",
   "execution_count": 101,
   "metadata": {},
   "outputs": [],
   "source": [
    "#def polyreg(X, y, d, L):\n",
    "\n",
    "def polyreg(X, y, d, L):\n",
    "    \"\"\"\n",
    "    calculates the coefficients of a polynomial regression function \n",
    "    \n",
    "    Parameters:\n",
    "        X (array): training examples for the input variable (1-dimensional array)\n",
    "        y (array): output values corresponding to X (1-dimensional array)\n",
    "        d (int): degree of the polynomial to be fit\n",
    "        \n",
    "    Returns:\n",
    "        theta (array): coefficients of the regression function\n",
    "    \"\"\"\n",
    "    \n",
    "    cntr = 0\n",
    "    mx = np.ones((X.size, d+1))\n",
    "    for i in X:\n",
    "        for j in range(d+1):\n",
    "            mx[cntr, j] = i**j\n",
    "        cntr = cntr+1\n",
    "    I = np.identity(d+1)\n",
    "    \n",
    "    theta = np.linalg.inv((mx.T@mx+L*I))@mx.T@y\n",
    "    \n",
    "    return theta\n",
    "\n"
   ]
  },
  {
   "cell_type": "code",
   "execution_count": 87,
   "metadata": {},
   "outputs": [
    {
     "data": {
      "text/plain": [
       "array([ 0.27472227,  0.13736278,  1.33553845, -0.78340543])"
      ]
     },
     "execution_count": 87,
     "metadata": {},
     "output_type": "execute_result"
    }
   ],
   "source": [
    "polyreg(X,y, 3, 0)"
   ]
  },
  {
   "cell_type": "code",
   "execution_count": null,
   "metadata": {},
   "outputs": [],
   "source": []
  },
  {
   "cell_type": "markdown",
   "metadata": {},
   "source": [
    "#### b) Modellanwendung"
   ]
  },
  {
   "cell_type": "markdown",
   "metadata": {},
   "source": [
    "Fitten Sie mit Hilfe der in a) implementierten Funktion ein Polynom 10. Grades an die gegebenen Daten. Zeichnen Sie das Polynom mit in die Grafik ein. Welche Beobachtung machen Sie?\n",
    "<br><br>\n",
    "Hinweis: mit der Funktion **numpy.polyval** kann man ein Polynom mit gegebenen Koeffizienten auswerten. Dazu muss ggf. die Reihenfolge des Parametervektors theta umgekehrt werden. Dies leistet die Funktion **numpy.flipud**"
   ]
  },
  {
   "cell_type": "code",
   "execution_count": 100,
   "metadata": {},
   "outputs": [
    {
     "data": {
      "text/plain": [
       "[<matplotlib.lines.Line2D at 0x1da15f38a00>]"
      ]
     },
     "execution_count": 100,
     "metadata": {},
     "output_type": "execute_result"
    },
    {
     "data": {
      "image/png": "[encoded data removed]",
      "text/plain": [
       "<Figure size 432x288 with 1 Axes>"
      ]
     },
     "metadata": {
      "needs_background": "light"
     },
     "output_type": "display_data"
    }
   ],
   "source": [
    "t = np.flipud(polyreg(X,y,10,0.1))\n",
    "p = np.polyval(t,X)\n",
    "\n",
    "plt.plot(X,y,'.')\n",
    "plt.plot(X,p)"
   ]
  },
  {
   "cell_type": "code",
   "execution_count": 91,
   "metadata": {},
   "outputs": [
    {
     "data": {
      "text/plain": [
       "array([0.2532973 , 0.43287674, 0.40082551, 0.51000437, 0.77115385,\n",
       "       0.81571305, 0.81527421, 0.87549752, 1.        ])"
      ]
     },
     "execution_count": 91,
     "metadata": {},
     "output_type": "execute_result"
    }
   ],
   "source": [
    "y"
   ]
  },
  {
   "cell_type": "markdown",
   "metadata": {},
   "source": [
    "#### c) Regularisierung"
   ]
  },
  {
   "cell_type": "markdown",
   "metadata": {},
   "source": [
    "Erweitern Sie die in a) geschriebene Funktion, indem Sie Regularisierung \"einbauen\". Der Regularisierungsparameter L soll als zusätzliches Argument übergeben werden. Überlegen Sie sich zunächst, wie die Normalgleichungen für die regularisierte polynomiale Regression lauten. Testen Sie anschließend für L=0 und L=1000 die Funktion. Visualisieren Sie jeweils die resultierende Modellfunktion."
   ]
  }
 ],
 "metadata": {
  "kernelspec": {
   "display_name": "Python 3",
   "language": "python",
   "name": "python3"
  },
  "language_info": {
   "codemirror_mode": {
    "name": "ipython",
    "version": 3
   },
   "file_extension": ".py",
   "mimetype": "text/x-python",
   "name": "python",
   "nbconvert_exporter": "python",
   "pygments_lexer": "ipython3",
   "version": "3.8.5"
  }
 },
 "nbformat": 4,
 "nbformat_minor": 2
}
