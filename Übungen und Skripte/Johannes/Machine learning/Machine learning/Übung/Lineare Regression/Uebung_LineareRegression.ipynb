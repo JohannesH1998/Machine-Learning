{
 "cells": [
  {
   "cell_type": "code",
   "execution_count": 1,
   "metadata": {},
   "outputs": [],
   "source": [
    "import pandas as pd\n",
    "import numpy as np\n",
    "import matplotlib.pyplot as plt"
   ]
  },
  {
   "cell_type": "markdown",
   "metadata": {},
   "source": [
    "#### Laden des Datensatzes"
   ]
  },
  {
   "cell_type": "code",
   "execution_count": 2,
   "metadata": {},
   "outputs": [],
   "source": [
    "df = np.loadtxt(\"oregon_housing_prices.txt\",dtype=np.float64,delimiter=\",\")\n",
    "data_x = df[:,0:1]*0.3048**2 #Feet to m^2\n",
    "data_y = df[:,-1]"
   ]
  },
  {
   "cell_type": "markdown",
   "metadata": {},
   "source": [
    "# Aufgabe 1"
   ]
  },
  {
   "cell_type": "markdown",
   "metadata": {},
   "source": [
    "#### a) Visualisierung"
   ]
  },
  {
   "cell_type": "markdown",
   "metadata": {},
   "source": [
    "Visualisieren Sie die Daten, indem Sie ein Streudiagramm in matplotlib zeichnen. Versehen Sie das Diagramm mit Achsenbeschriftungen und mit einem Titel"
   ]
  },
  {
   "cell_type": "code",
   "execution_count": 5,
   "metadata": {},
   "outputs": [
    {
     "data": {
      "text/plain": [
       "<matplotlib.collections.PathCollection at 0x1ce93c346d0>"
      ]
     },
     "execution_count": 5,
     "metadata": {},
     "output_type": "execute_result"
    },
    {
     "data": {
      "image/png": "[encoded data removed]",
      "text/plain": [
       "<Figure size 432x288 with 1 Axes>"
      ]
     },
     "metadata": {
      "needs_background": "light"
     },
     "output_type": "display_data"
    }
   ],
   "source": [
    "\n",
    "plt.xlabel(\"Wohnfläche\")\n",
    "plt.ylabel(\"Preis\")\n",
    "plt.matplotlib.pyplot.scatter(data_x, data_y)"
   ]
  },
  {
   "cell_type": "markdown",
   "metadata": {},
   "source": [
    "#### b) Lineare Regression mit scikit-learn"
   ]
  },
  {
   "cell_type": "markdown",
   "metadata": {},
   "source": [
    "Trainieren Sie auf dem gesamten Datensatz ein lineares Regressionsmodell in scikit-learn."
   ]
  },
  {
   "cell_type": "code",
   "execution_count": 6,
   "metadata": {},
   "outputs": [],
   "source": [
    "from sklearn.linear_model import LinearRegression\n",
    "reg = LinearRegression().fit(data_x,data_y)"
   ]
  },
  {
   "cell_type": "markdown",
   "metadata": {},
   "source": [
    "#### c) Modell-Output"
   ]
  },
  {
   "cell_type": "markdown",
   "metadata": {},
   "source": [
    "Welche Werte haben die gefitteten Parameter $\\theta_0$ und $\\theta_1$?"
   ]
  },
  {
   "cell_type": "code",
   "execution_count": 10,
   "metadata": {},
   "outputs": [
    {
     "data": {
      "text/plain": [
       "{'copy_X': True, 'fit_intercept': True, 'n_jobs': None, 'normalize': False}"
      ]
     },
     "execution_count": 10,
     "metadata": {},
     "output_type": "execute_result"
    }
   ],
   "source": [
    "reg.get_params()"
   ]
  },
  {
   "cell_type": "markdown",
   "metadata": {},
   "source": [
    "#### d) Visualisierung des Modells"
   ]
  },
  {
   "cell_type": "markdown",
   "metadata": {},
   "source": [
    "Erstellen Sie das Streudiagramm aus a) neu und zeichnen Sie nun auch die Regressionsgerade mit ein."
   ]
  },
  {
   "cell_type": "code",
   "execution_count": 24,
   "metadata": {},
   "outputs": [
    {
     "data": {
      "text/plain": [
       "[<matplotlib.lines.Line2D at 0x1ce9633f190>]"
      ]
     },
     "execution_count": 24,
     "metadata": {},
     "output_type": "execute_result"
    },
    {
     "data": {
      "image/png": "[encoded data removed]",
      "text/plain": [
       "<Figure size 432x288 with 1 Axes>"
      ]
     },
     "metadata": {
      "needs_background": "light"
     },
     "output_type": "display_data"
    }
   ],
   "source": [
    "x = np.concatenate(data_x).ravel()\n",
    "y = data_y\n",
    "\n",
    "\n",
    "plt.plot(x, y, 'o')\n",
    "m, b = np.polyfit(x, y, 1)\n",
    "plt.plot(x,m*x+b)"
   ]
  },
  {
   "cell_type": "code",
   "execution_count": null,
   "metadata": {},
   "outputs": [],
   "source": []
  },
  {
   "cell_type": "markdown",
   "metadata": {},
   "source": [
    "#### e) Einsatz des Modells zur Prognose"
   ]
  },
  {
   "cell_type": "markdown",
   "metadata": {},
   "source": [
    "Welchen Hauspreis prognostiziert das Modell für ein Haus mit $100m^2$ Wohnfläche?"
   ]
  },
  {
   "cell_type": "code",
   "execution_count": 38,
   "metadata": {},
   "outputs": [
    {
     "data": {
      "text/plain": [
       "array([216072.30702901])"
      ]
     },
     "execution_count": 38,
     "metadata": {},
     "output_type": "execute_result"
    }
   ],
   "source": [
    "p = [[100]]\n",
    "#p = p.reshape(-1,1)\n",
    "\n",
    "reg.predict(p)"
   ]
  },
  {
   "cell_type": "markdown",
   "metadata": {},
   "source": [
    "# Aufgabe 2: Lineare Regression durch Lösen der Normalgleichungen"
   ]
  },
  {
   "cell_type": "markdown",
   "metadata": {},
   "source": [
    "#### a) Aufstellen der Matrix"
   ]
  },
  {
   "cell_type": "markdown",
   "metadata": {},
   "source": [
    "Stellen Sie die Matrix $X$ (s. Folien) auf. Legen Sie dazu eine neue Matrix der Dimension $(m,2)$ an, die aus lauter 1en besteht und kopieren Sie data_x in die zweite Spalte"
   ]
  },
  {
   "cell_type": "code",
   "execution_count": 72,
   "metadata": {},
   "outputs": [
    {
     "ename": "IndexError",
     "evalue": "index 1 is out of bounds for axis 0 with size 1",
     "output_type": "error",
     "traceback": [
      "\u001b[1;31m---------------------------------------------------------------------------\u001b[0m",
      "\u001b[1;31mIndexError\u001b[0m                                Traceback (most recent call last)",
      "\u001b[1;32m<ipython-input-72-85e6093279f2>\u001b[0m in \u001b[0;36m<module>\u001b[1;34m\u001b[0m\n\u001b[0;32m      2\u001b[0m \u001b[0mmx\u001b[0m \u001b[1;33m=\u001b[0m \u001b[0mx\u001b[0m\u001b[1;33m\u001b[0m\u001b[1;33m\u001b[0m\u001b[0m\n\u001b[0;32m      3\u001b[0m \u001b[0mmx\u001b[0m \u001b[1;33m=\u001b[0m \u001b[0mmx\u001b[0m\u001b[1;33m[\u001b[0m\u001b[1;33m:\u001b[0m\u001b[1;33m,\u001b[0m\u001b[0mnp\u001b[0m\u001b[1;33m.\u001b[0m\u001b[0mnewaxis\u001b[0m\u001b[1;33m]\u001b[0m\u001b[1;33m\u001b[0m\u001b[1;33m\u001b[0m\u001b[0m\n\u001b[1;32m----> 4\u001b[1;33m \u001b[0mmx\u001b[0m\u001b[1;33m[\u001b[0m\u001b[1;36m0\u001b[0m\u001b[1;33m]\u001b[0m\u001b[1;33m[\u001b[0m\u001b[1;36m1\u001b[0m\u001b[1;33m]\u001b[0m\u001b[1;33m\u001b[0m\u001b[1;33m\u001b[0m\u001b[0m\n\u001b[0m",
      "\u001b[1;31mIndexError\u001b[0m: index 1 is out of bounds for axis 0 with size 1"
     ]
    }
   ],
   "source": [
    "#mx = np.ones(shape=(data_x.size,2))\n",
    "mx = x\n",
    "mx = mx[:,np.newaxis]\n"
   ]
  },
  {
   "cell_type": "code",
   "execution_count": 80,
   "metadata": {},
   "outputs": [
    {
     "data": {
      "text/plain": [
       "array([[  1.        , 195.46799616],\n",
       "       [  1.        , 148.644864  ],\n",
       "       [  1.        , 222.967296  ],\n",
       "       [  1.        , 131.55070464],\n",
       "       [  1.        , 278.70912   ],\n",
       "       [  1.        , 184.4125344 ],\n",
       "       [  1.        , 142.51326336],\n",
       "       [  1.        , 132.57263808],\n",
       "       [  1.        , 128.2061952 ],\n",
       "       [  1.        , 138.79714176],\n",
       "       [  1.        , 180.2318976 ],\n",
       "       [  1.        , 185.80608   ],\n",
       "       [  1.        , 175.5867456 ],\n",
       "       [  1.        , 416.01981312],\n",
       "       [  1.        , 117.80105472],\n",
       "       [  1.        , 213.676992  ],\n",
       "       [  1.        , 122.6320128 ],\n",
       "       [  1.        , 114.82815744],\n",
       "       [  1.        , 242.38403136],\n",
       "       [  1.        , 281.58911424],\n",
       "       [  1.        , 164.15967168],\n",
       "       [  1.        , 175.40093952],\n",
       "       [  1.        , 149.01647616],\n",
       "       [  1.        , 182.27576448],\n",
       "       [  1.        , 361.3928256 ],\n",
       "       [  1.        , 102.193344  ],\n",
       "       [  1.        , 135.45263232],\n",
       "       [  1.        , 234.67307904],\n",
       "       [  1.        , 204.386688  ],\n",
       "       [  1.        , 244.98531648],\n",
       "       [  1.        , 170.84869056],\n",
       "       [  1.        ,  92.90304   ],\n",
       "       [  1.        , 189.5222016 ],\n",
       "       [  1.        , 291.43683648],\n",
       "       [  1.        , 168.24740544],\n",
       "       [  1.        , 133.50166848],\n",
       "       [  1.        , 115.10686656],\n",
       "       [  1.        , 198.06928128],\n",
       "       [  1.        , 391.5863136 ],\n",
       "       [  1.        , 200.85637248],\n",
       "       [  1.        , 154.59065856],\n",
       "       [  1.        , 207.91700352],\n",
       "       [  1.        , 238.48210368],\n",
       "       [  1.        , 111.483648  ],\n",
       "       [  1.        ,  79.15339008],\n",
       "       [  1.        , 172.05643008],\n",
       "       [  1.        , 111.76235712]])"
      ]
     },
     "execution_count": 80,
     "metadata": {},
     "output_type": "execute_result"
    }
   ],
   "source": [
    "mx = np.ones((data_x.size, 2))\n",
    "mx[:,1] = x"
   ]
  },
  {
   "cell_type": "markdown",
   "metadata": {},
   "source": [
    "#### b) Aufstellen und Lösen der Normalgleichungen"
   ]
  },
  {
   "cell_type": "markdown",
   "metadata": {},
   "source": [
    "Berechnen Sie $\\theta_0$ und $\\theta_1$ durch Lösen der Normalgleichungen. Hinweis: das Matrix-Matrix-Produkt $A\\cdot B$   wird in numpy durch den Aufruf $A$@$B$ oder durch Aufruf der Funktion np.dot($A$,$B$) gebildet. Zum Lösen eines linearen Gleichungssystems kann die Funktion numpy.linalg.solve verwendet werden"
   ]
  },
  {
   "cell_type": "code",
   "execution_count": 89,
   "metadata": {},
   "outputs": [
    {
     "data": {
      "text/plain": [
       "array([71270.49244873,  1448.0181458 ])"
      ]
     },
     "execution_count": 89,
     "metadata": {},
     "output_type": "execute_result"
    }
   ],
   "source": [
    "theta = np.linalg.inv((mx.T@mx))@mx.T@data_y\n",
    "\n",
    "theta"
   ]
  },
  {
   "cell_type": "markdown",
   "metadata": {},
   "source": [
    "# Aufgabe 3: Gradientenverfahren"
   ]
  },
  {
   "cell_type": "markdown",
   "metadata": {},
   "source": [
    "In dieser Aufgabe soll die Regressionsaufgabe mit Hilfe des Gradientenverfahrens gelöst werden, das zu implementieren ist."
   ]
  },
  {
   "cell_type": "markdown",
   "metadata": {},
   "source": [
    "#### a) Standardisierung"
   ]
  },
  {
   "cell_type": "markdown",
   "metadata": {},
   "source": [
    "Erstellen Sie zwei numpy-Arrays data_x_std und data_y_std, die durch Standardisierung aus data_x bzw. data_y hervorgehen. Welchen Wert erwarten Sie für $\\theta_0$, wenn ein univariates lineares Regressionsmodell auf den standardisierten Daten trainiert wird? Bilden Sie anschließend wieder die Matrix $X$ (s. Folien), indem Sie eine führende Spalte mit 1en zu data_x_std hinzufügen."
   ]
  },
  {
   "cell_type": "code",
   "execution_count": 101,
   "metadata": {},
   "outputs": [],
   "source": [
    "def stadard(data):\n",
    "    median = np.median(data)\n",
    "    derivation = np.std(data)\n",
    "    tmp = data\n",
    "    for i in range(tmp.size):\n",
    "        tmp[i] = (tmp[i]-median)/derivation\n",
    "    return tmp\n",
    "    "
   ]
  },
  {
   "cell_type": "code",
   "execution_count": 106,
   "metadata": {},
   "outputs": [],
   "source": [
    "x_std = stadard(x)\n",
    "y_std = stadard(data_y)"
   ]
  },
  {
   "cell_type": "code",
   "execution_count": 107,
   "metadata": {},
   "outputs": [
    {
     "data": {
      "text/plain": [
       "<matplotlib.collections.PathCollection at 0x1ce967f6e20>"
      ]
     },
     "execution_count": 107,
     "metadata": {},
     "output_type": "execute_result"
    },
    {
     "data": {
      "image/png": "[encoded data removed]",
      "text/plain": [
       "<Figure size 432x288 with 1 Axes>"
      ]
     },
     "metadata": {
      "needs_background": "light"
     },
     "output_type": "display_data"
    }
   ],
   "source": [
    "plt.matplotlib.pyplot.scatter(x_std, y_std)"
   ]
  },
  {
   "cell_type": "markdown",
   "metadata": {},
   "source": [
    "#### b) Least Squares - Kostenfunktional"
   ]
  },
  {
   "cell_type": "markdown",
   "metadata": {},
   "source": [
    "Vervollständigen Sie die folgende Funktion, die das Least-Squares-Kostenfunktional $J$ realisiert."
   ]
  },
  {
   "cell_type": "code",
   "execution_count": null,
   "metadata": {},
   "outputs": [],
   "source": [
    "def cost(X, Y, theta):\n",
    "    \"\"\"\n",
    "    This function implements the least squares cost function for univariate linear regression\n",
    "    Parameters:\n",
    "        X: m x 2 matrix containing 1s in the first column and the x values of the training samples in the second column\n",
    "        Y: m x 1 matrix containing the target values of the training samples\n",
    "        theta: 2 x 1 parameters of the cost function\n",
    "        \n",
    "    Returns: \n",
    "        value of cost function for a given theta\n",
    "        \n",
    "    \"\"\"\n",
    "    #TODO"
   ]
  },
  {
   "cell_type": "markdown",
   "metadata": {},
   "source": [
    "#### c) Gradientenverfahren"
   ]
  },
  {
   "cell_type": "markdown",
   "metadata": {},
   "source": [
    "Implementieren Sie die folgende Funktion, die das Gradientenverfahren realisiert. Die Iteration soll abbrechen, wenn $\\|update\\|<1e-5$ gilt, oder wenn max_iter Iterationen durchgeführt wurden."
   ]
  },
  {
   "cell_type": "code",
   "execution_count": null,
   "metadata": {},
   "outputs": [],
   "source": [
    "\n",
    "def gradientDescent(X, Y, theta, max_iter, alpha):\n",
    "    \"\"\"\n",
    "    This function implements gradient descent for univariate linear regression.\n",
    "    Parameters:\n",
    "        X: m x 2 matrix containing 1 in the first column and the x values in the second column\n",
    "        Y: m x 1 matrix containing the target values \n",
    "        theta: initial value for theta\n",
    "        max_iter: max number of iterations to be carried out\n",
    "        alpha: step size\n",
    "    Returns: mx1 matrix containing the regression parameters resulting from the iteration\n",
    "    \"\"\"\n",
    "    #TODO"
   ]
  },
  {
   "cell_type": "markdown",
   "metadata": {},
   "source": [
    "#### d) Anwendung auf den standardisierten Häuserdatensatz"
   ]
  },
  {
   "cell_type": "markdown",
   "metadata": {},
   "source": [
    "Wenden Sie das Gradientenverfahren auf den standardisierten Häuserdatensatz an, um die Koeffizienten $\\theta_0$ und $\\theta_1$ zu bestimmen. Verwenden Sie als Startwert den Nullvektor und die Parameter max_iter=50 sowie alpha=1.0"
   ]
  },
  {
   "cell_type": "code",
   "execution_count": null,
   "metadata": {},
   "outputs": [],
   "source": [
    "#TODO"
   ]
  },
  {
   "cell_type": "markdown",
   "metadata": {},
   "source": [
    "#### e)  "
   ]
  },
  {
   "cell_type": "markdown",
   "metadata": {},
   "source": [
    "Verwenden Sie das resultierende Modell, um den prognostizierten Preis für ein Haus mit $100m^2$ zu bestimmen. Transformieren Sie die Daten geeignet. Es sollte derselbe Zahlenwert wie bei Aufgabe 1e herauskommen (ca. 216.000 Euro)."
   ]
  },
  {
   "cell_type": "code",
   "execution_count": null,
   "metadata": {},
   "outputs": [],
   "source": [
    "#TODO"
   ]
  }
 ],
 "metadata": {
  "kernelspec": {
   "display_name": "Python 3",
   "language": "python",
   "name": "python3"
  },
  "language_info": {
   "codemirror_mode": {
    "name": "ipython",
    "version": 3
   },
   "file_extension": ".py",
   "mimetype": "text/x-python",
   "name": "python",
   "nbconvert_exporter": "python",
   "pygments_lexer": "ipython3",
   "version": "3.8.5"
  }
 },
 "nbformat": 4,
 "nbformat_minor": 2
}
