{
 "cells": [
  {
   "cell_type": "code",
   "execution_count": 1,
   "metadata": {},
   "outputs": [],
   "source": [
    "import pandas as pd\n",
    "import numpy as np"
   ]
  },
  {
   "cell_type": "markdown",
   "metadata": {},
   "source": [
    "## Aufgabe 1: Logistische Regression mit sklearn"
   ]
  },
  {
   "cell_type": "markdown",
   "metadata": {},
   "source": [
    "#### a) Daten vorbereiten"
   ]
  },
  {
   "cell_type": "markdown",
   "metadata": {},
   "source": [
    "Lesen Sie den Diabetes-Datensatz ein. Spalten Sie die Zielvariable (Outcome) ab und splitten Sie die Daten anschließend in Trainings- und Testdaten, sodass die Testdaten 30% der ursprünglichen Samples enthalen."
   ]
  },
  {
   "cell_type": "code",
   "execution_count": 2,
   "metadata": {},
   "outputs": [],
   "source": [
    "import pandas as pd\n",
    "import numpy as np\n",
    "from sklearn.model_selection import train_test_split\n",
    "\n",
    "X = pd.read_csv('diabetes.csv')\n",
    "\n",
    "train, test = train_test_split(X, test_size = 0.30)"
   ]
  },
  {
   "cell_type": "markdown",
   "metadata": {},
   "source": [
    "#### b) Logistisches Regressionsmodell auf dem Datensatz trainieren"
   ]
  },
  {
   "cell_type": "markdown",
   "metadata": {},
   "source": [
    "Trainieren Sie in Logistisches Regressionsmodell auf den Trainingsdaten."
   ]
  },
  {
   "cell_type": "code",
   "execution_count": 3,
   "metadata": {},
   "outputs": [],
   "source": [
    "y_train = train.iloc[:,-1]\n",
    "X_train = train.drop(X.columns[-1], axis=1)\n",
    "\n",
    "y_test = test.iloc[:,-1]\n",
    "X_test = test.drop(X.columns[-1], axis=1)"
   ]
  },
  {
   "cell_type": "code",
   "execution_count": 4,
   "metadata": {},
   "outputs": [],
   "source": [
    "from sklearn.linear_model import LogisticRegression\n",
    "\n",
    "\n",
    "clf = LogisticRegression(random_state=0, max_iter = 200).fit(X_train, y_train)"
   ]
  },
  {
   "cell_type": "markdown",
   "metadata": {},
   "source": [
    "#### c) Modellanwendung -und -bewertung"
   ]
  },
  {
   "cell_type": "markdown",
   "metadata": {},
   "source": [
    "Wenden Sie das Modell auf den Trainingsdatensatz und auf den Testdatensatz an und berechnen Sie jeweils die Konfusionsmatrix, die Accuracy, die Precision und den Recall. "
   ]
  },
  {
   "cell_type": "code",
   "execution_count": 5,
   "metadata": {},
   "outputs": [],
   "source": [
    "def stats(true, pred):\n",
    "    c = confusion_matrix(true, pred)\n",
    "    print(\"Confusion Matrix: \\n\", c)\n",
    "\n",
    "    TP = c[0][0]\n",
    "    FP = c[0][1]\n",
    "    FN = c[1][0]\n",
    "    TN = c[1][1]\n",
    "\n",
    "    print(\"TN:\", TN, \"TP:\",TP,\"FN:\",FN,\"FP:\",FP)\n",
    "\n",
    "    acc = (TP+TN)/(TP+TN+FP+FN)\n",
    "\n",
    "    print(\"Accuracy: \\n\", acc)\n",
    "\n",
    "    recall = TP/(TP+FN)\n",
    "\n",
    "    print(\"Recall: \\n\",recall)\n",
    "\n",
    "    precision = TP/(TP+FP)\n",
    "\n",
    "    print(\"Precision: \\n\",precision)"
   ]
  },
  {
   "cell_type": "code",
   "execution_count": 6,
   "metadata": {},
   "outputs": [
    {
     "name": "stdout",
     "output_type": "stream",
     "text": [
      "---------- Test ----------\n",
      "\n",
      "Confusion Matrix: \n",
      " [[134  17]\n",
      " [ 37  43]]\n",
      "TN: 43 TP: 134 FN: 37 FP: 17\n",
      "Accuracy: \n",
      " 0.7662337662337663\n",
      "Recall: \n",
      " 0.783625730994152\n",
      "Precision: \n",
      " 0.8874172185430463\n",
      "---------- Train ----------\n",
      "\n",
      "Confusion Matrix: \n",
      " [[309  40]\n",
      " [ 79 109]]\n",
      "TN: 109 TP: 309 FN: 79 FP: 40\n",
      "Accuracy: \n",
      " 0.7783985102420856\n",
      "Recall: \n",
      " 0.7963917525773195\n",
      "Precision: \n",
      " 0.8853868194842407\n"
     ]
    }
   ],
   "source": [
    "from sklearn.metrics import confusion_matrix\n",
    "\n",
    "results_test = clf.predict(X_test)\n",
    "\n",
    "results_train = clf.predict(X_train)\n",
    "\n",
    "print(\"---------- Test ----------\\n\")\n",
    "stats(y_test,results_test)\n",
    "print(\"---------- Train ----------\\n\")\n",
    "stats(y_train, results_train)"
   ]
  },
  {
   "cell_type": "markdown",
   "metadata": {},
   "source": [
    "#### d) ROC-Kurve zeichnen"
   ]
  },
  {
   "cell_type": "markdown",
   "metadata": {},
   "source": [
    "Berechnen Sie die ROC-AUC-Scores für den Trainings- und den Testdatensatz und zeichen Sie die ROC-Kurven für den Trainings- und den Testdatensatz in ein gemeinsames Diagramm."
   ]
  },
  {
   "cell_type": "code",
   "execution_count": 7,
   "metadata": {},
   "outputs": [
    {
     "data": {
      "text/html": [
       "<div>\n",
       "<style scoped>\n",
       "    .dataframe tbody tr th:only-of-type {\n",
       "        vertical-align: middle;\n",
       "    }\n",
       "\n",
       "    .dataframe tbody tr th {\n",
       "        vertical-align: top;\n",
       "    }\n",
       "\n",
       "    .dataframe thead th {\n",
       "        text-align: right;\n",
       "    }\n",
       "</style>\n",
       "<table border=\"1\" class=\"dataframe\">\n",
       "  <thead>\n",
       "    <tr style=\"text-align: right;\">\n",
       "      <th></th>\n",
       "      <th>Pregnancies</th>\n",
       "      <th>Glucose</th>\n",
       "      <th>BloodPressure</th>\n",
       "      <th>SkinThickness</th>\n",
       "      <th>Insulin</th>\n",
       "      <th>BMI</th>\n",
       "      <th>DiabetesPedigreeFunction</th>\n",
       "      <th>Age</th>\n",
       "    </tr>\n",
       "  </thead>\n",
       "  <tbody>\n",
       "    <tr>\n",
       "      <th>120</th>\n",
       "      <td>0</td>\n",
       "      <td>162</td>\n",
       "      <td>76</td>\n",
       "      <td>56</td>\n",
       "      <td>100</td>\n",
       "      <td>53.2</td>\n",
       "      <td>0.759</td>\n",
       "      <td>25</td>\n",
       "    </tr>\n",
       "    <tr>\n",
       "      <th>289</th>\n",
       "      <td>5</td>\n",
       "      <td>108</td>\n",
       "      <td>72</td>\n",
       "      <td>43</td>\n",
       "      <td>75</td>\n",
       "      <td>36.1</td>\n",
       "      <td>0.263</td>\n",
       "      <td>33</td>\n",
       "    </tr>\n",
       "    <tr>\n",
       "      <th>474</th>\n",
       "      <td>4</td>\n",
       "      <td>114</td>\n",
       "      <td>64</td>\n",
       "      <td>0</td>\n",
       "      <td>0</td>\n",
       "      <td>28.9</td>\n",
       "      <td>0.126</td>\n",
       "      <td>24</td>\n",
       "    </tr>\n",
       "    <tr>\n",
       "      <th>571</th>\n",
       "      <td>2</td>\n",
       "      <td>130</td>\n",
       "      <td>96</td>\n",
       "      <td>0</td>\n",
       "      <td>0</td>\n",
       "      <td>22.6</td>\n",
       "      <td>0.268</td>\n",
       "      <td>21</td>\n",
       "    </tr>\n",
       "    <tr>\n",
       "      <th>109</th>\n",
       "      <td>0</td>\n",
       "      <td>95</td>\n",
       "      <td>85</td>\n",
       "      <td>25</td>\n",
       "      <td>36</td>\n",
       "      <td>37.4</td>\n",
       "      <td>0.247</td>\n",
       "      <td>24</td>\n",
       "    </tr>\n",
       "    <tr>\n",
       "      <th>...</th>\n",
       "      <td>...</td>\n",
       "      <td>...</td>\n",
       "      <td>...</td>\n",
       "      <td>...</td>\n",
       "      <td>...</td>\n",
       "      <td>...</td>\n",
       "      <td>...</td>\n",
       "      <td>...</td>\n",
       "    </tr>\n",
       "    <tr>\n",
       "      <th>711</th>\n",
       "      <td>5</td>\n",
       "      <td>126</td>\n",
       "      <td>78</td>\n",
       "      <td>27</td>\n",
       "      <td>22</td>\n",
       "      <td>29.6</td>\n",
       "      <td>0.439</td>\n",
       "      <td>40</td>\n",
       "    </tr>\n",
       "    <tr>\n",
       "      <th>324</th>\n",
       "      <td>2</td>\n",
       "      <td>112</td>\n",
       "      <td>75</td>\n",
       "      <td>32</td>\n",
       "      <td>0</td>\n",
       "      <td>35.7</td>\n",
       "      <td>0.148</td>\n",
       "      <td>21</td>\n",
       "    </tr>\n",
       "    <tr>\n",
       "      <th>58</th>\n",
       "      <td>0</td>\n",
       "      <td>146</td>\n",
       "      <td>82</td>\n",
       "      <td>0</td>\n",
       "      <td>0</td>\n",
       "      <td>40.5</td>\n",
       "      <td>1.781</td>\n",
       "      <td>44</td>\n",
       "    </tr>\n",
       "    <tr>\n",
       "      <th>78</th>\n",
       "      <td>0</td>\n",
       "      <td>131</td>\n",
       "      <td>0</td>\n",
       "      <td>0</td>\n",
       "      <td>0</td>\n",
       "      <td>43.2</td>\n",
       "      <td>0.270</td>\n",
       "      <td>26</td>\n",
       "    </tr>\n",
       "    <tr>\n",
       "      <th>145</th>\n",
       "      <td>0</td>\n",
       "      <td>102</td>\n",
       "      <td>75</td>\n",
       "      <td>23</td>\n",
       "      <td>0</td>\n",
       "      <td>0.0</td>\n",
       "      <td>0.572</td>\n",
       "      <td>21</td>\n",
       "    </tr>\n",
       "  </tbody>\n",
       "</table>\n",
       "<p>231 rows × 8 columns</p>\n",
       "</div>"
      ],
      "text/plain": [
       "     Pregnancies  Glucose  BloodPressure  SkinThickness  Insulin   BMI  \\\n",
       "120            0      162             76             56      100  53.2   \n",
       "289            5      108             72             43       75  36.1   \n",
       "474            4      114             64              0        0  28.9   \n",
       "571            2      130             96              0        0  22.6   \n",
       "109            0       95             85             25       36  37.4   \n",
       "..           ...      ...            ...            ...      ...   ...   \n",
       "711            5      126             78             27       22  29.6   \n",
       "324            2      112             75             32        0  35.7   \n",
       "58             0      146             82              0        0  40.5   \n",
       "78             0      131              0              0        0  43.2   \n",
       "145            0      102             75             23        0   0.0   \n",
       "\n",
       "     DiabetesPedigreeFunction  Age  \n",
       "120                     0.759   25  \n",
       "289                     0.263   33  \n",
       "474                     0.126   24  \n",
       "571                     0.268   21  \n",
       "109                     0.247   24  \n",
       "..                        ...  ...  \n",
       "711                     0.439   40  \n",
       "324                     0.148   21  \n",
       "58                      1.781   44  \n",
       "78                      0.270   26  \n",
       "145                     0.572   21  \n",
       "\n",
       "[231 rows x 8 columns]"
      ]
     },
     "execution_count": 7,
     "metadata": {},
     "output_type": "execute_result"
    }
   ],
   "source": [
    "X_test"
   ]
  },
  {
   "cell_type": "code",
   "execution_count": 8,
   "metadata": {},
   "outputs": [
    {
     "data": {
      "image/png": "[encoded data removed]",
      "text/plain": [
       "<Figure size 576x396 with 1 Axes>"
      ]
     },
     "metadata": {},
     "output_type": "display_data"
    },
    {
     "name": "stdout",
     "output_type": "stream",
     "text": [
      "ROC_AUC_scores: \n",
      "Train:  0.838535633725538 \n",
      "Test:  0.8290562913907286\n"
     ]
    }
   ],
   "source": [
    "from sklearn import metrics\n",
    "import matplotlib.pyplot as plt\n",
    "\n",
    "fpr, tpr, thresholds = metrics.roc_curve(y_train, clf.decision_function(X_train), pos_label=1)\n",
    "fpr1, tpr1, thresholds1 = metrics.roc_curve(y_test, clf.decision_function(X_test), pos_label=1)\n",
    "\n",
    "plt.style.use('seaborn')\n",
    "plt.plot(fpr, tpr, linestyle='--',color='orange', label='ROC Curve train')\n",
    "plt.plot(fpr1, tpr1, linestyle='--',color='blue', label='ROC Curve test')\n",
    "plt.legend(loc='best')\n",
    "plt.show()\n",
    "\n",
    "\n",
    "\n",
    "ROC_AUC_score_test = metrics.roc_auc_score(y_test, clf.decision_function(X_test))\n",
    "ROC_AUC_score_train = metrics.roc_auc_score(y_train, clf.decision_function(X_train))\n",
    "\n",
    "print(\"ROC_AUC_scores: \\nTrain: \", ROC_AUC_score_train,\"\\nTest: \",ROC_AUC_score_test)"
   ]
  },
  {
   "cell_type": "markdown",
   "metadata": {},
   "source": [
    "#### e) Precision-Recall-Kurve zeichnen"
   ]
  },
  {
   "cell_type": "markdown",
   "metadata": {},
   "source": [
    "Zeichen Sie die Precision-Recall-Kurve für den Trainings- und den Testdatensatz in ein gemeinsames Diagramm."
   ]
  },
  {
   "cell_type": "code",
   "execution_count": 19,
   "metadata": {},
   "outputs": [
    {
     "data": {
      "image/png": "[encoded data removed]",
      "text/plain": [
       "<Figure size 576x396 with 1 Axes>"
      ]
     },
     "metadata": {},
     "output_type": "display_data"
    },
    {
     "data": {
      "image/png": "[encoded data removed]",
      "text/plain": [
       "<Figure size 576x396 with 1 Axes>"
      ]
     },
     "metadata": {},
     "output_type": "display_data"
    }
   ],
   "source": [
    "from sklearn.metrics import PrecisionRecallDisplay\n",
    "\n",
    "display = PrecisionRecallDisplay.from_estimator(clf, X_test, y_test, name=\"LinearSVC\")\n",
    "_ = display.ax_.set_title(\"2-class Precision-Recall curve\")\n",
    "\n",
    "display = PrecisionRecallDisplay.from_estimator(clf, X_train, y_train, name=\"LinearSVC\")\n",
    "_ = display.ax_.set_title(\"2-class Precision-Recall curve\")"
   ]
  },
  {
   "cell_type": "markdown",
   "metadata": {},
   "source": [
    "#### f) Beurteilen Sie anhand der bisherigen Ergebnisse die Güte des Modells."
   ]
  },
  {
   "cell_type": "markdown",
   "metadata": {},
   "source": [
    "TODO"
   ]
  },
  {
   "cell_type": "markdown",
   "metadata": {},
   "source": [
    "## Aufgabe 2: Implementierung eines Logistischen Regressionsmodells"
   ]
  },
  {
   "cell_type": "markdown",
   "metadata": {},
   "source": [
    "In dieser Aufgabe soll ein Logistisches Regressionsmodell selbst implementiert werden und anhand des Iris-Datensatzes getestet werden."
   ]
  },
  {
   "cell_type": "markdown",
   "metadata": {},
   "source": [
    "#### Iris-Datensatz lesen"
   ]
  },
  {
   "cell_type": "code",
   "execution_count": 20,
   "metadata": {},
   "outputs": [],
   "source": [
    "from sklearn.datasets import load_iris\n",
    "X, y = load_iris(return_X_y=True)"
   ]
  },
  {
   "cell_type": "code",
   "execution_count": 21,
   "metadata": {},
   "outputs": [],
   "source": [
    "X = X[0:100,0:2]\n",
    "y = y[0:100].reshape(-1,1)"
   ]
  },
  {
   "cell_type": "markdown",
   "metadata": {},
   "source": [
    "#### a) Logistische Funktion"
   ]
  },
  {
   "cell_type": "markdown",
   "metadata": {},
   "source": [
    "Implementieren Sie die logistische Funktion $g(x)=\\frac{1}{1+e^{-x}}$"
   ]
  },
  {
   "cell_type": "code",
   "execution_count": 23,
   "metadata": {},
   "outputs": [],
   "source": [
    "def g(x):\n",
    "    return 1/(1+math.e**-x)"
   ]
  },
  {
   "cell_type": "markdown",
   "metadata": {},
   "source": [
    "#### b) Vektorisierte Modellfunktion"
   ]
  },
  {
   "cell_type": "markdown",
   "metadata": {},
   "source": [
    "Implementieren Sie eine (vektorisierte) Funktion, die die Modellfunktion $f_{\\vec{\\theta}}(x)=g(\\theta_0+\\theta_1x_1+\\ldots+\\theta_px_p)=g(\\vec{\\theta}^T\\vec{x})$ auf einem Datensatz bestehend aus $m$ Samples auswertet. Die Funktion soll den Vektor $\\vec{\\theta}=(\\theta_0,\\ldots,\\theta_p)^T\\in\\mathbb{R}^{p+1}$ und die Daten-Matrix $M=\\left(\\begin{array}{ll}1&x^{(1)}_1&\\ldots & x^{(1)}_p\\\\ 1 & x^{(2)}_1&\\ldots & x^{(2)}_p\\\\ \\vdots & \\vdots &&\\vdots \\\\ 1& x^{(m)}_1&\\ldots & x^{(m)}_p\\end{array}\\right)$ als Argumente haben."
   ]
  },
  {
   "cell_type": "code",
   "execution_count": 14,
   "metadata": {},
   "outputs": [],
   "source": [
    "def f(M, theta):\n",
    "    return #TODO"
   ]
  },
  {
   "cell_type": "markdown",
   "metadata": {},
   "source": [
    "#### c) Vektorisiertes Kostenfunktional"
   ]
  },
  {
   "cell_type": "markdown",
   "metadata": {},
   "source": [
    "Implementieren Sie das Kostenfunktional $J(\\vec{\\theta})= -\\frac{1}{m}\\sum_{i=1}^m y^{(i)}\\log\\left(f_{\\vec{\\theta}}(\\vec{x}^{(i)})\\right)+(1-y^{(i)})\\log\\left(1-f_{\\vec{\\theta}}(\\vec{x}^{(i)})\\right)$"
   ]
  },
  {
   "cell_type": "code",
   "execution_count": 15,
   "metadata": {},
   "outputs": [
    {
     "ename": "SyntaxError",
     "evalue": "unexpected EOF while parsing (<ipython-input-15-30bf50aeaf47>, line 2)",
     "output_type": "error",
     "traceback": [
      "\u001b[1;36m  File \u001b[1;32m\"<ipython-input-15-30bf50aeaf47>\"\u001b[1;36m, line \u001b[1;32m2\u001b[0m\n\u001b[1;33m    #TODO\u001b[0m\n\u001b[1;37m         ^\u001b[0m\n\u001b[1;31mSyntaxError\u001b[0m\u001b[1;31m:\u001b[0m unexpected EOF while parsing\n"
     ]
    }
   ],
   "source": [
    "def J(M, y, theta):\n",
    "  #TODO"
   ]
  },
  {
   "cell_type": "markdown",
   "metadata": {},
   "source": [
    "#### d) Gradientenverfahren"
   ]
  },
  {
   "cell_type": "markdown",
   "metadata": {},
   "source": [
    "Implementieren Sie das Gradientenverfahren für die Logistische Regression"
   ]
  },
  {
   "cell_type": "code",
   "execution_count": null,
   "metadata": {},
   "outputs": [],
   "source": [
    "\n",
    "def gradient_descent(M, y, theta, max_iter, tol):\n",
    "    \n",
    "    \"\"\"\n",
    "    Computes the weights of a logistic regression classifier using gradient descent\n",
    "        \n",
    "    Parameters:\n",
    "        M (array of shape m x p+1): extended matrix of training examples (see above)\n",
    "        y (array of shape m x 1): target values corresponding to X\n",
    "        theta (array of shape p+1 x 1): initial values for the weights\n",
    "        max_iter (int):  max number of iterations to be carried out\n",
    "        tol: the iteration is stopped if norm(update)<tol\n",
    "        \n",
    "    Returns:\n",
    "        theta (array of shape p+1 x 1): weights computed by gradient descent\n",
    "    \"\"\"\n",
    " \n",
    "\n",
    "    #TODO\n",
    "\n",
    "    "
   ]
  },
  {
   "cell_type": "markdown",
   "metadata": {},
   "source": [
    "#### e) Implementierung des Klassifikators für Logistische Regression"
   ]
  },
  {
   "cell_type": "markdown",
   "metadata": {},
   "source": [
    "Die folgende Klasse implementiert einen Klassifikator für Logistische Regression. Vervollständigen Sie die Methoden **predict_proba** und **predict**."
   ]
  },
  {
   "cell_type": "code",
   "execution_count": null,
   "metadata": {},
   "outputs": [],
   "source": [
    "class MyLogisticRegressionClassifier:\n",
    "    \n",
    "    def __init__(self, max_iter=100):\n",
    "        self.theta = None\n",
    "        self.max_iter = max_iter\n",
    "    \n",
    "    def fit(self, X, y):\n",
    "        \"\"\"\n",
    "        Fits a Logistic regression classifier by employing gradient descent. The the resulting weights \n",
    "        are stored in self.theta\n",
    "        \n",
    "        Parameters:\n",
    "            X (array of shape m x p): matrix training examples\n",
    "            y (array of shape m x 1): target values corresponding to X\n",
    "        \"\"\"\n",
    "\n",
    "        m, p = X.shape\n",
    "        M = np.ones((m,p+1))\n",
    "        M[:,1:] = X\n",
    "        theta = np.zeros((p+1,1))\n",
    "            \n",
    "        self.theta = gradient_descent(M, y, theta, self.max_iter, 1e-5)\n",
    "        \n",
    "    def predict_proba(self, X):\n",
    "        \"\"\"\n",
    "        Predicts the class probabilities for the positive class for samples (rows) in X\n",
    "        \n",
    "        Parameters:\n",
    "            X (array of shape m x p): matrix containing the samples\n",
    "        \n",
    "        Returns:\n",
    "            y (array of shape m x 1): array containing the predicted class probabilities\n",
    "        \n",
    "        \"\"\"\n",
    "        m, p = X.shape\n",
    "        M = np.ones((m,p+1))\n",
    "        M[:,1:] = X\n",
    "\n",
    "        return #TODO\n",
    "    \n",
    "    def predict(self, X):\n",
    "        \"\"\"\n",
    "        Predicts the class lables for all samples (rows) in X\n",
    "        \n",
    "        Parameters:\n",
    "            X (array of shape m x p): matrix containing the samples\n",
    "        \n",
    "        Returns:\n",
    "            y (array of shape m x 1): array containing predicted class labels\n",
    "        \n",
    "        \"\"\"\n",
    "        return #TODO"
   ]
  },
  {
   "cell_type": "markdown",
   "metadata": {},
   "source": [
    "#### f) Anwendung des Klassifikators"
   ]
  },
  {
   "cell_type": "markdown",
   "metadata": {},
   "source": [
    "Wenden Sie den Klassifikator auf den Iris-Datensatz an. Berechnen Sie die erzielte Accuracy auf dem gesamten Datensatz."
   ]
  },
  {
   "cell_type": "code",
   "execution_count": null,
   "metadata": {},
   "outputs": [],
   "source": [
    "#TODO"
   ]
  },
  {
   "cell_type": "markdown",
   "metadata": {},
   "source": [
    "#### g) Decision Boundary"
   ]
  },
  {
   "cell_type": "markdown",
   "metadata": {},
   "source": [
    "Zeichnen Sie in das folgende Diagramm den decision boundary ein."
   ]
  },
  {
   "cell_type": "code",
   "execution_count": null,
   "metadata": {},
   "outputs": [],
   "source": [
    "import matplotlib.pyplot as plt\n",
    "%matplotlib inline\n",
    "\n",
    "\n",
    "setosa = plt.scatter(X[0:50,0], X[0:50,1], c='r')\n",
    "versicolor = plt.scatter(X[50:100,0], X[50:100,1], c='b')\n",
    "\n",
    "plt.xlabel('sepal length')\n",
    "plt.ylabel('sepal width')\n",
    "plt.legend((setosa, versicolor), ('setosa', 'versicolor'))"
   ]
  },
  {
   "cell_type": "code",
   "execution_count": null,
   "metadata": {},
   "outputs": [],
   "source": []
  }
 ],
 "metadata": {
  "kernelspec": {
   "display_name": "Python 3",
   "language": "python",
   "name": "python3"
  },
  "language_info": {
   "codemirror_mode": {
    "name": "ipython",
    "version": 3
   },
   "file_extension": ".py",
   "mimetype": "text/x-python",
   "name": "python",
   "nbconvert_exporter": "python",
   "pygments_lexer": "ipython3",
   "version": "3.8.5"
  }
 },
 "nbformat": 4,
 "nbformat_minor": 2
}
