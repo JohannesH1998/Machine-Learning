{
 "cells": [
  {
   "cell_type": "markdown",
   "metadata": {},
   "source": [
    "# Übung 1"
   ]
  },
  {
   "cell_type": "markdown",
   "metadata": {},
   "source": [
    "In dieser Übung beschäftigen Sie sich mit dem kNN Verfahren und mit der Machine-Learning Bibliothek <a href=\"https://scikit-learn.org/stable/\">sklearn</a>. \n",
    "\n",
    "Die Datensätze werden im weiteren Verlauf der Vorlesung häufig als <a href=\"https://numpy.org/\">Numpy</a>-Arrays oder als <a href=\"https://pandas.pydata.org/\">pandas</a>-Dataframes eingelesen und verarbeitet. Eine gute Einführung in diese beiden Bibliotheken bietet das Buch <a href=\"https://ebookcentral.proquest.com/lib/othaw/detail.action?docID=5572584\">Datenanalyse mit Python</a>, das inzwischen aus dem Hochschulnetz kostenlos als E-Book verfügbar ist."
   ]
  },
  {
   "cell_type": "markdown",
   "metadata": {},
   "source": [
    "Zuerst werden ein paar Module importiert:"
   ]
  },
  {
   "cell_type": "code",
   "execution_count": 20,
   "metadata": {},
   "outputs": [],
   "source": [
    "import pandas as pd\n",
    "import numpy as np"
   ]
  },
  {
   "cell_type": "code",
   "execution_count": 21,
   "metadata": {},
   "outputs": [],
   "source": [
    "from sklearn import datasets\n",
    "from sklearn.model_selection import train_test_split"
   ]
  },
  {
   "cell_type": "markdown",
   "metadata": {},
   "source": [
    "In den folgenden Aufgaben soll mit dem Iris-Datensatz gearbeitet werden. Dazu wird er geladen:"
   ]
  },
  {
   "cell_type": "code",
   "execution_count": 22,
   "metadata": {},
   "outputs": [],
   "source": [
    "iris = datasets.load_iris()\n",
    "X = iris.data\n",
    "y = iris.target"
   ]
  },
  {
   "cell_type": "markdown",
   "metadata": {},
   "source": [
    "#### Visualisierung"
   ]
  },
  {
   "cell_type": "markdown",
   "metadata": {},
   "source": [
    "Die Bibliothek Matplotlib stellt Funktionalität zur Visualisierung bereit. Eine umfangreiche Sammlung an Beispielen finden Sie <a href=\"https://matplotlib.org/gallery.html#\">hier</a>. Wir wollen den Iris-Datensatz visualisieren und zeichnen dazu zwei Streudiagramme."
   ]
  },
  {
   "cell_type": "code",
   "execution_count": 23,
   "metadata": {},
   "outputs": [
    {
     "data": {
      "text/plain": [
       "<matplotlib.legend.Legend at 0x1bd905fbc08>"
      ]
     },
     "execution_count": 23,
     "metadata": {},
     "output_type": "execute_result"
    },
    {
     "data": {
      "image/png": "[encoded data removed]",
      "text/plain": [
       "<Figure size 1080x360 with 2 Axes>"
      ]
     },
     "metadata": {
      "needs_background": "light"
     },
     "output_type": "display_data"
    }
   ],
   "source": [
    "import matplotlib.pyplot as plt\n",
    "%matplotlib inline\n",
    "\n",
    "f, (ax1, ax2) = plt.subplots(1, 2, figsize=(15,5))\n",
    "\n",
    "ax1.scatter(X[y==0,0], X[y==0,1], c='blue')\n",
    "ax1.scatter(X[y==1,0], X[y==1,1], c='orange')\n",
    "ax1.scatter(X[y==2,0], X[y==2,1], c='green')\n",
    "ax1.set_xlabel('sepal length')\n",
    "ax1.set_ylabel('sepal width')\n",
    "ax1.legend(['iris setosa','iris versicolor','iris virginica'])\n",
    "\n",
    "ax2.scatter(X[y==0,2], X[y==0,3], c='blue')\n",
    "ax2.scatter(X[y==1,2], X[y==1,3], c='orange')\n",
    "ax2.scatter(X[y==2,2], X[y==2,3], c='green')\n",
    "ax2.set_xlabel('petal length')\n",
    "ax2.set_ylabel('petal width')\n",
    "ax2.legend(['iris setosa','iris versicolor','iris virginica'])"
   ]
  },
  {
   "cell_type": "markdown",
   "metadata": {},
   "source": [
    "#### Train-Test-Split"
   ]
  },
  {
   "cell_type": "markdown",
   "metadata": {},
   "source": [
    "Die Hälfte der Daten wird zum Modelltraining verwendet, die andere Hälfte zum Testen:"
   ]
  },
  {
   "cell_type": "code",
   "execution_count": 24,
   "metadata": {},
   "outputs": [],
   "source": [
    "X_train, X_test, y_train, y_test = train_test_split(X,y, test_size=0.5)"
   ]
  },
  {
   "cell_type": "markdown",
   "metadata": {},
   "source": [
    "### Aufgabe 1: KNN-Implementierung"
   ]
  },
  {
   "cell_type": "markdown",
   "metadata": {},
   "source": [
    "In dieser Aufgabe soll das KNN-Verfahren \"from scratch\" implementiert werden."
   ]
  },
  {
   "cell_type": "markdown",
   "metadata": {},
   "source": [
    "#### a) Euklidische Distanz"
   ]
  },
  {
   "cell_type": "markdown",
   "metadata": {},
   "source": [
    "Schreiben Sie eine Funktion namens **dist**, die die Euklidische Distanz zwischen zwei Punkten P1 und P2 berechnet. Verwenden Sie dazu eine *list comprehension*. Wie lautet die euklidische Distanz zwischen den beiden ersten in X_train enthaltenen Objekten?"
   ]
  },
  {
   "cell_type": "code",
   "execution_count": 25,
   "metadata": {},
   "outputs": [],
   "source": [
    "import math\n",
    "def dist(P1, P2):\n",
    "    \"\"\"\n",
    "    Parameters:\n",
    "        P1,P2 (array like): points to calculate distance\n",
    "\n",
    "    Returns:\n",
    "        Euclidean distance of P1, P2\n",
    "\n",
    "    \"\"\"\n",
    "\n",
    "    return sum([(p1-p2)**2 for (p1,p2) in zip(P1,P2)])**(0.5)\n",
    "    \n",
    "    #TODO\n",
    "    \n",
    "    \n"
   ]
  },
  {
   "cell_type": "code",
   "execution_count": 26,
   "metadata": {},
   "outputs": [
    {
     "data": {
      "text/plain": [
       "0.9486832980505132"
      ]
     },
     "execution_count": 26,
     "metadata": {},
     "output_type": "execute_result"
    }
   ],
   "source": [
    "dist(X_train[0, 0:2],X_train[1, 0:2])"
   ]
  },
  {
   "cell_type": "markdown",
   "metadata": {},
   "source": [
    "#### b) Bestimmung der nächsten Nachbarn"
   ]
  },
  {
   "cell_type": "markdown",
   "metadata": {},
   "source": [
    "Schreiben Sie eine Funktion namens **get_neighbors**, welche die Indizes der  **n_neighbors** nächsten Nachbarn eines gegebenen Punktes Q in einem Datensatz X zurückgibt.<br>\n",
    "Hinweis: die Funktion **numpy.argsort** kann hilfreich sein."
   ]
  },
  {
   "cell_type": "code",
   "execution_count": 27,
   "metadata": {},
   "outputs": [],
   "source": [
    "def get_neighbors(Q, X, n_neighbors):\n",
    "    \"\"\"\n",
    "    Computes the n_neighbors nearest neighbors of Q in X\n",
    "    \n",
    "    Parameters:\n",
    "        Q (array-like): query point\n",
    "        n_neighbors (int): number of neighbors so search\n",
    "\n",
    "    Returns:\n",
    "        array of shape = [n_neighbors, 1] containing the row indices of the \n",
    "        n_neighbors nearest neighbors of Q in X\n",
    "\n",
    "    \"\"\"\n",
    "    #TODO\n",
    "    return (np.array([dist(Q, P) for P in X])).argsort()[0:n_neighbors]\n"
   ]
  },
  {
   "cell_type": "code",
   "execution_count": 28,
   "metadata": {},
   "outputs": [
    {
     "data": {
      "text/plain": [
       "array([ 0, 17,  4, 39], dtype=int64)"
      ]
     },
     "execution_count": 28,
     "metadata": {},
     "output_type": "execute_result"
    }
   ],
   "source": [
    "get_neighbors(X[0], X, 4)"
   ]
  },
  {
   "cell_type": "markdown",
   "metadata": {},
   "source": [
    "#### c) Klassifikation des Testdatensatzes"
   ]
  },
  {
   "cell_type": "markdown",
   "metadata": {},
   "source": [
    "Ermitteln Sie die Klassenzuordnung für alle Objekte des Testdatensatzes.\n",
    "Vervollständigen Sie dazu die funktion **predict**."
   ]
  },
  {
   "cell_type": "code",
   "execution_count": 29,
   "metadata": {},
   "outputs": [],
   "source": [
    "def predict(X_train, y_train, X_test, n_neighbors):\n",
    "    \"\"\"\n",
    "    Predicts the class of all objects in X_test using k-NN \n",
    "    \n",
    "    Parameters:\n",
    "        X_train (array-like): training samples of shape [n_samples,n_features]\n",
    "        y_train (array-like): training labels of shape = [n_samples]\n",
    "        X_test (array-like): test samples of shape [n_query, n_features]\n",
    "        n_neighbors (int): number of neighbors so search for\n",
    "\n",
    "    Returns:\n",
    "        array of shape = [n_query, 1] containing the predicted labels\n",
    "\n",
    "    \"\"\"\n",
    "\n",
    "\n",
    "    #TODO\n",
    "    y_test = np.zeros((X_test.shape[0]))   \n",
    "    for (x, i) in zip(X_test, range(X_test.shape[0])):\n",
    "            neighbors = get_neighbors(x, X_train, n_neighbors)  \n",
    "            y_neigbors = [y_train[neighbors[n]] for n in range(n_neighbors)]\n",
    "            y_test[i] = max(set(y_neigbors), key = y_neigbors.count)\n",
    "    return y_test"
   ]
  },
  {
   "cell_type": "code",
   "execution_count": 30,
   "metadata": {},
   "outputs": [
    {
     "data": {
      "text/plain": [
       "array([0., 2., 0., 1., 1., 0., 0., 0., 0., 2., 1., 0., 0., 0., 0., 2., 2.,\n",
       "       0., 2., 1., 2., 0., 1., 1., 0., 1., 0., 1., 2., 2., 2., 1., 2., 1.,\n",
       "       1., 2., 0., 0., 2., 1., 1., 0., 2., 0., 1., 1., 1., 1., 2., 1., 0.,\n",
       "       0., 0., 0., 2., 1., 1., 1., 1., 2., 2., 1., 2., 2., 1., 1., 1., 2.,\n",
       "       0., 0., 0., 1., 2., 2., 2.])"
      ]
     },
     "execution_count": 30,
     "metadata": {},
     "output_type": "execute_result"
    }
   ],
   "source": [
    "y_hat = predict(X_train,y_train,X_test,5)\n",
    "y_hat"
   ]
  },
  {
   "cell_type": "markdown",
   "metadata": {},
   "source": [
    "#### d) Modellbewertung"
   ]
  },
  {
   "cell_type": "markdown",
   "metadata": {},
   "source": [
    "Bewerten Sie die Güte des Modells, indem Sie den Anteil der falsch klassifizierten Objekte des Trainingsdatensatzes berechnen. "
   ]
  },
  {
   "cell_type": "code",
   "execution_count": 31,
   "metadata": {},
   "outputs": [
    {
     "name": "stdout",
     "output_type": "stream",
     "text": [
      "94.66666666666667 %\n"
     ]
    }
   ],
   "source": [
    "#TODO\n",
    "y_hat = predict(X_train,y_train,X_test,5)\n",
    "\n",
    "trueClas = np.count_nonzero(y_hat==y_test)\n",
    "print(trueClas*100/y_hat.shape[0], \"%\")"
   ]
  },
  {
   "cell_type": "markdown",
   "metadata": {},
   "source": [
    "### Aufgabe 2: KNN mit Scikit Learn"
   ]
  },
  {
   "cell_type": "markdown",
   "metadata": {},
   "source": [
    "Wiederholen Sie Aufgabe 1 unter Verwendung der Klasse <a href=\"https://scikit-learn.org/stable/modules/generated/sklearn.neighbors.KNeighborsClassifier.html\">KNeighborsClassifier</a> der Bibliothek sklearn. Machen Sie sich zunächst anhand der Dokumentation mit der Funktionsweise der Klasse vertraut."
   ]
  },
  {
   "cell_type": "code",
   "execution_count": 32,
   "metadata": {},
   "outputs": [
    {
     "name": "stdout",
     "output_type": "stream",
     "text": [
      "0.9466666666666667\n"
     ]
    }
   ],
   "source": [
    "#TODO\n",
    "from sklearn.neighbors import KNeighborsClassifier\n",
    "neigh = KNeighborsClassifier(n_neighbors=5)\n",
    "neigh.fit(X_train, y_train)\n",
    "print(neigh.score(X_test, y_test))"
   ]
  },
  {
   "cell_type": "markdown",
   "metadata": {},
   "source": [
    "### Aufgabe 3: kNN mit k-d-Tree"
   ]
  },
  {
   "cell_type": "markdown",
   "metadata": {},
   "source": [
    "In dieser Aufgabe soll das kNN-Verfahren mit Hilfe eines k-d-Baums realisiert und getestet werden. <br>\n"
   ]
  },
  {
   "cell_type": "markdown",
   "metadata": {},
   "source": [
    "#### a) Implementierung eines k-d-Baums"
   ]
  },
  {
   "cell_type": "markdown",
   "metadata": {},
   "source": [
    "Vervollständigen Sie die unten stehende Klasse **KDNode** zum Aufbau eines k-d-Baums. "
   ]
  },
  {
   "cell_type": "code",
   "execution_count": 216,
   "metadata": {},
   "outputs": [],
   "source": [
    "class KDTreeH:\n",
    "    def __init__(self):\n",
    "        self.root = KDNode()\n",
    "    \n",
    "    def construct(self, X, min_samples_leaf):    \n",
    "        \"\"\"\n",
    "        Constructs a KDTree from the data set X having at least min_samples_leaf data points in each leaf.\n",
    "        This method calls the recursive method construct from the class KDNode\n",
    "        \"\"\"    \n",
    "        self.root.construct(X, min_samples_leaf)\n",
    "        \n",
    "    def find_nearest_neighbor(self, Q):\n",
    "        \"\"\"\n",
    "        Find nearest neighbor of Q in the KDTree\n",
    "        \"\"\"  \n",
    "        return self.root.find_nearest_neighbor(Q)\n",
    "    \n",
    "    \n",
    "    \n",
    "class KDNode:\n",
    "    \"\"\"\n",
    "    The class KDNode provides the node data structure and methods to recursively construct a KDTree\n",
    "    from a given data set.\n",
    "    \"\"\" \n",
    "    \n",
    "    def __init__(self, parent=None, split_var=0, name=\"|\"):\n",
    "        self.X = None\n",
    "        self.left = None #left child of current node\n",
    "        self.right = None #right child of current node\n",
    "        self.parent = parent \n",
    "        self.thresh = np.inf\n",
    "        self.split_var = split_var #Nummer der Komponente (x, y)\n",
    "        self.name = name\n",
    "       \n",
    "    def construct(self, X, min_samples_leaf):\n",
    "        \"\"\"\n",
    "        Recursively constructs a KDTree below the current node using the data X, cycling through the variables of X. The first split is \n",
    "        done using the variable self.split_var. A node is not split if the resulting children contained less than min_samples_leaf data points\n",
    "        \"\"\"\n",
    "        #TODO\n",
    "        self.X = X\n",
    "        self.thresh = np.median(X[:,self.split_var])          \n",
    "        \n",
    "        a = X[X[:,self.split_var] < self.thresh]\n",
    "        b = X[X[:,self.split_var] >= self.thresh]\n",
    "               \n",
    "        if len(a) > min_samples_leaf and len(b) > min_samples_leaf:   \n",
    "            left = KDNode(parent = self, split_var = (self.split_var+1)%X.shape[1], name = self.name + \" < \")\n",
    "            left.construct(np.array(b), min_samples_leaf)\n",
    "            self.left = left\n",
    "            \n",
    "            right = KDNode(parent = self, split_var = (self.split_var+1)%X.shape[1], name = self.name + \" > \")\n",
    "            right.construct(np.array(a), min_samples_leaf)\n",
    "            self.right = right\n",
    "\n",
    "        else:\n",
    "            self.split_var = None\n",
    "\n",
    "        print(\"NAME:\",self.name,\"  \", self.thresh,\"  \", self.X.shape)\n",
    "    \n",
    "    def find_leaf(self, Q):\n",
    "        \"\"\"\n",
    "        Finds a leaf to be searched for nearest neighbors by stepping down from the current node along the \"good path\"\n",
    "        where the entries of Q satisfy all subsequent node conditions.\n",
    "        \"\"\"\n",
    "        if self.split_var is None: #the current node is a leaf\n",
    "            return self\n",
    "        else: #step down\n",
    "            if Q[self.split_var] < self.thresh:\n",
    "                return self.left.find_leaf(Q)\n",
    "            else:\n",
    "                return self.right.find_leaf(Q)\n",
    "    \n",
    "    def get_sibling(self):\n",
    "        \"\"\"\n",
    "        Returns the sibling node of the current node.\n",
    "        \"\"\"\n",
    "        parent = self.parent\n",
    "        if parent is not None:\n",
    "            if parent.left is not self:\n",
    "                return parent.left\n",
    "            else:\n",
    "                return parent.right\n",
    "        else:\n",
    "            return None\n",
    "    \n",
    "    def find_nearest_neighbor(self, Q, dist=np.inf, nn=[]):\n",
    "        \"\"\"\n",
    "        Recursively computes the nearest neighbor of Q in the current subtree\n",
    "        \"\"\"\n",
    "        #get leaf stepping down the \"good sides\" of the current subtree\n",
    "        #TODO\n",
    "        leaf = self.find_leaf(Q)\n",
    "        print(\"\\n\")\n",
    "        print(\"Go To Leaf   \", leaf.name)\n",
    "             \n",
    "        #calculate distance of Q to all points in the leaf\n",
    "        #TODO\n",
    "        eukli = [sum([(p1-p2)**2 for (p1,p2) in zip(P,Q)])**(0.5) for P in leaf.X]\n",
    "        leafmin = min(eukli)\n",
    "        leafminP = X[eukli.index(min(eukli))]\n",
    "\n",
    "        \n",
    "        #if new nearest neighbor was found in leaf: exchange current nearest neighbor by closest point in leaf\n",
    "        #TODO\n",
    "        if(leafmin < dist):\n",
    "            dist = leafmin      \n",
    "            print(\"Found Smaller Dist   \", dist)\n",
    "\n",
    "        \n",
    "        #recursively step back up and treat the sibling nodes\n",
    "        #TODO\n",
    "        nn.append(self)\n",
    "        nn.append(leaf)\n",
    "        sib = leaf.get_sibling()\n",
    "        print(\"SIB\", sib)\n",
    "        if sib is None:\n",
    "            return dist\n",
    "        elif sib not in nn:\n",
    "            print(\"Go To Sibling   \", sib.name)\n",
    "            sib.find_nearest_neighbor(Q=Q, dist=dist)\n",
    "        else:            \n",
    "            #alle Kinder durch, parent als abgeschlossen markieren\n",
    "            parent = leaf.parent\n",
    "            \n",
    "            #Prüfen, ob Elter einen Sibling hat\n",
    "            while True:\n",
    "                if(parent is not None):\n",
    "                    print(\"No More Siblings Go To Parent   \", parent.name)\n",
    "                    nn.append(parent)\n",
    "                    parentSib = parent.get_sibling()\n",
    "                \n",
    "                if parentSib is None:\n",
    "                    print(\"Root\")\n",
    "                    print(dist)\n",
    "                    return dist\n",
    "                    \n",
    "                elif parentSib not in nn:\n",
    "                    print(\"Check Sibling of Parent   \", parentSib.name)\n",
    "                    parent = parentSib.find_nearest_neighbor(Q=Q, dist=dist)\n",
    "                elif parentSib in nn:\n",
    "                    print(\"Check Sibling of Parent   \", parentSib.name)\n",
    "    \n",
    "                    parent = parent.parent\n",
    "\n",
    "        \n",
    "        "
   ]
  },
  {
   "cell_type": "code",
   "execution_count": 217,
   "metadata": {
    "scrolled": false
   },
   "outputs": [],
   "source": [
    "H = np.random.rand(30,2)\n"
   ]
  },
  {
   "cell_type": "code",
   "execution_count": 218,
   "metadata": {
    "scrolled": false
   },
   "outputs": [
    {
     "name": "stdout",
     "output_type": "stream",
     "text": [
      "NAME: | <  <     0.6332773077682902    (8, 2)\n",
      "NAME: | <  >     0.6806042360916695    (7, 2)\n",
      "NAME: | <     0.3848428127948601    (15, 2)\n",
      "NAME: | >  <     0.17277288515937367    (8, 2)\n",
      "NAME: | >  >     0.18715167042713143    (7, 2)\n",
      "NAME: | >     0.6622315982332724    (15, 2)\n",
      "NAME: |    0.37438150006756155    (30, 2)\n",
      "\n",
      "\n",
      "Go To Leaf    | >  < \n",
      "Found Smaller Dist    0.41365465207202023\n",
      "SIB <__main__.KDNode object at 0x000001BD8FB98948>\n",
      "Go To Sibling    | >  > \n",
      "\n",
      "\n",
      "Go To Leaf    | >  > \n",
      "Found Smaller Dist    0.18071147784843153\n",
      "SIB <__main__.KDNode object at 0x000001BD8FC49E08>\n",
      "No More Siblings Go To Parent    | > \n",
      "Check Sibling of Parent    | < \n",
      "\n",
      "\n",
      "Go To Leaf    | <  > \n",
      "SIB <__main__.KDNode object at 0x000001BD8FC49FC8>\n",
      "Go To Sibling    | <  < \n",
      "\n",
      "\n",
      "Go To Leaf    | <  < \n",
      "Found Smaller Dist    0.035139870075523744\n",
      "SIB <__main__.KDNode object at 0x000001BD8FC49BC8>\n",
      "No More Siblings Go To Parent    | < \n",
      "Check Sibling of Parent    | > \n",
      "No More Siblings Go To Parent    |\n",
      "Root\n",
      "0.035139870075523744\n",
      "Check Sibling of Parent    | < \n"
     ]
    },
    {
     "ename": "AttributeError",
     "evalue": "'NoneType' object has no attribute 'parent'",
     "output_type": "error",
     "traceback": [
      "\u001b[1;31m---------------------------------------------------------------------------\u001b[0m",
      "\u001b[1;31mAttributeError\u001b[0m                            Traceback (most recent call last)",
      "\u001b[1;32m<ipython-input-218-8ea291037611>\u001b[0m in \u001b[0;36m<module>\u001b[1;34m\u001b[0m\n\u001b[0;32m      1\u001b[0m \u001b[0mtree\u001b[0m \u001b[1;33m=\u001b[0m \u001b[0mKDTreeH\u001b[0m\u001b[1;33m(\u001b[0m\u001b[1;33m)\u001b[0m\u001b[1;33m\u001b[0m\u001b[1;33m\u001b[0m\u001b[0m\n\u001b[0;32m      2\u001b[0m \u001b[0mtree\u001b[0m\u001b[1;33m.\u001b[0m\u001b[0mconstruct\u001b[0m\u001b[1;33m(\u001b[0m\u001b[0mH\u001b[0m\u001b[1;33m,\u001b[0m \u001b[1;36m5\u001b[0m\u001b[1;33m)\u001b[0m\u001b[1;33m\u001b[0m\u001b[1;33m\u001b[0m\u001b[0m\n\u001b[1;32m----> 3\u001b[1;33m \u001b[0mdist\u001b[0m \u001b[1;33m=\u001b[0m \u001b[0mtree\u001b[0m\u001b[1;33m.\u001b[0m\u001b[0mfind_nearest_neighbor\u001b[0m\u001b[1;33m(\u001b[0m\u001b[1;33m[\u001b[0m\u001b[1;36m0.5\u001b[0m\u001b[1;33m,\u001b[0m \u001b[1;36m0.5\u001b[0m\u001b[1;33m]\u001b[0m\u001b[1;33m)\u001b[0m\u001b[1;33m\u001b[0m\u001b[1;33m\u001b[0m\u001b[0m\n\u001b[0m\u001b[0;32m      4\u001b[0m \u001b[0mprint\u001b[0m\u001b[1;33m(\u001b[0m\u001b[0mdist\u001b[0m\u001b[1;33m)\u001b[0m\u001b[1;33m\u001b[0m\u001b[1;33m\u001b[0m\u001b[0m\n",
      "\u001b[1;32m<ipython-input-216-96a13e177278>\u001b[0m in \u001b[0;36mfind_nearest_neighbor\u001b[1;34m(self, Q)\u001b[0m\n\u001b[0;32m     14\u001b[0m         \u001b[0mFind\u001b[0m \u001b[0mnearest\u001b[0m \u001b[0mneighbor\u001b[0m \u001b[0mof\u001b[0m \u001b[0mQ\u001b[0m \u001b[1;32min\u001b[0m \u001b[0mthe\u001b[0m \u001b[0mKDTree\u001b[0m\u001b[1;33m\u001b[0m\u001b[1;33m\u001b[0m\u001b[0m\n\u001b[0;32m     15\u001b[0m         \"\"\"  \n\u001b[1;32m---> 16\u001b[1;33m         \u001b[1;32mreturn\u001b[0m \u001b[0mself\u001b[0m\u001b[1;33m.\u001b[0m\u001b[0mroot\u001b[0m\u001b[1;33m.\u001b[0m\u001b[0mfind_nearest_neighbor\u001b[0m\u001b[1;33m(\u001b[0m\u001b[0mQ\u001b[0m\u001b[1;33m)\u001b[0m\u001b[1;33m\u001b[0m\u001b[1;33m\u001b[0m\u001b[0m\n\u001b[0m\u001b[0;32m     17\u001b[0m \u001b[1;33m\u001b[0m\u001b[0m\n\u001b[0;32m     18\u001b[0m \u001b[1;33m\u001b[0m\u001b[0m\n",
      "\u001b[1;32m<ipython-input-216-96a13e177278>\u001b[0m in \u001b[0;36mfind_nearest_neighbor\u001b[1;34m(self, Q, dist, nn)\u001b[0m\n\u001b[0;32m    119\u001b[0m         \u001b[1;32melif\u001b[0m \u001b[0msib\u001b[0m \u001b[1;32mnot\u001b[0m \u001b[1;32min\u001b[0m \u001b[0mnn\u001b[0m\u001b[1;33m:\u001b[0m\u001b[1;33m\u001b[0m\u001b[1;33m\u001b[0m\u001b[0m\n\u001b[0;32m    120\u001b[0m             \u001b[0mprint\u001b[0m\u001b[1;33m(\u001b[0m\u001b[1;34m\"Go To Sibling   \"\u001b[0m\u001b[1;33m,\u001b[0m \u001b[0msib\u001b[0m\u001b[1;33m.\u001b[0m\u001b[0mname\u001b[0m\u001b[1;33m)\u001b[0m\u001b[1;33m\u001b[0m\u001b[1;33m\u001b[0m\u001b[0m\n\u001b[1;32m--> 121\u001b[1;33m             \u001b[0msib\u001b[0m\u001b[1;33m.\u001b[0m\u001b[0mfind_nearest_neighbor\u001b[0m\u001b[1;33m(\u001b[0m\u001b[0mQ\u001b[0m\u001b[1;33m=\u001b[0m\u001b[0mQ\u001b[0m\u001b[1;33m,\u001b[0m \u001b[0mdist\u001b[0m\u001b[1;33m=\u001b[0m\u001b[0mdist\u001b[0m\u001b[1;33m)\u001b[0m\u001b[1;33m\u001b[0m\u001b[1;33m\u001b[0m\u001b[0m\n\u001b[0m\u001b[0;32m    122\u001b[0m         \u001b[1;32melse\u001b[0m\u001b[1;33m:\u001b[0m\u001b[1;33m\u001b[0m\u001b[1;33m\u001b[0m\u001b[0m\n\u001b[0;32m    123\u001b[0m             \u001b[1;31m#alle Kinder durch, parent als abgeschlossen markieren\u001b[0m\u001b[1;33m\u001b[0m\u001b[1;33m\u001b[0m\u001b[1;33m\u001b[0m\u001b[0m\n",
      "\u001b[1;32m<ipython-input-216-96a13e177278>\u001b[0m in \u001b[0;36mfind_nearest_neighbor\u001b[1;34m(self, Q, dist, nn)\u001b[0m\n\u001b[0;32m    142\u001b[0m                     \u001b[0mprint\u001b[0m\u001b[1;33m(\u001b[0m\u001b[1;34m\"Check Sibling of Parent   \"\u001b[0m\u001b[1;33m,\u001b[0m \u001b[0mparentSib\u001b[0m\u001b[1;33m.\u001b[0m\u001b[0mname\u001b[0m\u001b[1;33m)\u001b[0m\u001b[1;33m\u001b[0m\u001b[1;33m\u001b[0m\u001b[0m\n\u001b[0;32m    143\u001b[0m \u001b[1;33m\u001b[0m\u001b[0m\n\u001b[1;32m--> 144\u001b[1;33m                     \u001b[0mparent\u001b[0m \u001b[1;33m=\u001b[0m \u001b[0mparent\u001b[0m\u001b[1;33m.\u001b[0m\u001b[0mparent\u001b[0m\u001b[1;33m\u001b[0m\u001b[1;33m\u001b[0m\u001b[0m\n\u001b[0m\u001b[0;32m    145\u001b[0m \u001b[1;33m\u001b[0m\u001b[0m\n\u001b[0;32m    146\u001b[0m \u001b[1;33m\u001b[0m\u001b[0m\n",
      "\u001b[1;31mAttributeError\u001b[0m: 'NoneType' object has no attribute 'parent'"
     ]
    }
   ],
   "source": [
    "tree = KDTreeH()\n",
    "tree.construct(H, 5)\n",
    "dist = tree.find_nearest_neighbor([0.5, 0.5])\n",
    "print(dist)"
   ]
  },
  {
   "cell_type": "code",
   "execution_count": 183,
   "metadata": {},
   "outputs": [
    {
     "name": "stdout",
     "output_type": "stream",
     "text": [
      "[[0.10621972]]\n"
     ]
    }
   ],
   "source": [
    "from sklearn.neighbors import KDTree\n",
    "tree = KDTree(H, leaf_size=5) \n",
    "dist, ind = tree.query([[0.5, 0.5]], k=1)  \n",
    "print(dist)"
   ]
  },
  {
   "cell_type": "code",
   "execution_count": null,
   "metadata": {},
   "outputs": [],
   "source": []
  },
  {
   "cell_type": "markdown",
   "metadata": {},
   "source": [
    "#### b) Test des k-d-Baums"
   ]
  },
  {
   "cell_type": "markdown",
   "metadata": {},
   "source": [
    "Erzeugen Sie einen zufälligen Datensatz der Dimension (10000,2) und messen Sie, wieviele Vergleiche benötigt werden, um den nächsten Nachbarn des Punkts (0.5,0.5) zu finden. Wiederholen Sie das Experiment mit Datensätzen der Längen 50000, 100000, 200000 und 400000. Vergrößern Sie anschließend die Anzahl der Features und wiederholen Sie das Experiment. Wie lassen sich Ihre Beobachtungen erklären?"
   ]
  },
  {
   "cell_type": "code",
   "execution_count": null,
   "metadata": {},
   "outputs": [],
   "source": [
    "#TODO"
   ]
  },
  {
   "cell_type": "markdown",
   "metadata": {},
   "source": [
    "#### c) Implementierung der Nearest Neighbor-Klassifikation mit KDTree "
   ]
  },
  {
   "cell_type": "markdown",
   "metadata": {},
   "source": [
    "Implementieren Sie einen Nearest Neighbor-Klassifikator unter Verwendung der Klasse KDTree"
   ]
  },
  {
   "cell_type": "code",
   "execution_count": null,
   "metadata": {},
   "outputs": [],
   "source": [
    "#TODO"
   ]
  }
 ],
 "metadata": {
  "kernelspec": {
   "display_name": "Python 3",
   "language": "python",
   "name": "python3"
  },
  "language_info": {
   "codemirror_mode": {
    "name": "ipython",
    "version": 3
   },
   "file_extension": ".py",
   "mimetype": "text/x-python",
   "name": "python",
   "nbconvert_exporter": "python",
   "pygments_lexer": "ipython3",
   "version": "3.7.6"
  }
 },
 "nbformat": 4,
 "nbformat_minor": 2
}
