{
 "cells": [
  {
   "cell_type": "code",
   "execution_count": 213,
   "metadata": {},
   "outputs": [],
   "source": [
    "import pandas as pd\n",
    "import numpy as np\n",
    "import matplotlib.pyplot as plt"
   ]
  },
  {
   "cell_type": "markdown",
   "metadata": {},
   "source": [
    "#### Laden des Datensatzes"
   ]
  },
  {
   "cell_type": "code",
   "execution_count": 214,
   "metadata": {},
   "outputs": [],
   "source": [
    "df = np.loadtxt(\"oregon_housing_prices.txt\",dtype=np.float64,delimiter=\",\")\n",
    "data_x = df[:,0:1]*0.3048**2 #Feet to m^2\n",
    "data_y = df[:,-1]"
   ]
  },
  {
   "cell_type": "markdown",
   "metadata": {},
   "source": [
    "# Aufgabe 1"
   ]
  },
  {
   "cell_type": "markdown",
   "metadata": {},
   "source": [
    "#### a) Visualisierung"
   ]
  },
  {
   "cell_type": "markdown",
   "metadata": {},
   "source": [
    "Visualisieren Sie die Daten, indem Sie ein Streudiagramm in matplotlib zeichnen. Versehen Sie das Diagramm mit Achsenbeschriftungen und mit einem Titel"
   ]
  },
  {
   "cell_type": "code",
   "execution_count": 215,
   "metadata": {},
   "outputs": [
    {
     "data": {
      "image/png": "[encoded data removed]",
      "text/plain": [
       "<Figure size 432x288 with 1 Axes>"
      ]
     },
     "metadata": {
      "needs_background": "light"
     },
     "output_type": "display_data"
    }
   ],
   "source": [
    "#TODO\n",
    "plt.scatter(data_x, data_y)\n",
    "plt.xlabel(\"Fläche (m^2)\")\n",
    "plt.ylabel(\"Preis (EUR)\")\n",
    "plt.show()"
   ]
  },
  {
   "cell_type": "markdown",
   "metadata": {},
   "source": [
    "#### b) Lineare Regression mit scikit-learn"
   ]
  },
  {
   "cell_type": "markdown",
   "metadata": {},
   "source": [
    "Trainieren Sie auf dem gesamten Datensatz ein lineares Regressionsmodell in scikit-learn."
   ]
  },
  {
   "cell_type": "code",
   "execution_count": 216,
   "metadata": {},
   "outputs": [],
   "source": [
    "#TODO\n",
    "from sklearn.linear_model import LinearRegression\n",
    "reg = LinearRegression()\n",
    "reg = reg.fit(data_x, data_y)"
   ]
  },
  {
   "cell_type": "markdown",
   "metadata": {},
   "source": [
    "#### c) Modell-Output"
   ]
  },
  {
   "cell_type": "markdown",
   "metadata": {},
   "source": [
    "Welche Werte haben die gefitteten Parameter $\\theta_0$ und $\\theta_1$?"
   ]
  },
  {
   "cell_type": "code",
   "execution_count": 217,
   "metadata": {},
   "outputs": [
    {
     "name": "stdout",
     "output_type": "stream",
     "text": [
      "[1448.0181458] 71270.49244872917\n"
     ]
    }
   ],
   "source": [
    "#TODO\n",
    "print(reg.coef_, reg.intercept_)\n"
   ]
  },
  {
   "cell_type": "markdown",
   "metadata": {},
   "source": [
    "#### d) Visualisierung des Modells"
   ]
  },
  {
   "cell_type": "markdown",
   "metadata": {},
   "source": [
    "Erstellen Sie das Streudiagramm aus a) neu und zeichnen Sie nun auch die Regressionsgerade mit ein."
   ]
  },
  {
   "cell_type": "code",
   "execution_count": 218,
   "metadata": {},
   "outputs": [
    {
     "data": {
      "image/png": "[encoded data removed]",
      "text/plain": [
       "<Figure size 432x288 with 1 Axes>"
      ]
     },
     "metadata": {
      "needs_background": "light"
     },
     "output_type": "display_data"
    }
   ],
   "source": [
    "#TODO\n",
    "x = np.linspace(50,450,100)\n",
    "plt.scatter(data_x, data_y)\n",
    "plt.xlabel(\"Fläche (m^2)\")\n",
    "plt.ylabel(\"Preis (EUR)\")\n",
    "plt.plot(x, reg.coef_*x+reg.intercept_, '-r')\n",
    "plt.show()"
   ]
  },
  {
   "cell_type": "markdown",
   "metadata": {},
   "source": [
    "#### e) Einsatz des Modells zur Prognose"
   ]
  },
  {
   "cell_type": "markdown",
   "metadata": {},
   "source": [
    "Welchen Hauspreis prognostiziert das Modell für ein Haus mit $100m^2$ Wohnfläche?"
   ]
  },
  {
   "cell_type": "code",
   "execution_count": 219,
   "metadata": {},
   "outputs": [
    {
     "data": {
      "text/plain": [
       "array([216072.30702901])"
      ]
     },
     "execution_count": 219,
     "metadata": {},
     "output_type": "execute_result"
    }
   ],
   "source": [
    "#TODO\n",
    "reg.predict([[100]])"
   ]
  },
  {
   "cell_type": "markdown",
   "metadata": {},
   "source": [
    "# Aufgabe 2: Lineare Regression durch Lösen der Normalgleichungen"
   ]
  },
  {
   "cell_type": "markdown",
   "metadata": {},
   "source": [
    "#### a) Aufstellen der Matrix"
   ]
  },
  {
   "cell_type": "markdown",
   "metadata": {},
   "source": [
    "Stellen Sie die Matrix $X$ (s. Folien) auf. Legen Sie dazu eine neue Matrix der Dimension $(m,2)$ an, die aus lauter 1en besteht und kopieren Sie data_x in die zweite Spalte"
   ]
  },
  {
   "cell_type": "code",
   "execution_count": 220,
   "metadata": {},
   "outputs": [
    {
     "name": "stdout",
     "output_type": "stream",
     "text": [
      "(47, 2)\n",
      "[[  1.         195.46799616]\n",
      " [  1.         148.644864  ]\n",
      " [  1.         222.967296  ]\n",
      " [  1.         131.55070464]\n",
      " [  1.         278.70912   ]\n",
      " [  1.         184.4125344 ]\n",
      " [  1.         142.51326336]\n",
      " [  1.         132.57263808]\n",
      " [  1.         128.2061952 ]\n",
      " [  1.         138.79714176]\n",
      " [  1.         180.2318976 ]\n",
      " [  1.         185.80608   ]\n",
      " [  1.         175.5867456 ]\n",
      " [  1.         416.01981312]\n",
      " [  1.         117.80105472]\n",
      " [  1.         213.676992  ]\n",
      " [  1.         122.6320128 ]\n",
      " [  1.         114.82815744]\n",
      " [  1.         242.38403136]\n",
      " [  1.         281.58911424]\n",
      " [  1.         164.15967168]\n",
      " [  1.         175.40093952]\n",
      " [  1.         149.01647616]\n",
      " [  1.         182.27576448]\n",
      " [  1.         361.3928256 ]\n",
      " [  1.         102.193344  ]\n",
      " [  1.         135.45263232]\n",
      " [  1.         234.67307904]\n",
      " [  1.         204.386688  ]\n",
      " [  1.         244.98531648]\n",
      " [  1.         170.84869056]\n",
      " [  1.          92.90304   ]\n",
      " [  1.         189.5222016 ]\n",
      " [  1.         291.43683648]\n",
      " [  1.         168.24740544]\n",
      " [  1.         133.50166848]\n",
      " [  1.         115.10686656]\n",
      " [  1.         198.06928128]\n",
      " [  1.         391.5863136 ]\n",
      " [  1.         200.85637248]\n",
      " [  1.         154.59065856]\n",
      " [  1.         207.91700352]\n",
      " [  1.         238.48210368]\n",
      " [  1.         111.483648  ]\n",
      " [  1.          79.15339008]\n",
      " [  1.         172.05643008]\n",
      " [  1.         111.76235712]]\n"
     ]
    }
   ],
   "source": [
    "#TODO\n",
    "X = np.ones((data_x.shape[0],2))\n",
    "X[:,1] = data_x[:,0]\n",
    "print(X.shape)\n",
    "print(X)"
   ]
  },
  {
   "cell_type": "markdown",
   "metadata": {},
   "source": [
    "#### b) Aufstellen und Lösen der Normalgleichungen"
   ]
  },
  {
   "cell_type": "markdown",
   "metadata": {},
   "source": [
    "Berechnen Sie $\\theta_0$ und $\\theta_1$ durch Lösen der Normalgleichungen. Hinweis: das Matrix-Matrix-Produkt $A\\cdot B$   wird in numpy durch den Aufruf $A$@$B$ oder durch Aufruf der Funktion np.dot($A$,$B$) gebildet. Zum Lösen eines linearen Gleichungssystems kann die Funktion numpy.linalg.solve verwendet werden"
   ]
  },
  {
   "cell_type": "code",
   "execution_count": 221,
   "metadata": {},
   "outputs": [
    {
     "name": "stdout",
     "output_type": "stream",
     "text": [
      "[71270.49244873  1448.0181458 ]\n"
     ]
    }
   ],
   "source": [
    "#TODO\n",
    "Xt = X.transpose()\n",
    "inverted = np.linalg.inv(Xt@X)\n",
    "O = inverted@Xt@data_y\n",
    "print(O)\n"
   ]
  },
  {
   "cell_type": "markdown",
   "metadata": {},
   "source": [
    "# Aufgabe 3: Gradientenverfahren"
   ]
  },
  {
   "cell_type": "markdown",
   "metadata": {},
   "source": [
    "In dieser Aufgabe soll die Regressionsaufgabe mit Hilfe des Gradientenverfahrens gelöst werden, das zu implementieren ist."
   ]
  },
  {
   "cell_type": "markdown",
   "metadata": {},
   "source": [
    "#### a) Standardisierung"
   ]
  },
  {
   "cell_type": "markdown",
   "metadata": {},
   "source": [
    "Erstellen Sie zwei numpy-Arrays data_x_std und data_y_std, die durch Standardisierung aus data_x bzw. data_y hervorgehen. Welchen Wert erwarten Sie für $\\theta_0$, wenn ein univariates lineares Regressionsmodell auf den standardisierten Daten trainiert wird? Bilden Sie anschließend wieder die Matrix $X$ (s. Folien), indem Sie eine führende Spalte mit 1en zu data_x_std hinzufügen."
   ]
  },
  {
   "cell_type": "code",
   "execution_count": 222,
   "metadata": {},
   "outputs": [
    {
     "name": "stdout",
     "output_type": "stream",
     "text": [
      "[-4.02455846e-16  8.54987593e-01]\n"
     ]
    }
   ],
   "source": [
    "#TODO\n",
    "from sklearn import preprocessing\n",
    "\n",
    "sc_x = preprocessing.StandardScaler()\n",
    "sc_y = preprocessing.StandardScaler()\n",
    "\n",
    "data_x_std = sc_x.fit_transform(data_x)\n",
    "data_y_std = sc_y.fit_transform(data_y.reshape(-1,1))\n",
    "data_y_std = data_y_std.flatten()\n",
    "\n",
    "X_std = np.ones((data_x_std.shape[0],2))\n",
    "X_std[:,1] = data_x_std[:,0]\n",
    "\n",
    "Xt_std = X_std.transpose()\n",
    "inverted_std = np.linalg.inv(Xt_std@X_std)\n",
    "O_std = inverted_std@Xt_std@data_y_std\n",
    "\n",
    "print(O_std)"
   ]
  },
  {
   "cell_type": "code",
   "execution_count": 444,
   "metadata": {},
   "outputs": [
    {
     "name": "stdout",
     "output_type": "stream",
     "text": [
      "\n"
     ]
    }
   ],
   "source": [
    "mean_x = sum(data_x)/len(data_x)\n",
    "s_x = (1/len(data_x)*sum([(x - mean_x)**2 for x in data_x]))**0.5\n",
    "data_x_std = (data_x - mean_x)/s_x\n",
    "\n",
    "mean_y = sum(data_y)/len(data_y)\n",
    "s_y = (1/len(data_y)*sum([(y - mean_y)**2 for y in data_y]))**0.5\n",
    "data_y_std = (data_y - mean_y)/s_y\n",
    "\n",
    "print()\n",
    "#print(data_y)\n",
    "#print(data_y_std)"
   ]
  },
  {
   "cell_type": "code",
   "execution_count": 445,
   "metadata": {},
   "outputs": [],
   "source": [
    "X_std = np.ones((data_x_std.shape[0],2))\n",
    "X_std[:,1] = data_x_std[:,0]\n",
    "\n",
    "Xt_std = X_std.transpose()\n",
    "inverted_std = np.linalg.inv(Xt_std@X_std)\n",
    "O_std = inverted_std@Xt_std@data_y_std"
   ]
  },
  {
   "cell_type": "code",
   "execution_count": 446,
   "metadata": {
    "scrolled": true
   },
   "outputs": [
    {
     "name": "stdout",
     "output_type": "stream",
     "text": [
      "[[0.85498759]] [-4.46588076e-16]\n"
     ]
    },
    {
     "data": {
      "image/png": "[encoded data removed]",
      "text/plain": [
       "<Figure size 432x288 with 1 Axes>"
      ]
     },
     "metadata": {
      "needs_background": "light"
     },
     "output_type": "display_data"
    }
   ],
   "source": [
    "reg = LinearRegression()\n",
    "reg = reg.fit(data_x_std, data_y_std.reshape(-1,1))\n",
    "\n",
    "print(reg.coef_, reg.intercept_)\n",
    "\n",
    "x = np.linspace(-2,3,1)\n",
    "plt.scatter(data_x_std, data_y_std)\n",
    "plt.xlabel(\"Fläche (m^2)\")\n",
    "plt.ylabel(\"Preis (EUR)\")\n",
    "plt.plot(data_x_std, reg.coef_*data_x_std+reg.intercept_, '-r')\n",
    "plt.show()"
   ]
  },
  {
   "cell_type": "markdown",
   "metadata": {},
   "source": [
    "#### b) Least Squares - Kostenfunktional"
   ]
  },
  {
   "cell_type": "markdown",
   "metadata": {},
   "source": [
    "Vervollständigen Sie die folgende Funktion, die das Least-Squares-Kostenfunktional $J$ realisiert."
   ]
  },
  {
   "cell_type": "code",
   "execution_count": 454,
   "metadata": {},
   "outputs": [],
   "source": [
    "def cost(X, Y, theta):\n",
    "    \"\"\"\n",
    "    This function implements the least squares cost function for univariate linear regression\n",
    "    Parameters:\n",
    "        X: m x 2 matrix containing 1s in the first column and the x values of the training samples in the second column\n",
    "        Y: m x 1 matrix containing the target values of the training samples\n",
    "        theta: 2 x 1 parameters of the cost function\n",
    "        \n",
    "    Returns: \n",
    "        value of cost function for a given theta\n",
    "        \n",
    "    \"\"\"\n",
    "    m = X.shape[0]\n",
    "    J = (1/(2*m))*((X@theta-Y).transpose())@(X@theta-Y)\n",
    "    return J\n",
    "    #TODO"
   ]
  },
  {
   "cell_type": "code",
   "execution_count": 455,
   "metadata": {},
   "outputs": [
    {
     "name": "stdout",
     "output_type": "stream",
     "text": [
      "0.8655018895270046\n",
      "2058132740.4330418\n"
     ]
    }
   ],
   "source": [
    "#print(cost(X_std, data_y_std, [-4.13517603e-16, 0.85498759]))\n",
    "print(cost(X_std, data_y_std, [0.85498759, -4.13517603e-16]))\n",
    "#print(cost(X, data_y, [1448.0181458,71270.49244873]))\n",
    "print(cost(X, data_y, [71270.49244873,1448.0181458]))"
   ]
  },
  {
   "cell_type": "markdown",
   "metadata": {},
   "source": [
    "#### c) Gradientenverfahren"
   ]
  },
  {
   "cell_type": "markdown",
   "metadata": {},
   "source": [
    "Implementieren Sie die folgende Funktion, die das Gradientenverfahren realisiert. Die Iteration soll abbrechen, wenn $\\|update\\|<1e-5$ gilt, oder wenn max_iter Iterationen durchgeführt wurden."
   ]
  },
  {
   "cell_type": "code",
   "execution_count": 449,
   "metadata": {},
   "outputs": [],
   "source": [
    "\n",
    "def gradientDescent(X, Y, theta, max_iter, alpha):\n",
    "    \"\"\"\n",
    "    This function implements gradient descent for univariate linear regression.\n",
    "    Parameters:\n",
    "        X: m x 2 matrix containing 1 in the first column and the x values in the second column\n",
    "        Y: m x 1 matrix containing the target values \n",
    "        theta: initial value for theta\n",
    "        max_iter: max number of iterations to be carried out\n",
    "        alpha: step size\n",
    "    Returns: mx1 matrix containing the regression parameters resulting from the iteration\n",
    "    \"\"\"\n",
    "    m = X.shape[0]\n",
    "    for i in range(max_iter): \n",
    "        thetaNew = theta - ((alpha/m) * (X.transpose()@X@theta - X.transpose()@Y))\n",
    "        thetaNew = thetaNew[0]\n",
    "\n",
    "\n",
    "        thetaNew = thetaNew.reshape(-1,1)\n",
    "        delta = 0\n",
    "        for t1, t2 in zip(theta, thetaNew):\n",
    "            delta1 = t1 - t2\n",
    "            if delta1 < 0:\n",
    "                delta1 *= -1\n",
    "            delta += delta1\n",
    "        if delta < 1e-5:\n",
    "            return thetaNew\n",
    "        else:\n",
    "            theta = thetaNew\n",
    "        \n",
    "    return theta\n",
    "    #TODO"
   ]
  },
  {
   "cell_type": "markdown",
   "metadata": {},
   "source": [
    "#### d) Anwendung auf den standardisierten Häuserdatensatz"
   ]
  },
  {
   "cell_type": "markdown",
   "metadata": {},
   "source": [
    "Wenden Sie das Gradientenverfahren auf den standardisierten Häuserdatensatz an, um die Koeffizienten $\\theta_0$ und $\\theta_1$ zu bestimmen. Verwenden Sie als Startwert den Nullvektor und die Parameter max_iter=50 sowie alpha=1.0"
   ]
  },
  {
   "cell_type": "code",
   "execution_count": 450,
   "metadata": {},
   "outputs": [
    {
     "data": {
      "text/plain": [
       "array([[-4.46588076e-16],\n",
       "       [ 8.54987593e-01]])"
      ]
     },
     "execution_count": 450,
     "metadata": {},
     "output_type": "execute_result"
    }
   ],
   "source": [
    "#TODO\n",
    "theta0 = [[0],[0]]\n",
    "gradientDescent(X_std, data_y_std,theta0, 50, 1.0)\n"
   ]
  },
  {
   "cell_type": "code",
   "execution_count": 451,
   "metadata": {},
   "outputs": [
    {
     "ename": "TypeError",
     "evalue": "unsupported operand type(s) for -: 'list' and 'float'",
     "output_type": "error",
     "traceback": [
      "\u001b[1;31m---------------------------------------------------------------------------\u001b[0m",
      "\u001b[1;31mTypeError\u001b[0m                                 Traceback (most recent call last)",
      "\u001b[1;32m<ipython-input-451-4b7ab4d046f0>\u001b[0m in \u001b[0;36m<module>\u001b[1;34m\u001b[0m\n\u001b[0;32m      2\u001b[0m \u001b[0mtheta1\u001b[0m \u001b[1;33m=\u001b[0m \u001b[1;33m[\u001b[0m\u001b[1;33m[\u001b[0m\u001b[1;36m1\u001b[0m\u001b[1;33m]\u001b[0m\u001b[1;33m,\u001b[0m\u001b[1;33m[\u001b[0m\u001b[1;36m1\u001b[0m\u001b[1;33m]\u001b[0m\u001b[1;33m]\u001b[0m\u001b[1;33m\u001b[0m\u001b[1;33m\u001b[0m\u001b[0m\n\u001b[0;32m      3\u001b[0m \u001b[1;33m\u001b[0m\u001b[0m\n\u001b[1;32m----> 4\u001b[1;33m \u001b[1;33m[\u001b[0m\u001b[1;36m0.85498759\u001b[0m\u001b[1;33m]\u001b[0m \u001b[1;33m-\u001b[0m\u001b[1;36m4.1351760307921594e-16\u001b[0m\u001b[1;33m\u001b[0m\u001b[1;33m\u001b[0m\u001b[0m\n\u001b[0m\u001b[0;32m      5\u001b[0m \u001b[1;33m\u001b[0m\u001b[0m\n\u001b[0;32m      6\u001b[0m \u001b[1;33m\u001b[0m\u001b[0m\n",
      "\u001b[1;31mTypeError\u001b[0m: unsupported operand type(s) for -: 'list' and 'float'"
     ]
    }
   ],
   "source": [
    "theta0 = [[0],[0]]\n",
    "theta1 = [[1],[1]]\n",
    "\n",
    "[0.85498759] -4.1351760307921594e-16\n",
    "\n",
    "\n"
   ]
  },
  {
   "cell_type": "markdown",
   "metadata": {},
   "source": [
    "#### e)  "
   ]
  },
  {
   "cell_type": "markdown",
   "metadata": {},
   "source": [
    "Verwenden Sie das resultierende Modell, um den prognostizierten Preis für ein Haus mit $100m^2$ zu bestimmen. Transformieren Sie die Daten geeignet. Es sollte derselbe Zahlenwert wie bei Aufgabe 1e herauskommen (ca. 216.000 Euro)."
   ]
  },
  {
   "cell_type": "code",
   "execution_count": 452,
   "metadata": {
    "scrolled": true
   },
   "outputs": [
    {
     "name": "stdout",
     "output_type": "stream",
     "text": [
      "1: [-4.46588076e-16]\n",
      "2: [0.85498759]\n",
      "fläche [-1.17563817]\n",
      "PRICE [-1.00515605]\n",
      "123702.53600614739\n",
      "340412.6595744681\n",
      "[446176.79306728]\n"
     ]
    }
   ],
   "source": [
    "#TODO\n",
    "coeff = gradientDescent(X_std, data_y_std,theta0, 50, 1.0)\n",
    "\n",
    "print(\"1:\",coeff[0])\n",
    "print(\"2:\",coeff[1])\n",
    "\n",
    "a = (100-mean_x)/s_x\n",
    "print(\"fläche\",a)\n",
    "price = coeff[1] * a + coeff[0]\n",
    "print(\"PRICE\",price)\n",
    "price_S = (price*s_y) + mean_y\n",
    "print(s_y)\n",
    "print(mean_y)\n",
    "\n",
    "print(price_s)\n"
   ]
  },
  {
   "cell_type": "code",
   "execution_count": null,
   "metadata": {},
   "outputs": [],
   "source": [
    "reg.coef_*data_x_std+reg.intercept_,\n",
    "print(reg.coef_, reg.intercept_)\n",
    "[[0.85498759]] [-4.46588076e-16]"
   ]
  },
  {
   "cell_type": "code",
   "execution_count": null,
   "metadata": {},
   "outputs": [],
   "source": []
  }
 ],
 "metadata": {
  "kernelspec": {
   "display_name": "Python 3",
   "language": "python",
   "name": "python3"
  },
  "language_info": {
   "codemirror_mode": {
    "name": "ipython",
    "version": 3
   },
   "file_extension": ".py",
   "mimetype": "text/x-python",
   "name": "python",
   "nbconvert_exporter": "python",
   "pygments_lexer": "ipython3",
   "version": "3.7.6"
  }
 },
 "nbformat": 4,
 "nbformat_minor": 2
}
