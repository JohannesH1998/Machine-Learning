{
 "cells": [
  {
   "cell_type": "code",
   "execution_count": 90,
   "metadata": {},
   "outputs": [],
   "source": [
    "import pandas as pd\n",
    "import numpy as np"
   ]
  },
  {
   "cell_type": "markdown",
   "metadata": {},
   "source": [
    "#### Einlesen des Datensatzes"
   ]
  },
  {
   "cell_type": "code",
   "execution_count": 91,
   "metadata": {},
   "outputs": [
    {
     "name": "stdout",
     "output_type": "stream",
     "text": [
      "Index(['Pregnancies', 'Glucose', 'BloodPressure', 'SkinThickness', 'Insulin',\n",
      "       'BMI', 'DiabetesPedigreeFunction', 'Age', 'Outcome'],\n",
      "      dtype='object')\n"
     ]
    }
   ],
   "source": [
    "X = pd.read_csv('05_diabetes.csv')\n",
    "X.head()\n",
    "print(X.columns)"
   ]
  },
  {
   "cell_type": "markdown",
   "metadata": {},
   "source": [
    "#### Abspalten der Labels"
   ]
  },
  {
   "cell_type": "code",
   "execution_count": 92,
   "metadata": {},
   "outputs": [],
   "source": [
    "y = X.iloc[:,-1]\n",
    "X = X.drop(X.columns[-1], axis=1)"
   ]
  },
  {
   "cell_type": "markdown",
   "metadata": {},
   "source": [
    "#### Verteilung der Labels"
   ]
  },
  {
   "cell_type": "code",
   "execution_count": 93,
   "metadata": {},
   "outputs": [
    {
     "data": {
      "text/plain": [
       "0    0.651042\n",
       "1    0.348958\n",
       "Name: Outcome, dtype: float64"
      ]
     },
     "execution_count": 93,
     "metadata": {},
     "output_type": "execute_result"
    }
   ],
   "source": [
    "y.value_counts(normalize=True)"
   ]
  },
  {
   "cell_type": "markdown",
   "metadata": {},
   "source": [
    "# Aufgabe 1: Modellbewertung mittels Kreuzvalidierung"
   ]
  },
  {
   "cell_type": "markdown",
   "metadata": {},
   "source": [
    "#### a) Einfache Holdout-Methode"
   ]
  },
  {
   "cell_type": "markdown",
   "metadata": {},
   "source": [
    "Wenden Sie die einfache Holdout-Methode an, um die Performance eines DecisionTrees-Classifiers mit den Parametern *max_depth*=6 und *min_samples_leaf*=3 zu bewerten. Trainieren Sie diesen mit sklearn auf einem Trainingsdatensatz, der 90% der Daten enthält, und werten Sie anschließend die Accuracy (=Anteil aller Instanzen, die korrekt klassifiziert wurden) auf dem Trainings- und auf dem Testdatensatz aus. Welche Beobachtung machen Sie? \n",
    "<br><br>\n",
    "Hinweis: Zur Berechnung der Accuracy können Sie die Methode **score** der Klasse DecisionTreeClassifier verwenden."
   ]
  },
  {
   "cell_type": "code",
   "execution_count": 94,
   "metadata": {},
   "outputs": [
    {
     "name": "stdout",
     "output_type": "stream",
     "text": [
      "0.6233766233766234\n",
      "0.8596237337192475\n"
     ]
    }
   ],
   "source": [
    "#TODO\n",
    "from sklearn.tree import DecisionTreeClassifier\n",
    "from sklearn.model_selection import train_test_split\n",
    "\n",
    "df = pd.read_csv('05_diabetes.csv')\n",
    "\n",
    "X_train, X_test, y_train, y_test = train_test_split(X,y, test_size=0.1)\n",
    "\n",
    "clf = DecisionTreeClassifier(max_depth = 6, min_samples_leaf = 3)\n",
    "clf = clf.fit(X_train, y_train)\n",
    "\n",
    "score_test = clf.score(X_test, y_test)\n",
    "score_train = clf.score(X_train, y_train)\n",
    "\n",
    "print(score_test)\n",
    "print(score_train)"
   ]
  },
  {
   "cell_type": "markdown",
   "metadata": {},
   "source": [
    "#### b) $k$-fache Kreuzvalidierung anwenden"
   ]
  },
  {
   "cell_type": "markdown",
   "metadata": {},
   "source": [
    "Wiederholen Sie nun Teilaufgabe a), indem Sie $10$-fache Kreuzvalidierung durchführen. Verwenden Sie dazu die Klasse <a href=\"https://scikit-learn.org/stable/modules/generated/sklearn.model_selection.StratifiedKFold.html\">*StratifiedKFold*</a>. Geben Sie die mittlere gemessene Accuracy (gemittelt über die 10 Testdatensätze) aus. Geben Sie außerdem für jeden einzelnen der 10 Durchläufe die Accuracy auf dem jeweiligen Trainings- und Testdatensatz an. Vergleichen Sie mit dem Ergebnis aus Teilaufgabe a). Bewerten Sie die Varianz des Modells."
   ]
  },
  {
   "cell_type": "code",
   "execution_count": 95,
   "metadata": {},
   "outputs": [
    {
     "name": "stdout",
     "output_type": "stream",
     "text": [
      "0\n",
      "SCORE\n",
      "test:  0.7142857142857143\n",
      "train:  0.8639652677279306\n",
      "VARIANZ\n",
      "test:  -0.251851851851852\n",
      "train:  0.4063808206546794\n",
      "\n",
      "\n",
      "1\n",
      "SCORE\n",
      "test:  0.7012987012987013\n",
      "train:  0.8480463096960926\n",
      "VARIANZ\n",
      "test:  -0.22222222222222188\n",
      "train:  0.33984324573536173\n",
      "\n",
      "\n",
      "2\n",
      "SCORE\n",
      "test:  0.6753246753246753\n",
      "train:  0.8437047756874095\n",
      "VARIANZ\n",
      "test:  -0.40740740740740744\n",
      "train:  0.3118672199170123\n",
      "\n",
      "\n",
      "3\n",
      "SCORE\n",
      "test:  0.6103896103896104\n",
      "train:  0.8581765557163531\n",
      "VARIANZ\n",
      "test:  -0.7081481481481482\n",
      "train:  0.3808944213923464\n",
      "\n",
      "\n",
      "4\n",
      "SCORE\n",
      "test:  0.7142857142857143\n",
      "train:  0.8625180897250362\n",
      "VARIANZ\n",
      "test:  -0.14814814814814814\n",
      "train:  0.4004610419548177\n",
      "\n",
      "\n",
      "5\n",
      "SCORE\n",
      "test:  0.7272727272727273\n",
      "train:  0.8509406657018813\n",
      "VARIANZ\n",
      "test:  -0.10814814814814788\n",
      "train:  0.3826832641770399\n",
      "\n",
      "\n",
      "6\n",
      "SCORE\n",
      "test:  0.7922077922077922\n",
      "train:  0.829232995658466\n",
      "VARIANZ\n",
      "test:  0.11407407407407377\n",
      "train:  0.2487413554633472\n",
      "\n",
      "\n",
      "7\n",
      "SCORE\n",
      "test:  0.8571428571428571\n",
      "train:  0.8364688856729378\n",
      "VARIANZ\n",
      "test:  0.3911111111111113\n",
      "train:  0.2913047487321345\n",
      "\n",
      "\n",
      "8\n",
      "SCORE\n",
      "test:  0.6710526315789473\n",
      "train:  0.8497109826589595\n",
      "VARIANZ\n",
      "test:  -0.4423076923076925\n",
      "train:  0.3428099173553719\n",
      "\n",
      "\n",
      "9\n",
      "SCORE\n",
      "test:  0.6842105263157895\n",
      "train:  0.8497109826589595\n",
      "VARIANZ\n",
      "test:  -0.3999999999999997\n",
      "train:  0.3421120293847567\n",
      "\n",
      "\n"
     ]
    }
   ],
   "source": [
    "#TODO\n",
    "from sklearn.model_selection import StratifiedKFold\n",
    "from sklearn.metrics import explained_variance_score\n",
    "\n",
    "skf = StratifiedKFold(n_splits=10)\n",
    "\n",
    "n = 0\n",
    "for train_index, test_index in skf.split(X, y):\n",
    "    Xs_train, Xs_test = X.iloc[train_index], X.iloc[test_index]\n",
    "    ys_train, ys_test = y[train_index], y[test_index]\n",
    "    \n",
    "    clf = DecisionTreeClassifier(max_depth = 6, min_samples_leaf = 3)\n",
    "    clf = clf.fit(Xs_train, ys_train)\n",
    "\n",
    "    score_test = clf.score(Xs_test, ys_test)\n",
    "    score_train = clf.score(Xs_train, ys_train)\n",
    "    \n",
    "    y_test_true = ys_test\n",
    "    y_test_pred = clf.predict(Xs_test)\n",
    "    \n",
    "    y_train_true = ys_train\n",
    "    y_train_pred = clf.predict(Xs_train)\n",
    "    \n",
    "    varianz_test = explained_variance_score(y_test_true, y_test_pred)\n",
    "    varianz_train = explained_variance_score(y_train_true, y_train_pred)\n",
    "    \n",
    "    \n",
    "    print(n)\n",
    "    print(\"SCORE\")\n",
    "    print(\"test: \",score_test)\n",
    "    print(\"train: \",score_train)\n",
    "    print(\"VARIANZ\")\n",
    "    print(\"test: \",varianz_test)\n",
    "    print(\"train: \",varianz_train)\n",
    "    print(\"\\n\")\n",
    "    \n",
    "    n+=1\n",
    "    \n"
   ]
  },
  {
   "cell_type": "markdown",
   "metadata": {},
   "source": [
    "# Aufgabe 2: Hyperparameteroptimierung durch GridSearch"
   ]
  },
  {
   "cell_type": "markdown",
   "metadata": {},
   "source": [
    "#### a) $k$-fache Kreuzvalidierung"
   ]
  },
  {
   "cell_type": "markdown",
   "metadata": {},
   "source": [
    "Erläutern Sie das Prinzip der $k$-fachen Kreuzvalidierung zur Hyperparameter-Optimierung. Geben Sie genau an, auf welchem Datensatz die einzelnen Trainings- und Auswertungsschritte jeweils vorgenommen werden."
   ]
  },
  {
   "cell_type": "markdown",
   "metadata": {},
   "source": [
    "#### b) Train-Test-Split"
   ]
  },
  {
   "cell_type": "markdown",
   "metadata": {},
   "source": [
    "Splitten Sie den Datensatz in einen Trainings- und einen Testdatensatz auf, wobei der Testdatensatz 20% der Samples enhalten soll. "
   ]
  },
  {
   "cell_type": "code",
   "execution_count": 98,
   "metadata": {},
   "outputs": [],
   "source": [
    "#TODO\n",
    "X_train, X_test, y_train, y_test = train_test_split(X,y, test_size=0.2, random_state=42)"
   ]
  },
  {
   "cell_type": "markdown",
   "metadata": {},
   "source": [
    "#### c) GridSearchCV"
   ]
  },
  {
   "cell_type": "markdown",
   "metadata": {},
   "source": [
    "Wenden Sie $10$-fache Kreuzvalidierung auf dem Trainingsdatensatz an, um die besten Werte für die Hyperparameter *max_depth* und *min_samples_leaf* durch Rastersuche (engl. \"grid search\") zu ermitteln. Testen Sie für *max_depth* die Werte $\\{1,2,3,4,5,6,7,8,9,10,15,20\\}$ und für \n",
    "*min_samples_leaf* die Werte $\\{1,5,10,20\\}$. Geben Sie für jede mögliche Kombination die durch $k$-fache Kreuzvalidierung erhaltene mittlere Accuracy aus. Für welche Werte-Kombination ist diese am größten?"
   ]
  },
  {
   "cell_type": "markdown",
   "metadata": {},
   "source": [
    "Hinweise: <br>\n",
    "- Klasse <a href=\"https://scikit-learn.org/stable/modules/generated/sklearn.model_selection.GridSearchCV.html\">GridSearchCV</a> aus dem Paket sklearn.model_selection\n",
    "- Die Attribute *best_params_* und  *best_score_* enthalten die optimalen Parameter und die zugehörige Accuracy\n",
    "- Das Attribut *cv_results_* enthält die Infos zu allen Parameter-Kombinationen"
   ]
  },
  {
   "cell_type": "code",
   "execution_count": 99,
   "metadata": {},
   "outputs": [
    {
     "name": "stdout",
     "output_type": "stream",
     "text": [
      "\n",
      "\n",
      "BEST PARAMS {'max_depth': 4, 'min_samples_leaf': 10}\n",
      "BEST SCORE 0.7687458349993336\n",
      "\n",
      "\n",
      "All:\n",
      "max_depth:  1    min_sample_leaf:  1    score:  0.7280287884846062\n",
      "max_depth:  1    min_sample_leaf:  5    score:  0.7280287884846062\n",
      "max_depth:  1    min_sample_leaf:  10    score:  0.7280287884846062\n",
      "max_depth:  1    min_sample_leaf:  20    score:  0.7280287884846062\n",
      "max_depth:  2    min_sample_leaf:  1    score:  0.7557377049180328\n",
      "max_depth:  2    min_sample_leaf:  5    score:  0.7573637211781954\n",
      "max_depth:  2    min_sample_leaf:  10    score:  0.7573637211781954\n",
      "max_depth:  2    min_sample_leaf:  20    score:  0.7573637211781954\n",
      "max_depth:  3    min_sample_leaf:  1    score:  0.7573903771824604\n",
      "max_depth:  3    min_sample_leaf:  5    score:  0.7541383446621351\n",
      "max_depth:  3    min_sample_leaf:  10    score:  0.759016393442623\n",
      "max_depth:  3    min_sample_leaf:  20    score:  0.7557377049180328\n",
      "max_depth:  4    min_sample_leaf:  1    score:  0.7540717046514727\n",
      "max_depth:  4    min_sample_leaf:  5    score:  0.7557243769159003\n",
      "max_depth:  4    min_sample_leaf:  10    score:  0.7687458349993336\n",
      "max_depth:  4    min_sample_leaf:  20    score:  0.7670931627349059\n",
      "max_depth:  5    min_sample_leaf:  1    score:  0.74916699986672\n",
      "max_depth:  5    min_sample_leaf:  5    score:  0.7459149673463947\n",
      "max_depth:  5    min_sample_leaf:  10    score:  0.767119818739171\n",
      "max_depth:  5    min_sample_leaf:  20    score:  0.7605757696921231\n",
      "max_depth:  6    min_sample_leaf:  1    score:  0.7181927229108356\n",
      "max_depth:  6    min_sample_leaf:  5    score:  0.734519525523124\n",
      "max_depth:  6    min_sample_leaf:  10    score:  0.7540983606557378\n",
      "max_depth:  6    min_sample_leaf:  20    score:  0.7573237371717979\n",
      "max_depth:  7    min_sample_leaf:  1    score:  0.7214580834332933\n",
      "max_depth:  7    min_sample_leaf:  5    score:  0.734519525523124\n",
      "max_depth:  7    min_sample_leaf:  10    score:  0.7508729841396774\n",
      "max_depth:  7    min_sample_leaf:  20    score:  0.760575769692123\n",
      "max_depth:  8    min_sample_leaf:  1    score:  0.7230574436891909\n",
      "max_depth:  8    min_sample_leaf:  5    score:  0.7328935092629616\n",
      "max_depth:  8    min_sample_leaf:  10    score:  0.744368919099027\n",
      "max_depth:  8    min_sample_leaf:  20    score:  0.7622017859522857\n",
      "max_depth:  9    min_sample_leaf:  1    score:  0.7166066906570705\n",
      "max_depth:  9    min_sample_leaf:  5    score:  0.7361455417832866\n",
      "max_depth:  9    min_sample_leaf:  10    score:  0.7459949353591897\n",
      "max_depth:  9    min_sample_leaf:  20    score:  0.7622017859522857\n",
      "max_depth:  10    min_sample_leaf:  1    score:  0.7181793949087032\n",
      "max_depth:  10    min_sample_leaf:  5    score:  0.7377982140477143\n",
      "max_depth:  10    min_sample_leaf:  10    score:  0.7459949353591897\n",
      "max_depth:  10    min_sample_leaf:  20    score:  0.7622017859522857\n",
      "max_depth:  15    min_sample_leaf:  1    score:  0.7361322137811542\n",
      "max_depth:  15    min_sample_leaf:  5    score:  0.7296681327469013\n",
      "max_depth:  15    min_sample_leaf:  10    score:  0.7459949353591897\n",
      "max_depth:  15    min_sample_leaf:  20    score:  0.760575769692123\n",
      "max_depth:  20    min_sample_leaf:  1    score:  0.7312275089964014\n",
      "max_depth:  20    min_sample_leaf:  5    score:  0.734519525523124\n",
      "max_depth:  20    min_sample_leaf:  10    score:  0.7459949353591897\n",
      "max_depth:  20    min_sample_leaf:  20    score:  0.7622017859522857\n"
     ]
    }
   ],
   "source": [
    "#TODO\n",
    "from sklearn.model_selection import GridSearchCV\n",
    "from sklearn import svm\n",
    "\n",
    "parameters = {\"max_depth\":[1,2,3,4,5,6,7,8,9,10,15,20], \"min_samples_leaf\":[1,5,10,20]}\n",
    "tree = DecisionTreeClassifier()\n",
    "\n",
    "clf = GridSearchCV(tree, parameters)\n",
    "clf.fit(X_train, y_train)\n",
    "\n",
    "print(\"\\n\\nBEST PARAMS\",clf.best_params_)\n",
    "print(\"BEST SCORE\",clf.best_score_)\n",
    "print(\"\\n\\nAll:\")\n",
    "for r in range(len(clf.cv_results_['mean_test_score'])):\n",
    "    print(\"max_depth: \", clf.cv_results_[\"param_max_depth\"][r], \"   min_sample_leaf: \",clf.cv_results_[\"param_min_samples_leaf\"][r], \"   score: \",clf.cv_results_['mean_test_score'][r])\n",
    "\n",
    "\n",
    "\n"
   ]
  },
  {
   "cell_type": "markdown",
   "metadata": {},
   "source": [
    "#### d) Modelltraining mit den optimalen Parametern"
   ]
  },
  {
   "cell_type": "markdown",
   "metadata": {},
   "source": [
    "Trainieren Sie nun einen DecisionTreeClassifier mit den optimalen Parametern auf dem Trainingsdatensatz und werten Sie die Accuracy auf dem Trainings- und auf dem Testdatensatz aus. Was beobachten Sie? Vergleichen Sie mit den Ergebnissen aus Teilaufgabe c)"
   ]
  },
  {
   "cell_type": "code",
   "execution_count": 82,
   "metadata": {},
   "outputs": [
    {
     "name": "stdout",
     "output_type": "stream",
     "text": [
      "test:  0.7467532467532467\n",
      "train:  0.8127035830618893\n"
     ]
    }
   ],
   "source": [
    "#TODO\n",
    "clf = DecisionTreeClassifier(max_depth = clf.best_params_[\"max_depth\"], min_samples_leaf = clf.best_params_[\"min_samples_leaf\"])\n",
    "clf = clf.fit(X_train, y_train)\n",
    "\n",
    "score_test = clf.score(X_test, y_test)\n",
    "score_train = clf.score(X_train, y_train)\n",
    "\n",
    "print(\"test: \", score_test)\n",
    "print(\"train: \", score_train)"
   ]
  },
  {
   "cell_type": "markdown",
   "metadata": {},
   "source": [
    "#### e) Modellbewertung: Verzerrung und Varianz"
   ]
  },
  {
   "cell_type": "markdown",
   "metadata": {},
   "source": [
    "Untersuchen/Bewerten Sie die Verzerrung und die Varianz des resultierenden Modells."
   ]
  },
  {
   "cell_type": "code",
   "execution_count": 100,
   "metadata": {},
   "outputs": [],
   "source": [
    "\n",
    "#TODO (hier muss ggf. kein neuer Code geschrieben werden)\n",
    "\n",
    "#Geringer Unterschied zwischen Train- und Testscore -> Geringe Varianz (keine Überanpassung -> gut für neue Daten geeignet)\n",
    "#Geringe Verzerrung, da Score hoch "
   ]
  },
  {
   "cell_type": "markdown",
   "metadata": {},
   "source": [
    "# Aufgabe 3: Regularisierung bei der polynomialen Regression"
   ]
  },
  {
   "cell_type": "markdown",
   "metadata": {},
   "source": [
    "#### Erzeugung von Zufallsdaten"
   ]
  },
  {
   "cell_type": "code",
   "execution_count": 192,
   "metadata": {},
   "outputs": [],
   "source": [
    "X = np.array([0, 1, 2, 2.5, 3, 3.6, 4, 4.7, 5])\n",
    "y = 0.5*X + 1 + 0.3*np.random.randn(len(X))\n",
    "\n",
    "X = X/np.max(X)\n",
    "y = y/np.max(y)"
   ]
  },
  {
   "cell_type": "markdown",
   "metadata": {},
   "source": [
    "#### Visualisierung der Datenpunkte"
   ]
  },
  {
   "cell_type": "code",
   "execution_count": 193,
   "metadata": {},
   "outputs": [
    {
     "data": {
      "text/plain": [
       "[<matplotlib.lines.Line2D at 0x1a159b93ac8>]"
      ]
     },
     "execution_count": 193,
     "metadata": {},
     "output_type": "execute_result"
    },
    {
     "data": {
      "image/png": "[encoded data removed]",
      "text/plain": [
       "<Figure size 432x288 with 1 Axes>"
      ]
     },
     "metadata": {
      "needs_background": "light"
     },
     "output_type": "display_data"
    }
   ],
   "source": [
    "import matplotlib.pyplot as plt\n",
    "plt.plot(X,y,'.')"
   ]
  },
  {
   "cell_type": "markdown",
   "metadata": {},
   "source": [
    "#### a) Polynomiale Regression: Parameterbestimmung durch Aufstellen und Lösen der Normalgleichungen"
   ]
  },
  {
   "cell_type": "markdown",
   "metadata": {},
   "source": [
    "Implementieren Sie eine Funktion namens **polyreg**, die die Parameter $\\vec{\\theta}=(\\theta_0,\\theta_1,\\ldots,\\theta_d)$ einer polynomialen Regression mit Hilfe eines Least-Squares-Ansatzes berechnet. Es soll also in Abhängigkeit vom Polynomgrad $d$ eine Modellfunktion der Form $f_{\\vec{\\theta}}(x)=\\theta_0+\\theta_1x+\\theta_2x^2+\\ldots+\\theta_dx^d$ bestimmt werden. Stellen Sie dazu die Normalgleichungen auf (s. Vorlesung über Lineare Regression) und lösen Sie diese."
   ]
  },
  {
   "cell_type": "code",
   "execution_count": 244,
   "metadata": {},
   "outputs": [],
   "source": [
    "#def polyreg(X, y, d, L):\n",
    "def polyreg(X, y, d):\n",
    "    \"\"\"\n",
    "    calculates the coefficients of a polynomial regression function \n",
    "    \n",
    "    Parameters:\n",
    "        X (array): training examples for the input variable (1-dimensional array)\n",
    "        y (array): output values corresponding to X (1-dimensional array)\n",
    "        d (int): degree of the polynomial to be fit\n",
    "        \n",
    "    Returns:\n",
    "        theta (array): coefficients of the regression function\n",
    "    \"\"\"\n",
    "    \n",
    "    #TODO\n",
    "    theta = 0\n",
    "    \n",
    "    X_m = np.ones((X.shape[0], d+1))    \n",
    "    for c in range(d+1):\n",
    "        X_m[:,c] = X ** c\n",
    "\n",
    "\n",
    "    \n",
    "    \n",
    "    X_mt = X_m.transpose()\n",
    "    inverted = np.linalg.inv(X_mt@X_m)\n",
    "    \n",
    "    theta = inverted@X_mt@y\n",
    "    \n",
    "    return theta\n",
    "\n"
   ]
  },
  {
   "cell_type": "code",
   "execution_count": 245,
   "metadata": {},
   "outputs": [],
   "source": [
    "theta = polyreg(X, y, 10)\n"
   ]
  },
  {
   "cell_type": "markdown",
   "metadata": {},
   "source": [
    "#### b) Modellanwendung"
   ]
  },
  {
   "cell_type": "markdown",
   "metadata": {},
   "source": [
    "Fitten Sie mit Hilfe der in a) implementierten Funktion ein Polynom 10. Grades an die gegebenen Daten. Zeichnen Sie das Polynom mit in die Grafik ein. Welche Beobachtung machen Sie?\n",
    "<br><br>\n",
    "Hinweis: mit der Funktion **numpy.polyval** kann man ein Polynom mit gegebenen Koeffizienten auswerten. Dazu muss ggf. die Reihenfolge des Parametervektors theta umgekehrt werden. Dies leistet die Funktion **numpy.flipud**"
   ]
  },
  {
   "cell_type": "code",
   "execution_count": 262,
   "metadata": {},
   "outputs": [
    {
     "data": {
      "text/plain": [
       "[<matplotlib.lines.Line2D at 0x1a15b3903c8>]"
      ]
     },
     "execution_count": 262,
     "metadata": {},
     "output_type": "execute_result"
    },
    {
     "data": {
      "image/png": "[encoded data removed]",
      "text/plain": [
       "<Figure size 432x288 with 1 Axes>"
      ]
     },
     "metadata": {
      "needs_background": "light"
     },
     "output_type": "display_data"
    }
   ],
   "source": [
    "#TODO\n",
    "theta = polyreg(X, y, 8)\n",
    "\n",
    "theta = np.flipud(theta)\n",
    "p = np.polyval(theta, X)\n",
    "\n",
    "plt.plot(X,y,'.')\n",
    "plt.plot(X,p)"
   ]
  },
  {
   "cell_type": "markdown",
   "metadata": {},
   "source": [
    "#### c) Regularisierung"
   ]
  },
  {
   "cell_type": "markdown",
   "metadata": {},
   "source": [
    "Erweitern Sie die in a) geschriebene Funktion, indem Sie Regularisierung \"einbauen\". Der Regularisierungsparameter L soll als zusätzliches Argument übergeben werden. Überlegen Sie sich zunächst, wie die Normalgleichungen für die regularisierte polynomiale Regression lauten. Testen Sie anschließend für L=0 und L=1000 die Funktion. Visualisieren Sie jeweils die resultierende Modellfunktion."
   ]
  },
  {
   "cell_type": "code",
   "execution_count": 286,
   "metadata": {},
   "outputs": [],
   "source": [
    "def polyreg(X, y, d, L):\n",
    "    \"\"\"\n",
    "    calculates the coefficients of a polynomial regression function \n",
    "    \n",
    "    Parameters:\n",
    "        X (array): training examples for the input variable (1-dimensional array)\n",
    "        y (array): output values corresponding to X (1-dimensional array)\n",
    "        d (int): degree of the polynomial to be fit\n",
    "        \n",
    "    Returns:\n",
    "        theta (array): coefficients of the regression function\n",
    "    \"\"\"\n",
    "    \n",
    "    #TODO\n",
    "    theta = 0\n",
    "    \n",
    "    X_m = np.ones((X.shape[0], d+1))    \n",
    "    for c in range(d+1):\n",
    "        X_m[:,c] = X ** c\n",
    "\n",
    "\n",
    "    I = np.identity(d+1)\n",
    "    \n",
    "    X_mt = X_m.transpose()\n",
    "    inverted = np.linalg.inv(X_mt@X_m+L*I)\n",
    "    \n",
    "    theta = inverted@X_mt@y\n",
    "    \n",
    "    return theta\n"
   ]
  },
  {
   "cell_type": "code",
   "execution_count": 293,
   "metadata": {},
   "outputs": [
    {
     "data": {
      "text/plain": [
       "[<matplotlib.lines.Line2D at 0x1a15cb0bd88>]"
      ]
     },
     "execution_count": 293,
     "metadata": {},
     "output_type": "execute_result"
    },
    {
     "data": {
      "image/png": "[encoded data removed]",
      "text/plain": [
       "<Figure size 432x288 with 1 Axes>"
      ]
     },
     "metadata": {
      "needs_background": "light"
     },
     "output_type": "display_data"
    }
   ],
   "source": [
    "#TODO\n",
    "#TODO\n",
    "theta = polyreg(X, y, 8, 1000)\n",
    "\n",
    "theta = np.flipud(theta)\n",
    "p = np.polyval(theta, X)\n",
    "\n",
    "plt.plot(X,y,'.')\n",
    "plt.plot(X,p)"
   ]
  },
  {
   "cell_type": "code",
   "execution_count": null,
   "metadata": {},
   "outputs": [],
   "source": []
  }
 ],
 "metadata": {
  "kernelspec": {
   "display_name": "Python 3",
   "language": "python",
   "name": "python3"
  },
  "language_info": {
   "codemirror_mode": {
    "name": "ipython",
    "version": 3
   },
   "file_extension": ".py",
   "mimetype": "text/x-python",
   "name": "python",
   "nbconvert_exporter": "python",
   "pygments_lexer": "ipython3",
   "version": "3.7.6"
  }
 },
 "nbformat": 4,
 "nbformat_minor": 2
}
