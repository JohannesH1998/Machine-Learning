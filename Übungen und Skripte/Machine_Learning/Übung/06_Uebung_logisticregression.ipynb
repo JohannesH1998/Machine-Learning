{
 "cells": [
  {
   "cell_type": "code",
   "execution_count": 1,
   "metadata": {},
   "outputs": [],
   "source": [
    "import pandas as pd\n",
    "import numpy as np"
   ]
  },
  {
   "cell_type": "markdown",
   "metadata": {},
   "source": [
    "## Aufgabe 1: Logistische Regression mit sklearn"
   ]
  },
  {
   "cell_type": "markdown",
   "metadata": {},
   "source": [
    "#### a) Daten vorbereiten"
   ]
  },
  {
   "cell_type": "markdown",
   "metadata": {},
   "source": [
    "Lesen Sie den Diabetes-Datensatz ein. Spalten Sie die Zielvariable (Outcome) ab und splitten Sie die Daten anschließend in Trainings- und Testdaten, sodass die Testdaten 30% der ursprünglichen Samples enthalen."
   ]
  },
  {
   "cell_type": "code",
   "execution_count": 2,
   "metadata": {},
   "outputs": [
    {
     "name": "stdout",
     "output_type": "stream",
     "text": [
      "<bound method NDFrame.head of      Pregnancies  Glucose  BloodPressure  SkinThickness  Insulin   BMI  \\\n",
      "0              6      148             72             35        0  33.6   \n",
      "1              1       85             66             29        0  26.6   \n",
      "2              8      183             64              0        0  23.3   \n",
      "3              1       89             66             23       94  28.1   \n",
      "4              0      137             40             35      168  43.1   \n",
      "..           ...      ...            ...            ...      ...   ...   \n",
      "763           10      101             76             48      180  32.9   \n",
      "764            2      122             70             27        0  36.8   \n",
      "765            5      121             72             23      112  26.2   \n",
      "766            1      126             60              0        0  30.1   \n",
      "767            1       93             70             31        0  30.4   \n",
      "\n",
      "     DiabetesPedigreeFunction  Age  Outcome  \n",
      "0                       0.627   50        1  \n",
      "1                       0.351   31        0  \n",
      "2                       0.672   32        1  \n",
      "3                       0.167   21        0  \n",
      "4                       2.288   33        1  \n",
      "..                        ...  ...      ...  \n",
      "763                     0.171   63        0  \n",
      "764                     0.340   27        0  \n",
      "765                     0.245   30        0  \n",
      "766                     0.349   47        1  \n",
      "767                     0.315   23        0  \n",
      "\n",
      "[768 rows x 9 columns]>\n"
     ]
    }
   ],
   "source": [
    "#TODO\n",
    "from sklearn.model_selection import train_test_split\n",
    "\n",
    "X = pd.read_csv('05_diabetes.csv')\n",
    "print(X.head)\n",
    "y = X.iloc[:,-1]\n",
    "X = X.drop(X.columns[-1], axis=1)\n",
    "X_train, X_test, y_train, y_test = train_test_split(X,y, test_size=0.1)"
   ]
  },
  {
   "cell_type": "markdown",
   "metadata": {},
   "source": [
    "#### b) Logistisches Regressionsmodell auf dem Datensatz trainieren"
   ]
  },
  {
   "cell_type": "markdown",
   "metadata": {},
   "source": [
    "Trainieren Sie in Logistisches Regressionsmodell auf den Trainingsdaten."
   ]
  },
  {
   "cell_type": "code",
   "execution_count": 3,
   "metadata": {},
   "outputs": [
    {
     "name": "stderr",
     "output_type": "stream",
     "text": [
      "C:\\Users\\Stefa\\anaconda3\\lib\\site-packages\\sklearn\\linear_model\\_logistic.py:940: ConvergenceWarning: lbfgs failed to converge (status=1):\n",
      "STOP: TOTAL NO. of ITERATIONS REACHED LIMIT.\n",
      "\n",
      "Increase the number of iterations (max_iter) or scale the data as shown in:\n",
      "    https://scikit-learn.org/stable/modules/preprocessing.html\n",
      "Please also refer to the documentation for alternative solver options:\n",
      "    https://scikit-learn.org/stable/modules/linear_model.html#logistic-regression\n",
      "  extra_warning_msg=_LOGISTIC_SOLVER_CONVERGENCE_MSG)\n"
     ]
    },
    {
     "data": {
      "text/plain": [
       "LogisticRegression(C=1.0, class_weight=None, dual=False, fit_intercept=True,\n",
       "                   intercept_scaling=1, l1_ratio=None, max_iter=100,\n",
       "                   multi_class='auto', n_jobs=None, penalty='l2',\n",
       "                   random_state=None, solver='lbfgs', tol=0.0001, verbose=0,\n",
       "                   warm_start=False)"
      ]
     },
     "execution_count": 3,
     "metadata": {},
     "output_type": "execute_result"
    }
   ],
   "source": [
    "#TODO\n",
    "from sklearn.linear_model import LogisticRegression\n",
    "clf = LogisticRegression()\n",
    "clf.fit(X_train, y_train)\n"
   ]
  },
  {
   "cell_type": "markdown",
   "metadata": {},
   "source": [
    "#### c) Modellanwendung -und -bewertung"
   ]
  },
  {
   "cell_type": "markdown",
   "metadata": {},
   "source": [
    "Wenden Sie das Modell auf den Trainingsdatensatz und auf den Testdatensatz an und berechnen Sie jeweils die Konfusionsmatrix, die Accuracy, die Precision und den Recall. "
   ]
  },
  {
   "cell_type": "code",
   "execution_count": 4,
   "metadata": {},
   "outputs": [
    {
     "name": "stdout",
     "output_type": "stream",
     "text": [
      "Konfusionsmatrix\n",
      "[[400  48]\n",
      " [104 139]]\n",
      "[[45  7]\n",
      " [ 9 16]] \n",
      "\n",
      "Accurancy\n",
      "0.7800289435600579\n",
      "0.7922077922077922 \n",
      "\n",
      "Precision\n",
      "0.7433155080213903\n",
      "0.6956521739130435 \n",
      "\n",
      "Recall\n",
      "0.5720164609053497\n",
      "0.64 \n",
      "\n"
     ]
    }
   ],
   "source": [
    "#TODO\n",
    "from sklearn.metrics import confusion_matrix\n",
    "from sklearn.metrics import accuracy_score\n",
    "from sklearn.metrics import precision_score\n",
    "from sklearn.metrics import recall_score\n",
    "\n",
    "\n",
    "y_train_true = y_train\n",
    "y_train_pred = clf.predict(X_train)\n",
    "\n",
    "y_test_true = y_test\n",
    "y_test_pred = clf.predict(X_test)\n",
    "\n",
    "conf_train = confusion_matrix(y_train_true, y_train_pred)\n",
    "conf_test = confusion_matrix(y_test_true, y_test_pred)\n",
    "\n",
    "acc_train = accuracy_score(y_train_true, y_train_pred)\n",
    "acc_test = accuracy_score(y_test_true, y_test_pred)\n",
    "\n",
    "prec_train = precision_score(y_train_true, y_train_pred)\n",
    "prec_test = precision_score(y_test_true, y_test_pred)\n",
    "\n",
    "rec_train = recall_score(y_train_true, y_train_pred)\n",
    "rec_test = recall_score(y_test_true, y_test_pred)\n",
    "\n",
    "print(\"Konfusionsmatrix\")\n",
    "print(conf_train)\n",
    "print(conf_test,\"\\n\")\n",
    "\n",
    "print(\"Accurancy\")\n",
    "print(acc_train)\n",
    "print(acc_test,\"\\n\")\n",
    "\n",
    "print(\"Precision\")\n",
    "print(prec_train)\n",
    "print(prec_test,\"\\n\")\n",
    "\n",
    "print(\"Recall\")\n",
    "print(rec_train)\n",
    "print(rec_test,\"\\n\")"
   ]
  },
  {
   "cell_type": "markdown",
   "metadata": {},
   "source": [
    "#### d) ROC-Kurve zeichnen"
   ]
  },
  {
   "cell_type": "markdown",
   "metadata": {},
   "source": [
    "Berechnen Sie die ROC-AUC-Scores für den Trainings- und den Testdatensatz und zeichen Sie die ROC-Kurven für den Trainings- und den Testdatensatz in ein gemeinsames Diagramm."
   ]
  },
  {
   "cell_type": "code",
   "execution_count": 5,
   "metadata": {},
   "outputs": [
    {
     "name": "stdout",
     "output_type": "stream",
     "text": [
      "Train:  0.7324368018812463\n",
      "Test:  0.7526923076923078\n"
     ]
    },
    {
     "data": {
      "image/png": "[encoded data removed]",
      "text/plain": [
       "<Figure size 432x288 with 1 Axes>"
      ]
     },
     "metadata": {
      "needs_background": "light"
     },
     "output_type": "display_data"
    }
   ],
   "source": [
    "#TODO\n",
    "from sklearn.metrics import roc_auc_score\n",
    "from sklearn.metrics import plot_roc_curve\n",
    "import matplotlib.pyplot as plt\n",
    "\n",
    "roc_train = roc_auc_score(y_train_true, y_train_pred)\n",
    "roc_test = roc_auc_score(y_test_true, y_test_pred)\n",
    "\n",
    "print(\"Train: \", roc_train)\n",
    "print(\"Test: \", roc_test)\n",
    "\n",
    "fig = plot_roc_curve(clf, X_train, y_train, name=\"train\")\n",
    "fig = plot_roc_curve(clf, X_test, y_test, ax=fig.ax_, name=\"test\")\n",
    "fig.figure_.suptitle(\"ROC curve comparison\")\n",
    "plt.show() "
   ]
  },
  {
   "cell_type": "markdown",
   "metadata": {},
   "source": [
    "#### e) Precision-Recall-Kurve zeichnen"
   ]
  },
  {
   "cell_type": "markdown",
   "metadata": {},
   "source": [
    "Zeichen Sie die Precision-Recall-Kurve für den Trainings- und den Testdatensatz in ein gemeinsames Diagramm."
   ]
  },
  {
   "cell_type": "code",
   "execution_count": 6,
   "metadata": {},
   "outputs": [
    {
     "data": {
      "image/png": "[encoded data removed]",
      "text/plain": [
       "<Figure size 432x288 with 1 Axes>"
      ]
     },
     "metadata": {
      "needs_background": "light"
     },
     "output_type": "display_data"
    }
   ],
   "source": [
    "#TODO\n",
    "from sklearn.metrics import plot_precision_recall_curve\n",
    "\n",
    "fig = plot_precision_recall_curve(clf, X_train, y_train, name=\"train\")\n",
    "fig = plot_precision_recall_curve(clf, X_test, y_test, ax=fig.ax_, name=\"test\")\n",
    "\n",
    "plt.show()"
   ]
  },
  {
   "cell_type": "markdown",
   "metadata": {},
   "source": [
    "#### f) Beurteilen Sie anhand der bisherigen Ergebnisse die Güte des Modells."
   ]
  },
  {
   "cell_type": "markdown",
   "metadata": {},
   "source": [
    "TODO"
   ]
  },
  {
   "cell_type": "markdown",
   "metadata": {},
   "source": [
    "## Aufgabe 2: Implementierung eines Logistischen Regressionsmodells"
   ]
  },
  {
   "cell_type": "markdown",
   "metadata": {},
   "source": [
    "In dieser Aufgabe soll ein Logistisches Regressionsmodell selbst implementiert werden und anhand des Iris-Datensatzes getestet werden."
   ]
  },
  {
   "cell_type": "markdown",
   "metadata": {},
   "source": [
    "#### Iris-Datensatz lesen"
   ]
  },
  {
   "cell_type": "code",
   "execution_count": 7,
   "metadata": {},
   "outputs": [],
   "source": [
    "from sklearn.datasets import load_iris\n",
    "X, y = load_iris(return_X_y=True)"
   ]
  },
  {
   "cell_type": "code",
   "execution_count": 8,
   "metadata": {},
   "outputs": [],
   "source": [
    "X = X[0:100,0:2]\n",
    "y = y[0:100].reshape(-1,1)"
   ]
  },
  {
   "cell_type": "markdown",
   "metadata": {},
   "source": [
    "#### a) Logistische Funktion"
   ]
  },
  {
   "cell_type": "markdown",
   "metadata": {},
   "source": [
    "Implementieren Sie die logistische Funktion $g(x)=\\frac{1}{1+e^{-x}}$"
   ]
  },
  {
   "cell_type": "code",
   "execution_count": 186,
   "metadata": {},
   "outputs": [],
   "source": [
    "import math\n",
    "def g(x):\n",
    "    g = (1)/(1+math.exp(-x))\n",
    "    return g"
   ]
  },
  {
   "cell_type": "markdown",
   "metadata": {},
   "source": [
    "#### b) Vektorisierte Modellfunktion"
   ]
  },
  {
   "cell_type": "markdown",
   "metadata": {},
   "source": [
    "Implementieren Sie eine (vektorisierte) Funktion, die die Modellfunktion $f_{\\vec{\\theta}}(x)=g(\\theta_0+\\theta_1x_1+\\ldots+\\theta_px_p)=g(\\vec{\\theta}^T\\vec{x})$ auf einem Datensatz bestehend aus $m$ Samples auswertet. Die Funktion soll den Vektor $\\vec{\\theta}=(\\theta_0,\\ldots,\\theta_p)^T\\in\\mathbb{R}^{p+1}$ und die Daten-Matrix $M=\\left(\\begin{array}{ll}1&x^{(1)}_1&\\ldots & x^{(1)}_p\\\\ 1 & x^{(2)}_1&\\ldots & x^{(2)}_p\\\\ \\vdots & \\vdots &&\\vdots \\\\ 1& x^{(m)}_1&\\ldots & x^{(m)}_p\\end{array}\\right)$ als Argumente haben."
   ]
  },
  {
   "cell_type": "code",
   "execution_count": 187,
   "metadata": {},
   "outputs": [],
   "source": [
    "def f(M, theta, p = 0):        \n",
    "        res = g(theta.T@M)\n",
    "        return np.asarray(res)"
   ]
  },
  {
   "cell_type": "markdown",
   "metadata": {},
   "source": [
    "#### c) Vektorisiertes Kostenfunktional"
   ]
  },
  {
   "cell_type": "markdown",
   "metadata": {},
   "source": [
    "Implementieren Sie das Kostenfunktional $J(\\vec{\\theta})= -\\frac{1}{m}\\sum_{i=1}^m y^{(i)}\\log\\left(f_{\\vec{\\theta}}(\\vec{x}^{(i)})\\right)+(1-y^{(i)})\\log\\left(1-f_{\\vec{\\theta}}(\\vec{x}^{(i)})\\right)$"
   ]
  },
  {
   "cell_type": "code",
   "execution_count": 188,
   "metadata": {},
   "outputs": [],
   "source": [
    "def J(M, y, theta):\n",
    "    m = M.shape[0]\n",
    "    j = -1/m*sum([y[i]*np.log(f(M[i, :]))+(1-y[i]*np.log(1-f(M[i,:]))) for i in range(m)])\n",
    "    return j"
   ]
  },
  {
   "cell_type": "markdown",
   "metadata": {},
   "source": [
    "#### d) Gradientenverfahren"
   ]
  },
  {
   "cell_type": "markdown",
   "metadata": {},
   "source": [
    "Implementieren Sie das Gradientenverfahren für die Logistische Regression"
   ]
  },
  {
   "cell_type": "code",
   "execution_count": 189,
   "metadata": {},
   "outputs": [],
   "source": [
    "\n",
    "def gradient_descent(M, y, theta, max_iter, tol):\n",
    "    \n",
    "    \"\"\"\n",
    "    Computes the weights of a logistic regression classifier using gradient descent\n",
    "        \n",
    "    Parameters:\n",
    "        M (array of shape m x p+1): extended matrix of training examples (see above)\n",
    "        y (array of shape m x 1): target values corresponding to X\n",
    "        theta (array of shape p+1 x 1): initial values for the weights\n",
    "        max_iter (int):  max number of iterations to be carried out\n",
    "        tol: the iteration is stopped if norm(update)<tol\n",
    "        \n",
    "    Returns:\n",
    "        theta (array of shape p+1 x 1): weights computed by gradient descent\n",
    "    \"\"\"\n",
    "\n",
    "    a = 0.1\n",
    "    m = M.shape[0]\n",
    "    \n",
    "    for x in range(max_iter):\n",
    "        new_theta = theta -(a/m) * sum([np.subtract(f(M[i,:], theta), y[i])*M[i,:] for i in range(m)])\n",
    "\n",
    "        new_theta = np.asarray([new_theta[0]]).T\n",
    "        delta = np.sum(np.absolute(np.subtract(new_theta, theta)))\n",
    "        theta = new_theta\n",
    "        \n",
    "        if delta < tol:\n",
    "            return theta\n",
    "        \n",
    "    return theta\n",
    "        \n",
    "\n",
    "    #TODO\n",
    "\n",
    "    "
   ]
  },
  {
   "cell_type": "markdown",
   "metadata": {},
   "source": [
    "#### e) Implementierung des Klassifikators für Logistische Regression"
   ]
  },
  {
   "cell_type": "markdown",
   "metadata": {},
   "source": [
    "Die folgende Klasse implementiert einen Klassifikator für Logistische Regression. Vervollständigen Sie die Methoden **predict_proba** und **predict**."
   ]
  },
  {
   "cell_type": "code",
   "execution_count": 190,
   "metadata": {},
   "outputs": [],
   "source": [
    "class MyLogisticRegressionClassifier:\n",
    "    \n",
    "    def __init__(self, max_iter=100):\n",
    "        self.theta = None\n",
    "        self.max_iter = max_iter\n",
    "    \n",
    "    def fit(self, X, y):\n",
    "        \"\"\"\n",
    "        Fits a Logistic regression classifier by employing gradient descent. The the resulting weights \n",
    "        are stored in self.theta\n",
    "        \n",
    "        Parameters:\n",
    "            X (array of shape m x p): matrix training examples\n",
    "            y (array of shape m x 1): target values corresponding to X\n",
    "        \"\"\"\n",
    "\n",
    "        m, p = X.shape\n",
    "        M = np.ones((m,p+1))\n",
    "        M[:,1:] = X\n",
    "\n",
    "        theta = np.zeros((p+1,1))\n",
    "        self.theta = gradient_descent(M, y, theta, self.max_iter, 1e-5)\n",
    "\n",
    "\n",
    "    def predict_proba(self, X):\n",
    "        \"\"\"\n",
    "        Predicts the class probabilities for the positive class for samples (rows) in X\n",
    "        \n",
    "        Parameters:\n",
    "            X (array of shape m x p): matrix containing the samples\n",
    "        \n",
    "        Returns:\n",
    "            y (array of shape m x 1): array containing the predicted class probabilities\n",
    "        \n",
    "        \"\"\"\n",
    "        m, p = X.shape\n",
    "        M = np.ones((m,p+1))\n",
    "        M[:,1:] = X\n",
    "        \n",
    "        proba = [float(f(M[i,:], self.theta)) for i in range(m)]\n",
    "        \n",
    "        return proba\n",
    "    \n",
    "    def predict(self, X):\n",
    "        \"\"\"\n",
    "        Predicts the class lables for all samples (rows) in X\n",
    "        \n",
    "        Parameters:\n",
    "            X (array of shape m x p): matrix containing the samples\n",
    "        \n",
    "        Returns:\n",
    "            y (array of shape m x 1): array containing predicted class labels\n",
    "        \n",
    "        \"\"\"\n",
    "        proba = self.predict_proba(X)        \n",
    "        pred = [round(p) for p in proba]\n",
    "        return pred"
   ]
  },
  {
   "cell_type": "markdown",
   "metadata": {},
   "source": [
    "#### f) Anwendung des Klassifikators"
   ]
  },
  {
   "cell_type": "markdown",
   "metadata": {},
   "source": [
    "Wenden Sie den Klassifikator auf den Iris-Datensatz an. Berechnen Sie die erzielte Accuracy auf dem gesamten Datensatz."
   ]
  },
  {
   "cell_type": "code",
   "execution_count": 191,
   "metadata": {},
   "outputs": [
    {
     "name": "stdout",
     "output_type": "stream",
     "text": [
      "0.99\n"
     ]
    }
   ],
   "source": [
    "#TODO\n",
    "custom_clf = MyLogisticRegressionClassifier()\n",
    "custom_clf.fit(X,y)\n",
    "pred = custom_clf.predict(X)\n",
    "\n",
    "acc = accuracy_score(y, pred)\n",
    "print(acc)\n"
   ]
  },
  {
   "cell_type": "markdown",
   "metadata": {},
   "source": [
    "#### g) Decision Boundary"
   ]
  },
  {
   "cell_type": "markdown",
   "metadata": {},
   "source": [
    "Zeichnen Sie in das folgende Diagramm den decision boundary ein."
   ]
  },
  {
   "cell_type": "code",
   "execution_count": 197,
   "metadata": {},
   "outputs": [
    {
     "name": "stderr",
     "output_type": "stream",
     "text": [
      "C:\\Users\\Stefa\\anaconda3\\lib\\site-packages\\sklearn\\utils\\validation.py:760: DataConversionWarning: A column-vector y was passed when a 1d array was expected. Please change the shape of y to (n_samples, ), for example using ravel().\n",
      "  y = column_or_1d(y, warn=True)\n"
     ]
    },
    {
     "data": {
      "text/plain": [
       "<matplotlib.legend.Legend at 0x1f58b90a248>"
      ]
     },
     "execution_count": 197,
     "metadata": {},
     "output_type": "execute_result"
    },
    {
     "data": {
      "image/png": "[encoded data removed]",
      "text/plain": [
       "<Figure size 432x288 with 1 Axes>"
      ]
     },
     "metadata": {
      "needs_background": "light"
     },
     "output_type": "display_data"
    }
   ],
   "source": [
    "import matplotlib.pyplot as plt\n",
    "\n",
    "%matplotlib inline\n",
    "\n",
    "from sklearn.linear_model import LogisticRegression\n",
    "clf = LogisticRegression()\n",
    "clf.fit(X, y)\n",
    "\n",
    "b = clf.intercept_[0]\n",
    "w1, w2 = clf.coef_.T\n",
    "c = -b/w2\n",
    "m = -w1/w2\n",
    "xmin, xmax = 4, 7\n",
    "ymin, ymax = 0, 5\n",
    "xd = np.array([xmin, xmax])\n",
    "yd = m*xd + c\n",
    "plt.plot(xd, yd, 'k', lw=1, ls='--')\n",
    "plt.fill_between(xd, yd, ymin, color='tab:blue', alpha=0.2)\n",
    "plt.fill_between(xd, yd, ymax, color='tab:orange', alpha=0.2)\n",
    "setosa = plt.scatter(X[0:50,0], X[0:50,1], c='r')\n",
    "versicolor = plt.scatter(X[50:100,0], X[50:100,1], c='b')\n",
    "\n",
    "plt.xlabel('sepal length')\n",
    "plt.ylabel('sepal width')\n",
    "plt.legend((setosa, versicolor), ('setosa', 'versicolor'))"
   ]
  },
  {
   "cell_type": "code",
   "execution_count": null,
   "metadata": {},
   "outputs": [],
   "source": []
  },
  {
   "cell_type": "code",
   "execution_count": null,
   "metadata": {},
   "outputs": [],
   "source": []
  }
 ],
 "metadata": {
  "kernelspec": {
   "display_name": "Python 3",
   "language": "python",
   "name": "python3"
  },
  "language_info": {
   "codemirror_mode": {
    "name": "ipython",
    "version": 3
   },
   "file_extension": ".py",
   "mimetype": "text/x-python",
   "name": "python",
   "nbconvert_exporter": "python",
   "pygments_lexer": "ipython3",
   "version": "3.7.6"
  }
 },
 "nbformat": 4,
 "nbformat_minor": 2
}
